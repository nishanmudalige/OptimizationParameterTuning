{
 "cells": [
  {
   "cell_type": "markdown",
   "id": "4347cdc3",
   "metadata": {},
   "source": [
    "## Felix's Contribution (You can also start running after this block)"
   ]
  },
  {
   "cell_type": "markdown",
   "id": "1381f62a",
   "metadata": {},
   "source": [
    "Varying the mem parameters using the domain parameter to get the domain of the values."
   ]
  },
  {
   "cell_type": "code",
   "execution_count": 1,
   "id": "d6e97d7a",
   "metadata": {},
   "outputs": [
    {
     "name": "stderr",
     "output_type": "stream",
     "text": [
      "\u001b[32m\u001b[1m  Activating\u001b[22m\u001b[39m project at `~/OptimizationParameterTuning/Julia Notebook`\n"
     ]
    },
    {
     "name": "stdout",
     "output_type": "stream",
     "text": [
      "\u001b[32m\u001b[1mStatus\u001b[22m\u001b[39m `~/OptimizationParameterTuning/Julia Notebook/Project.toml`\n",
      "  \u001b[90m[54578032] \u001b[39mADNLPModels v0.8.13\n",
      "  \u001b[90m[6e4b80f9] \u001b[39mBenchmarkTools v1.6.0\n",
      "  \u001b[90m[336ed68f] \u001b[39mCSV v0.10.15\n",
      "  \u001b[90m[a93c6f00] \u001b[39mDataFrames v1.8.0\n",
      "  \u001b[90m[7073ff75] \u001b[39mIJulia v1.30.4\n",
      "  \u001b[90m[10dff2fc] \u001b[39mJSOSolvers v0.14.3\n",
      "  \u001b[90m[ed6ae0be] \u001b[39mJSOSuite v0.3.0\n",
      "  \u001b[90m[a4795742] \u001b[39mNLPModels v0.21.5\n",
      "  \u001b[90m[5049e819] \u001b[39mOptimizationProblems v0.9.2\n",
      "  \u001b[90m[ff4d7338] \u001b[39mSolverCore v0.3.8\n",
      "  \u001b[90m[d076d87d] \u001b[39mSolverParameters v0.1.2\n"
     ]
    },
    {
     "name": "stderr",
     "output_type": "stream",
     "text": [
      "\u001b[32m\u001b[1m    Updating\u001b[22m\u001b[39m registry at `~/.julia/registries/General.toml`\n",
      "\u001b[32m\u001b[1m  No Changes\u001b[22m\u001b[39m to `~/OptimizationParameterTuning/Julia Notebook/Project.toml`\n",
      "\u001b[32m\u001b[1m  No Changes\u001b[22m\u001b[39m to `~/OptimizationParameterTuning/Julia Notebook/Manifest.toml`\n"
     ]
    },
    {
     "name": "stdout",
     "output_type": "stream",
     "text": [
      "\u001b[32m\u001b[1mStatus\u001b[22m\u001b[39m `~/OptimizationParameterTuning/Julia Notebook/Project.toml`\n",
      "  \u001b[90m[54578032] \u001b[39mADNLPModels v0.8.13\n",
      "  \u001b[90m[6e4b80f9] \u001b[39mBenchmarkTools v1.6.0\n",
      "  \u001b[90m[336ed68f] \u001b[39mCSV v0.10.15\n",
      "  \u001b[90m[a93c6f00] \u001b[39mDataFrames v1.8.0\n",
      "  \u001b[90m[7073ff75] \u001b[39mIJulia v1.30.4\n",
      "  \u001b[90m[10dff2fc] \u001b[39mJSOSolvers v0.14.3\n",
      "  \u001b[90m[ed6ae0be] \u001b[39mJSOSuite v0.3.0\n",
      "  \u001b[90m[a4795742] \u001b[39mNLPModels v0.21.5\n",
      "  \u001b[90m[5049e819] \u001b[39mOptimizationProblems v0.9.2\n",
      "  \u001b[90m[ff4d7338] \u001b[39mSolverCore v0.3.8\n",
      "  \u001b[90m[d076d87d] \u001b[39mSolverParameters v0.1.2\n"
     ]
    }
   ],
   "source": [
    "using Pkg\n",
    "Pkg.activate(\".\")\n",
    "Pkg.status()\n",
    "Pkg.instantiate()\n",
    "Pkg.update()\n",
    "Pkg.status()"
   ]
  },
  {
   "cell_type": "code",
   "execution_count": null,
   "id": "d262223e",
   "metadata": {},
   "outputs": [
    {
     "name": "stdout",
     "output_type": "stream",
     "text": [
      "Running (OptimizationProblems.ADNLPProblems.eval(NZF1))() with mem=1\n",
      "Running (OptimizationProblems.ADNLPProblems.eval(NZF1))() with mem=2\n",
      "Running (OptimizationProblems.ADNLPProblems.eval(NZF1))() with mem=3\n",
      "Running (OptimizationProblems.ADNLPProblems.eval(NZF1))() with mem=4\n",
      "Running (OptimizationProblems.ADNLPProblems.eval(NZF1))() with mem=5\n",
      "Running (OptimizationProblems.ADNLPProblems.eval(NZF1))() with mem=6\n"
     ]
    }
   ],
   "source": [
    "using BenchmarkTools\n",
    "using CSV, DataFrames\n",
    "using Random\n",
    "using OptimizationProblems\n",
    "using OptimizationProblems.ADNLPProblems # https://github.com/JuliaSmoothOptimizers/OptimizationProblems.jl\n",
    "                                         # contains a test set of problems of type ADNLPModel\n",
    "using NLPModels # see https://github.com/JuliaSmoothOptimizers/NLPModels.jl, it defines an abstract API to access a continuous optimization problem\n",
    "using ADNLPModels # see https://github.com/JuliaSmoothOptimizers/ADNLPModels.jl\n",
    "                  # is a concrete implementation of the ty\n",
    "using SolverParameters # Define the main structure to handle the algorithm's parameters\n",
    "using JSOSolvers\n",
    "\n",
    "nlp = OptimizationProblems.ADNLPProblems.arglina(matrix_free = true) # is one of them\n",
    "meta = OptimizationProblems.meta\n",
    "problem_names = meta[meta.contype .== :unconstrained .&& .!meta.has_bounds .&& meta.nvar .>= 5, :name]; # LBFGS is an algorithm to solve unconstrained problems\n",
    "                                                                   # For this example, we select only problems of size up to 10.\n",
    "problems = [Meta.parse(\"OptimizationProblems.ADNLPProblems.eval($problem)()\") for problem ∈ problem_names]; # https://jso.dev/OptimizationProblems.jl/dev/benchmark/                                                \n",
    "filename = \"./results/lbfgs.csv\"\n",
    "df = DataFrame(\n",
    "                :status => Symbol[],\n",
    "                :name => String[],\n",
    "                :solver => String[],\n",
    "                :mem => Int[],\n",
    "                :nvar => Int[],\n",
    "                :time => Float64[],\n",
    "                :memory => Float64[],\n",
    "                :nvmops => Int[],\n",
    "                :neval_obj => Int[],\n",
    "                :neval_grad => Int[]\n",
    "            )\n",
    "\n",
    "\n",
    "# load from CSV file\n",
    "completed = Set{Tuple{String, String, Int}}()\n",
    "if isfile(filename) && filesize(filename) > 0\n",
    "    df_completed = CSV.read(\"filename\", DataFrame)\n",
    "    completed = Set(zip(df_completed.name, df_completed.solver, df_completed.mem))\n",
    "end\n",
    "\n",
    "i = 0\n",
    "for pb_expr in problems\n",
    "    nlp = eval(pb_expr)\n",
    "    i += 1\n",
    "    param_set = JSOSolvers.LBFGSParameterSet(nlp)\n",
    "    r = domain(param_set.mem)\n",
    "    problem = nlp.meta.name\n",
    "    solver = \"LBFGSSolver\"\n",
    "    for mem in r.lower:r.upper\n",
    "        key = (problem, solver, mem)\n",
    "        if key in completed\n",
    "            @info \"Skip $key — already seen\"\n",
    "            continue\n",
    "        else\n",
    "            reset!(nlp)\n",
    "            println(\"Running $pb_expr with mem=$mem\")\n",
    "            try\n",
    "                bench = @benchmark JSOSolvers.lbfgs($nlp; mem = $mem)\n",
    "                stats = JSOSolvers.lbfgs(nlp; mem = mem)\n",
    "                push!(df, (\n",
    "                            status = stats.status, \n",
    "                            name = problem,\n",
    "                            solver = solver,\n",
    "                            mem = mem,\n",
    "                            nvar = nlp.meta.nvar, \n",
    "                            time = minimum(bench).time,\n",
    "                            memory = minimum(bench).memory, \n",
    "                            nvmops = stats.solver_specific[:nprod],\n",
    "                            neval_obj = nlp.counters.neval_obj,\n",
    "                            neval_grad = nlp.counters.neval_grad\n",
    "                        )\n",
    "                    )\n",
    "                push!(completed, (problem, solver, mem))\n",
    "            catch e\n",
    "                @info \"Solver failed on $(nlp.meta.name): $e\"\n",
    "                break\n",
    "            end\n",
    "        end\n",
    "        CSV.write(filename, DataFrame([last(df)]); append=true)\n",
    "    end\n",
    "end\n"
   ]
  }
 ],
 "metadata": {
  "kernelspec": {
   "display_name": "Julia 1.11.7",
   "language": "julia",
   "name": "julia-1.11"
  },
  "language_info": {
   "file_extension": ".jl",
   "mimetype": "application/julia",
   "name": "julia",
   "version": "1.11.7"
  }
 },
 "nbformat": 4,
 "nbformat_minor": 5
}
