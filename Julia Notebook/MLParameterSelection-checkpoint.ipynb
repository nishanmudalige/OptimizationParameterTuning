{
 "cells": [
  {
   "cell_type": "code",
   "execution_count": null,
   "id": "1a199e49-3ff1-40db-b33e-f3712acb4fc2",
   "metadata": {},
   "outputs": [],
   "source": [
    "using Pkg\n",
    "Pkg.activate(\".\")"
   ]
  },
  {
   "cell_type": "code",
   "execution_count": null,
   "id": "935168d1-78ab-4775-862e-b8b02121a279",
   "metadata": {},
   "outputs": [],
   "source": [
    "Pkg.status()\n",
    "Pkg.instantiate()"
   ]
  },
  {
   "cell_type": "code",
   "execution_count": null,
   "id": "dedf973f-9a01-4134-9770-8072533eb11d",
   "metadata": {},
   "outputs": [],
   "source": [
    "Pkg.update()"
   ]
  },
  {
   "cell_type": "code",
   "execution_count": null,
   "id": "c58acd1b-034d-4e0b-b5c6-50bed5704d19",
   "metadata": {},
   "outputs": [],
   "source": [
    "Pkg.status()"
   ]
  },
  {
   "cell_type": "markdown",
   "id": "533c4460-96bc-4a2e-a892-9b0a92f70773",
   "metadata": {},
   "source": [
    "## Optimization problem modelisation"
   ]
  },
  {
   "cell_type": "code",
   "execution_count": null,
   "id": "a81ca0ad-0887-420f-a980-71aa21ecbdc8",
   "metadata": {},
   "outputs": [],
   "source": [
    "using NLPModels # see https://github.com/JuliaSmoothOptimizers/NLPModels.jl, it defines an abstract API to access a continuous optimization problem"
   ]
  },
  {
   "cell_type": "code",
   "execution_count": null,
   "id": "905091eb-4a3d-477d-afdc-10766d0155db",
   "metadata": {},
   "outputs": [],
   "source": [
    "@doc AbstractNLPModel"
   ]
  },
  {
   "cell_type": "code",
   "execution_count": null,
   "id": "bb7eb0ad-3fda-450c-8adc-d855e99602f4",
   "metadata": {},
   "outputs": [],
   "source": [
    "using ADNLPModels # see https://github.com/JuliaSmoothOptimizers/ADNLPModels.jl\n",
    "                  # is a concrete implementation of the ty"
   ]
  },
  {
   "cell_type": "code",
   "execution_count": null,
   "id": "82152b8d-da8c-4658-a0e6-f374414400f0",
   "metadata": {},
   "outputs": [],
   "source": [
    "@doc ADNLPModel"
   ]
  },
  {
   "cell_type": "code",
   "execution_count": null,
   "id": "efe11d78-3e3d-4839-9e44-00030c040758",
   "metadata": {},
   "outputs": [],
   "source": [
    "using OptimizationProblems\n",
    "using OptimizationProblems.ADNLPProblems # https://github.com/JuliaSmoothOptimizers/OptimizationProblems.jl\n",
    "                                         # contains a test set of problems of type ADNLPModel"
   ]
  },
  {
   "cell_type": "code",
   "execution_count": null,
   "id": "18780905-b5e3-46aa-95b6-a156e3257571",
   "metadata": {},
   "outputs": [],
   "source": [
    "nlp = OptimizationProblems.ADNLPProblems.arglina(matrix_free = true) # is one of them"
   ]
  },
  {
   "cell_type": "code",
   "execution_count": null,
   "id": "b574c53d-51b7-4e93-94a8-27d8f14e9de9",
   "metadata": {},
   "outputs": [],
   "source": [
    "OptimizationProblems.meta # is a DataFrame that allows us to check some information on the test problems without loading them"
   ]
  },
  {
   "cell_type": "markdown",
   "id": "944b669f-455f-48a0-a76b-bcedabd12769",
   "metadata": {},
   "source": [
    "We can also explore the `fieldnames` of a datatype to see what data it contains"
   ]
  },
  {
   "cell_type": "code",
   "execution_count": null,
   "id": "d85ad25e-b2e9-4e24-a128-d50421b3ac3b",
   "metadata": {},
   "outputs": [],
   "source": [
    "fieldnames(typeof(nlp))"
   ]
  },
  {
   "cell_type": "code",
   "execution_count": null,
   "id": "96152178-56a1-47fe-a1e5-d900c1880f6b",
   "metadata": {},
   "outputs": [],
   "source": [
    "fieldnames(typeof(nlp.meta))"
   ]
  },
  {
   "cell_type": "markdown",
   "id": "5f010778-7e10-406d-ab41-4ec1f4b2b5fa",
   "metadata": {},
   "source": [
    "## Optimization problem solver"
   ]
  },
  {
   "cell_type": "code",
   "execution_count": null,
   "id": "7f6c01d7-0aeb-4a71-83cd-d006855c84ef",
   "metadata": {},
   "outputs": [],
   "source": [
    "using JSOSuite # see https://github.com/JuliaSmoothOptimizers/JSOSuite.jl\n",
    "               # is a wrapper to centralize all the solvers in JuliaSmoothOptimizers"
   ]
  },
  {
   "cell_type": "code",
   "execution_count": null,
   "id": "e2c55916-7e08-4b20-b3a8-5502e36c328d",
   "metadata": {},
   "outputs": [],
   "source": [
    "JSOSuite.optimizers # is a DataFrame that present the different solvers and some of their characteristics"
   ]
  },
  {
   "cell_type": "code",
   "execution_count": null,
   "id": "c89f7513-b76c-4e07-9d21-d15bf5c3ac73",
   "metadata": {},
   "outputs": [],
   "source": [
    "JSOSuite.optimizers[JSOSuite.optimizers.name .== \"LBFGS\", :] # In this project, we will focus on L-BFGS algorithm."
   ]
  },
  {
   "cell_type": "code",
   "execution_count": null,
   "id": "937319d6-f2a7-43d2-8c9c-f8982ffd07a5",
   "metadata": {},
   "outputs": [],
   "source": [
    "using SolverParameters # Define the main structure to handle the algorithm's parameters\n",
    "using JSOSolvers"
   ]
  },
  {
   "cell_type": "code",
   "execution_count": null,
   "id": "5376fa03-8166-4896-88fa-d43b006cca87",
   "metadata": {},
   "outputs": [],
   "source": [
    "param_set = JSOSolvers.LBFGSParameterSet(nlp)"
   ]
  },
  {
   "cell_type": "markdown",
   "id": "794aea3c-e8b7-48f8-9094-f5440721220a",
   "metadata": {},
   "source": [
    "By checking the fields inside this structure we see that there are three parameters `mem`, `τ₁` and `bk_max`."
   ]
  },
  {
   "cell_type": "code",
   "execution_count": null,
   "id": "1ab3afe0-32da-4e00-a8dd-67011d79d45e",
   "metadata": {},
   "outputs": [],
   "source": [
    "fieldnames(typeof(param_set))"
   ]
  },
  {
   "cell_type": "code",
   "execution_count": null,
   "id": "1d39e316-3c42-4419-8651-8095ce40c4b8",
   "metadata": {},
   "outputs": [],
   "source": [
    "typeof(param_set.mem)"
   ]
  },
  {
   "cell_type": "markdown",
   "id": "5de88d94-9258-40da-a270-cb53a6cbb54e",
   "metadata": {},
   "source": [
    "By checking the domain of this parameter, we can see that it must be an integer between 5 and 20."
   ]
  },
  {
   "cell_type": "code",
   "execution_count": null,
   "id": "b863cbf9-d3fe-4bd0-b171-54baac0de375",
   "metadata": {},
   "outputs": [],
   "source": [
    "d = domain(param_set.mem)\n",
    "typeof(d)\n",
    "supertypes(typeof(d))\n",
    "fieldnames(typeof(d))"
   ]
  },
  {
   "cell_type": "code",
   "execution_count": null,
   "id": "46319346",
   "metadata": {},
   "outputs": [],
   "source": [
    "methodswith(IntegerRange{Int64})"
   ]
  },
  {
   "cell_type": "code",
   "execution_count": null,
   "id": "046d5c69-5ce1-4624-bc98-ddcde3fde8c1",
   "metadata": {},
   "outputs": [],
   "source": [
    "stats = JSOSolvers.lbfgs(nlp; verbose = 1)"
   ]
  },
  {
   "cell_type": "code",
   "execution_count": null,
   "id": "eef20c27-92e3-470b-9e16-0e7e9a0dbb3e",
   "metadata": {},
   "outputs": [],
   "source": [
    "using SolverCore # Define the type GenericExecutionStats that is returned by all solvers\n",
    "fieldnames(typeof(stats))"
   ]
  },
  {
   "cell_type": "code",
   "execution_count": null,
   "id": "1fa4091f",
   "metadata": {},
   "outputs": [],
   "source": [
    "propertynames(typeof(stats.solver_specific))"
   ]
  },
  {
   "cell_type": "code",
   "execution_count": null,
   "id": "b7f027a7-7a9c-4225-9535-7801d607524b",
   "metadata": {},
   "outputs": [],
   "source": [
    "@doc GenericExecutionStats"
   ]
  },
  {
   "cell_type": "code",
   "execution_count": null,
   "id": "8d267f52-478a-483b-a309-4d4d3df9d13b",
   "metadata": {},
   "outputs": [],
   "source": [
    "@doc JSOSolvers.lbfgs"
   ]
  },
  {
   "cell_type": "markdown",
   "id": "e44ed503-8c33-4426-9737-0d36db546957",
   "metadata": {},
   "source": [
    "## Loop over the problems"
   ]
  },
  {
   "cell_type": "markdown",
   "id": "be92733e-2203-41f2-a60b-cc19c17b12c8",
   "metadata": {},
   "source": [
    "First, we select a subset of the problems"
   ]
  },
  {
   "cell_type": "code",
   "execution_count": null,
   "id": "79c99beb-061f-4308-8b40-2fdca57387a1",
   "metadata": {},
   "outputs": [],
   "source": [
    "meta = OptimizationProblems.meta\n",
    "problem_names = meta[meta.contype .== :unconstrained .&& .!meta.has_bounds .&& meta.nvar .<= 10, :name]; # LBFGS is an algorithm to solve unconstrained problems\n",
    "                                                                   # For this example, we select only problems of size up to 10."
   ]
  },
  {
   "cell_type": "code",
   "execution_count": null,
   "id": "9e525eb6-38c6-46ab-83df-7cfeda571c70",
   "metadata": {},
   "outputs": [],
   "source": [
    "problems = [Meta.parse(\"OptimizationProblems.ADNLPProblems.eval($problem)()\") for problem ∈ problem_names]; # https://jso.dev/OptimizationProblems.jl/dev/benchmark/"
   ]
  },
  {
   "cell_type": "code",
   "execution_count": null,
   "id": "576c4b49-2915-4002-872c-b93b498b0e4d",
   "metadata": {},
   "outputs": [],
   "source": [
    "using DataFrames # we will use a DataFrame to store our results\n",
    "df = DataFrame()"
   ]
  },
  {
   "cell_type": "code",
   "execution_count": null,
   "id": "758ad6ed",
   "metadata": {},
   "outputs": [],
   "source": [
    "fieldnames(typeof(nlp.meta))"
   ]
  },
  {
   "cell_type": "code",
   "execution_count": null,
   "id": "43be1caf",
   "metadata": {},
   "outputs": [],
   "source": [
    "fieldnames(typeof(nlp))"
   ]
  },
  {
   "cell_type": "code",
   "execution_count": null,
   "id": "f504fb56",
   "metadata": {},
   "outputs": [],
   "source": [
    "fieldnames(typeof(nlp.counters))"
   ]
  },
  {
   "cell_type": "code",
   "execution_count": null,
   "id": "228d8e16-1db7-463e-bc79-53a40a9f4f73",
   "metadata": {},
   "outputs": [],
   "source": [
    "# i = 0\n",
    "# for pb_expr in problems\n",
    "#     nlp = eval(pb_expr)\n",
    "#     i += 1\n",
    "#     @info \"($i / $(length(problems)) Number of variables of problem $(nlp.meta.name) is $(nlp.meta.nvar)\"\n",
    "#     mem = 5\n",
    "#     try\n",
    "#     stats = JSOSolvers.lbfgs(nlp; mem = 5)\n",
    "#     push!(df, (; status = stats.status, name = nlp.meta.name, nvar = nlp.meta.nvar))\n",
    "#     catch e\n",
    "#         @info \"Solver failed on $(nlp.meta.name): $e\"\n",
    "#     end\n",
    "# end"
   ]
  },
  {
   "cell_type": "code",
   "execution_count": null,
   "id": "bc7801df-0c43-4181-92e9-01f91f48a8ea",
   "metadata": {},
   "outputs": [],
   "source": [
    "df; # contains the result"
   ]
  },
  {
   "cell_type": "code",
   "execution_count": null,
   "id": "241fd8ec-bc0d-424d-a4b9-59b1556e303d",
   "metadata": {},
   "outputs": [],
   "source": [
    "# unique(df[!, :status]) # :first_order is a success, :unbounded too\n",
    "#                        # :max_time may indicate that we should run the algorithms with `max_time` greater than default."
   ]
  },
  {
   "cell_type": "code",
   "execution_count": null,
   "id": "e2c7d79e",
   "metadata": {},
   "outputs": [],
   "source": [
    "import Pkg\n",
    "\n",
    "function ensure(pkgs::Vector{String})\n",
    "    for pkg in pkgs\n",
    "        if !haskey(Pkg.project().dependencies, pkg)\n",
    "            @info \"Installing $pkg...\"\n",
    "            Pkg.add(pkg)\n",
    "        end\n",
    "    end\n",
    "end\n",
    "\n",
    "ensure([\"CSV\", \"DataFrames\", \"BenchmarkTools\"])\n",
    "using CSV, DataFrames, BenchmarkTools\n"
   ]
  },
  {
   "cell_type": "markdown",
   "id": "e24a946e",
   "metadata": {},
   "source": [
    "## Felix's Contribution (You can also start running after this block)"
   ]
  },
  {
   "cell_type": "markdown",
   "id": "a967adcc",
   "metadata": {},
   "source": [
    "Varying the mem parameters using the domain parameter to get the domain of the values."
   ]
  },
  {
   "cell_type": "code",
   "execution_count": 5,
   "id": "916dd76f",
   "metadata": {},
   "outputs": [
    {
     "name": "stderr",
     "output_type": "stream",
     "text": [
      "\u001b[32m\u001b[1m  Activating\u001b[22m\u001b[39m project at `~/OptimizationParameterTuning/Julia Notebook`\n"
     ]
    },
    {
     "name": "stdout",
     "output_type": "stream",
     "text": [
      "\u001b[32m\u001b[1mStatus\u001b[22m\u001b[39m `~/OptimizationParameterTuning/Julia Notebook/Project.toml`\n",
      "  \u001b[90m[54578032] \u001b[39mADNLPModels v0.8.13\n",
      "  \u001b[90m[6e4b80f9] \u001b[39mBenchmarkTools v1.6.0\n",
      "  \u001b[90m[336ed68f] \u001b[39mCSV v0.10.15\n",
      "  \u001b[90m[a93c6f00] \u001b[39mDataFrames v1.8.0\n",
      "  \u001b[90m[7073ff75] \u001b[39mIJulia v1.30.4\n",
      "  \u001b[90m[10dff2fc] \u001b[39mJSOSolvers v0.14.3\n",
      "  \u001b[90m[ed6ae0be] \u001b[39mJSOSuite v0.3.0\n",
      "  \u001b[90m[a4795742] \u001b[39mNLPModels v0.21.5\n",
      "  \u001b[90m[5049e819] \u001b[39mOptimizationProblems v0.9.2\n",
      "  \u001b[90m[ff4d7338] \u001b[39mSolverCore v0.3.8\n",
      "  \u001b[90m[d076d87d] \u001b[39mSolverParameters v0.1.2\n"
     ]
    },
    {
     "name": "stderr",
     "output_type": "stream",
     "text": [
      "\u001b[32m\u001b[1m    Updating\u001b[22m\u001b[39m registry at `~/.julia/registries/General.toml`\n",
      "\u001b[32m\u001b[1m  No Changes\u001b[22m\u001b[39m to `~/OptimizationParameterTuning/Julia Notebook/Project.toml`\n",
      "\u001b[32m\u001b[1m  No Changes\u001b[22m\u001b[39m to `~/OptimizationParameterTuning/Julia Notebook/Manifest.toml`\n"
     ]
    },
    {
     "name": "stdout",
     "output_type": "stream",
     "text": [
      "\u001b[32m\u001b[1mStatus\u001b[22m\u001b[39m `~/OptimizationParameterTuning/Julia Notebook/Project.toml`\n",
      "  \u001b[90m[54578032] \u001b[39mADNLPModels v0.8.13\n",
      "  \u001b[90m[6e4b80f9] \u001b[39mBenchmarkTools v1.6.0\n",
      "  \u001b[90m[336ed68f] \u001b[39mCSV v0.10.15\n",
      "  \u001b[90m[a93c6f00] \u001b[39mDataFrames v1.8.0\n",
      "  \u001b[90m[7073ff75] \u001b[39mIJulia v1.30.4\n",
      "  \u001b[90m[10dff2fc] \u001b[39mJSOSolvers v0.14.3\n",
      "  \u001b[90m[ed6ae0be] \u001b[39mJSOSuite v0.3.0\n",
      "  \u001b[90m[a4795742] \u001b[39mNLPModels v0.21.5\n",
      "  \u001b[90m[5049e819] \u001b[39mOptimizationProblems v0.9.2\n",
      "  \u001b[90m[ff4d7338] \u001b[39mSolverCore v0.3.8\n",
      "  \u001b[90m[d076d87d] \u001b[39mSolverParameters v0.1.2\n"
     ]
    }
   ],
   "source": [
    "using Pkg\n",
    "Pkg.activate(\".\")\n",
    "Pkg.status()\n",
    "Pkg.instantiate()\n",
    "Pkg.update()\n",
    "Pkg.status()"
   ]
  },
  {
   "cell_type": "code",
   "execution_count": null,
   "id": "401c86d6",
   "metadata": {},
   "outputs": [
    {
     "name": "stdout",
     "output_type": "stream",
     "text": [
      "Running (OptimizationProblems.ADNLPProblems.eval(AMPGO02))() with mem=1\n",
      "Running (OptimizationProblems.ADNLPProblems.eval(AMPGO02))() with mem=2\n",
      "Running (OptimizationProblems.ADNLPProblems.eval(AMPGO02))() with mem=3\n",
      "Running (OptimizationProblems.ADNLPProblems.eval(AMPGO02))() with mem=4\n",
      "Running (OptimizationProblems.ADNLPProblems.eval(AMPGO02))() with mem=5\n",
      "Running (OptimizationProblems.ADNLPProblems.eval(AMPGO02))() with mem=6\n",
      "Running (OptimizationProblems.ADNLPProblems.eval(AMPGO02))() with mem=7\n",
      "Running (OptimizationProblems.ADNLPProblems.eval(AMPGO02))() with mem=8\n",
      "Running (OptimizationProblems.ADNLPProblems.eval(AMPGO02))() with mem=9\n"
     ]
    },
    {
     "name": "stderr",
     "output_type": "stream",
     "text": [
      "\u001b[36m\u001b[1m[ \u001b[22m\u001b[39m\u001b[36m\u001b[1mInfo: \u001b[22m\u001b[39mSolver failed on AMPGO02: InterruptException()\n"
     ]
    },
    {
     "name": "stdout",
     "output_type": "stream",
     "text": [
      "Running (OptimizationProblems.ADNLPProblems.eval(AMPGO03))() with mem=1\n",
      "Running (OptimizationProblems.ADNLPProblems.eval(AMPGO03))() with mem=2\n"
     ]
    }
   ],
   "source": [
    "using BenchmarkTools\n",
    "using CSV, DataFrames\n",
    "using Random\n",
    "using OptimizationProblems\n",
    "using OptimizationProblems.ADNLPProblems # https://github.com/JuliaSmoothOptimizers/OptimizationProblems.jl\n",
    "                                         # contains a test set of problems of type ADNLPModel\n",
    "using NLPModels # see https://github.com/JuliaSmoothOptimizers/NLPModels.jl, it defines an abstract API to access a continuous optimization problem\n",
    "using ADNLPModels # see https://github.com/JuliaSmoothOptimizers/ADNLPModels.jl\n",
    "                  # is a concrete implementation of the ty\n",
    "using SolverParameters # Define the main structure to handle the algorithm's parameters\n",
    "using JSOSolvers\n",
    "\n",
    "nlp = OptimizationProblems.ADNLPProblems.arglina(matrix_free = true) # is one of them\n",
    "meta = OptimizationProblems.meta\n",
    "problem_names = meta[meta.contype .== :unconstrained .&& .!meta.has_bounds .&& meta.nvar .<= 10, :name]; # LBFGS is an algorithm to solve unconstrained problems\n",
    "                                                                   # For this example, we select only problems of size up to 10.\n",
    "problems = [Meta.parse(\"OptimizationProblems.ADNLPProblems.eval($problem)()\") for problem ∈ problem_names]; # https://jso.dev/OptimizationProblems.jl/dev/benchmark/                                                \n",
    "filename = \"./result.csv\"\n",
    "df = DataFrame(\n",
    "                :status => Symbol[],\n",
    "                :name => String[],\n",
    "                :nvar => Int[],\n",
    "                :solver => String[],\n",
    "                :mem => Int[],\n",
    "                :time => Float64[],\n",
    "                :memory => Float64[],\n",
    "                :nvmops => Int[],\n",
    "                :neval_obj => Int[],\n",
    "                :neval_grad => Int[]\n",
    "            )\n",
    "i = 0\n",
    "for pb_expr in problems\n",
    "    nlp = eval(pb_expr)\n",
    "    i += 1\n",
    "    param_set = JSOSolvers.LBFGSParameterSet(nlp)\n",
    "    r = domain(param_set.mem)\n",
    "    for mem in r.lower:r.upper\n",
    "        println(\"Running $pb_expr with mem=$mem\")\n",
    "        try\n",
    "            bench = @benchmark JSOSolvers.lbfgs($nlp; mem = $mem)\n",
    "            stats = JSOSolvers.lbfgs(nlp; mem = mem)\n",
    "            \n",
    "            problem = nlp.meta.name\n",
    "            solver = \"LBFGSSolver\"\n",
    "            # check if it already exists\n",
    "            already = !isempty(df) && any( (df.name .== problem) .&\n",
    "                (df.solver .== solver) .&\n",
    "                (df.mem .== mem) )\n",
    "            \n",
    "            if !already\n",
    "                push!(df, (\n",
    "                            status = stats.status, \n",
    "                            name = problem,\n",
    "                            nvar = nlp.meta.nvar, \n",
    "                            solver = solver,\n",
    "                            mem = mem,\n",
    "                            time = minimum(bench).time,\n",
    "                            memory = minimum(bench).memory, \n",
    "                            nvmops = stats.solver_specific[:nprod],\n",
    "                            neval_obj = nlp.counters.neval_obj,\n",
    "                            neval_grad = nlp.counters.neval_grad\n",
    "                        )\n",
    "                    )\n",
    "            end\n",
    "        catch e\n",
    "            @info \"Solver failed on $(nlp.meta.name): $e\"\n",
    "            break\n",
    "        end\n",
    "        if !isfile(filename) || filesize(filename) == 0\n",
    "                CSV.write(filename, DataFrame([last(df)]); append=true, header=true)\n",
    "            else\n",
    "                CSV.write(filename, DataFrame([last(df)]); append=true, header=false)\n",
    "            end\n",
    "        end\n",
    "    end\n",
    "end\n",
    "\n"
   ]
  }
 ],
 "metadata": {
  "kernelspec": {
   "display_name": "Julia 1.11.6",
   "language": "julia",
   "name": "julia-1.11"
  },
  "language_info": {
   "file_extension": ".jl",
   "mimetype": "application/julia",
   "name": "julia",
   "version": "1.11.6"
  }
 },
 "nbformat": 4,
 "nbformat_minor": 5
}
