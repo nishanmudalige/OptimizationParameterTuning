{
 "cells": [
  {
   "cell_type": "code",
   "execution_count": null,
   "id": "1a199e49-3ff1-40db-b33e-f3712acb4fc2",
   "metadata": {},
   "outputs": [],
   "source": [
    "using Pkg\n",
    "Pkg.activate(\".\")"
   ]
  },
  {
   "cell_type": "code",
   "execution_count": null,
   "id": "935168d1-78ab-4775-862e-b8b02121a279",
   "metadata": {},
   "outputs": [],
   "source": [
    "Pkg.status()\n",
    "Pkg.instantiate()"
   ]
  },
  {
   "cell_type": "code",
   "execution_count": null,
   "id": "dedf973f-9a01-4134-9770-8072533eb11d",
   "metadata": {},
   "outputs": [],
   "source": [
    "Pkg.update()"
   ]
  },
  {
   "cell_type": "code",
   "execution_count": null,
   "id": "c58acd1b-034d-4e0b-b5c6-50bed5704d19",
   "metadata": {},
   "outputs": [],
   "source": [
    "Pkg.status()"
   ]
  },
  {
   "cell_type": "markdown",
   "id": "533c4460-96bc-4a2e-a892-9b0a92f70773",
   "metadata": {},
   "source": [
    "## Optimization problem modelisation"
   ]
  },
  {
   "cell_type": "code",
   "execution_count": null,
   "id": "a81ca0ad-0887-420f-a980-71aa21ecbdc8",
   "metadata": {},
   "outputs": [],
   "source": [
    "using NLPModels # see https://github.com/JuliaSmoothOptimizers/NLPModels.jl, it defines an abstract API to access a continuous optimization problem"
   ]
  },
  {
   "cell_type": "code",
   "execution_count": null,
   "id": "905091eb-4a3d-477d-afdc-10766d0155db",
   "metadata": {},
   "outputs": [],
   "source": [
    "@doc AbstractNLPModel"
   ]
  },
  {
   "cell_type": "code",
   "execution_count": null,
   "id": "bb7eb0ad-3fda-450c-8adc-d855e99602f4",
   "metadata": {},
   "outputs": [],
   "source": [
    "using ADNLPModels # see https://github.com/JuliaSmoothOptimizers/ADNLPModels.jl\n",
    "                  # is a concrete implementation of the ty"
   ]
  },
  {
   "cell_type": "code",
   "execution_count": null,
   "id": "82152b8d-da8c-4658-a0e6-f374414400f0",
   "metadata": {},
   "outputs": [],
   "source": [
    "@doc ADNLPModel"
   ]
  },
  {
   "cell_type": "code",
   "execution_count": null,
   "id": "efe11d78-3e3d-4839-9e44-00030c040758",
   "metadata": {},
   "outputs": [],
   "source": [
    "using OptimizationProblems\n",
    "using OptimizationProblems.ADNLPProblems # https://github.com/JuliaSmoothOptimizers/OptimizationProblems.jl\n",
    "                                         # contains a test set of problems of type ADNLPModel"
   ]
  },
  {
   "cell_type": "code",
   "execution_count": null,
   "id": "18780905-b5e3-46aa-95b6-a156e3257571",
   "metadata": {},
   "outputs": [],
   "source": [
    "nlp = OptimizationProblems.ADNLPProblems.arglina(matrix_free = true) # is one of them"
   ]
  },
  {
   "cell_type": "code",
   "execution_count": null,
   "id": "b574c53d-51b7-4e93-94a8-27d8f14e9de9",
   "metadata": {},
   "outputs": [],
   "source": [
    "OptimizationProblems.meta # is a DataFrame that allows us to check some information on the test problems without loading them"
   ]
  },
  {
   "cell_type": "markdown",
   "id": "944b669f-455f-48a0-a76b-bcedabd12769",
   "metadata": {},
   "source": [
    "We can also explore the `fieldnames` of a datatype to see what data it contains"
   ]
  },
  {
   "cell_type": "code",
   "execution_count": null,
   "id": "d85ad25e-b2e9-4e24-a128-d50421b3ac3b",
   "metadata": {},
   "outputs": [],
   "source": [
    "fieldnames(typeof(nlp))"
   ]
  },
  {
   "cell_type": "code",
   "execution_count": null,
   "id": "96152178-56a1-47fe-a1e5-d900c1880f6b",
   "metadata": {},
   "outputs": [],
   "source": [
    "fieldnames(typeof(nlp.meta))"
   ]
  },
  {
   "cell_type": "markdown",
   "id": "5f010778-7e10-406d-ab41-4ec1f4b2b5fa",
   "metadata": {},
   "source": [
    "## Optimization problem solver"
   ]
  },
  {
   "cell_type": "code",
   "execution_count": null,
   "id": "7f6c01d7-0aeb-4a71-83cd-d006855c84ef",
   "metadata": {},
   "outputs": [],
   "source": [
    "using JSOSuite # see https://github.com/JuliaSmoothOptimizers/JSOSuite.jl\n",
    "               # is a wrapper to centralize all the solvers in JuliaSmoothOptimizers"
   ]
  },
  {
   "cell_type": "code",
   "execution_count": null,
   "id": "e2c55916-7e08-4b20-b3a8-5502e36c328d",
   "metadata": {},
   "outputs": [],
   "source": [
    "JSOSuite.optimizers # is a DataFrame that present the different solvers and some of their characteristics"
   ]
  },
  {
   "cell_type": "code",
   "execution_count": null,
   "id": "c89f7513-b76c-4e07-9d21-d15bf5c3ac73",
   "metadata": {},
   "outputs": [],
   "source": [
    "JSOSuite.optimizers[JSOSuite.optimizers.name .== \"LBFGS\", :] # In this project, we will focus on L-BFGS algorithm."
   ]
  },
  {
   "cell_type": "code",
   "execution_count": null,
   "id": "937319d6-f2a7-43d2-8c9c-f8982ffd07a5",
   "metadata": {},
   "outputs": [],
   "source": [
    "using SolverParameters # Define the main structure to handle the algorithm's parameters\n",
    "using JSOSolvers"
   ]
  },
  {
   "cell_type": "code",
   "execution_count": null,
   "id": "5376fa03-8166-4896-88fa-d43b006cca87",
   "metadata": {},
   "outputs": [],
   "source": [
    "param_set = JSOSolvers.LBFGSParameterSet(nlp)"
   ]
  },
  {
   "cell_type": "markdown",
   "id": "794aea3c-e8b7-48f8-9094-f5440721220a",
   "metadata": {},
   "source": [
    "By checking the fields inside this structure we see that there are three parameters `mem`, `τ₁` and `bk_max`."
   ]
  },
  {
   "cell_type": "code",
   "execution_count": null,
   "id": "1ab3afe0-32da-4e00-a8dd-67011d79d45e",
   "metadata": {},
   "outputs": [],
   "source": [
    "fieldnames(typeof(param_set))"
   ]
  },
  {
   "cell_type": "code",
   "execution_count": null,
   "id": "1d39e316-3c42-4419-8651-8095ce40c4b8",
   "metadata": {},
   "outputs": [],
   "source": [
    "typeof(param_set.mem)"
   ]
  },
  {
   "cell_type": "markdown",
   "id": "5de88d94-9258-40da-a270-cb53a6cbb54e",
   "metadata": {},
   "source": [
    "By checking the domain of this parameter, we can see that it must be an integer between 5 and 20."
   ]
  },
  {
   "cell_type": "code",
   "execution_count": null,
   "id": "b863cbf9-d3fe-4bd0-b171-54baac0de375",
   "metadata": {},
   "outputs": [],
   "source": [
    "d = domain(param_set.mem)\n",
    "typeof(d)\n",
    "supertypes(typeof(d))\n",
    "fieldnames(typeof(d))"
   ]
  },
  {
   "cell_type": "code",
   "execution_count": null,
   "id": "46319346",
   "metadata": {},
   "outputs": [],
   "source": [
    "methodswith(IntegerRange{Int64})"
   ]
  },
  {
   "cell_type": "code",
   "execution_count": null,
   "id": "046d5c69-5ce1-4624-bc98-ddcde3fde8c1",
   "metadata": {},
   "outputs": [],
   "source": [
    "stats = JSOSolvers.lbfgs(nlp; verbose = 1)"
   ]
  },
  {
   "cell_type": "code",
   "execution_count": null,
   "id": "eef20c27-92e3-470b-9e16-0e7e9a0dbb3e",
   "metadata": {},
   "outputs": [],
   "source": [
    "using SolverCore # Define the type GenericExecutionStats that is returned by all solvers\n",
    "fieldnames(typeof(stats))"
   ]
  },
  {
   "cell_type": "code",
   "execution_count": null,
   "id": "1fa4091f",
   "metadata": {},
   "outputs": [],
   "source": [
    "propertynames(typeof(stats.solver_specific))"
   ]
  },
  {
   "cell_type": "code",
   "execution_count": null,
   "id": "b7f027a7-7a9c-4225-9535-7801d607524b",
   "metadata": {},
   "outputs": [],
   "source": [
    "@doc GenericExecutionStats"
   ]
  },
  {
   "cell_type": "code",
   "execution_count": null,
   "id": "8d267f52-478a-483b-a309-4d4d3df9d13b",
   "metadata": {},
   "outputs": [],
   "source": [
    "@doc JSOSolvers.lbfgs"
   ]
  },
  {
   "cell_type": "markdown",
   "id": "e44ed503-8c33-4426-9737-0d36db546957",
   "metadata": {},
   "source": [
    "## Loop over the problems"
   ]
  },
  {
   "cell_type": "markdown",
   "id": "be92733e-2203-41f2-a60b-cc19c17b12c8",
   "metadata": {},
   "source": [
    "First, we select a subset of the problems"
   ]
  },
  {
   "cell_type": "code",
   "execution_count": null,
   "id": "79c99beb-061f-4308-8b40-2fdca57387a1",
   "metadata": {},
   "outputs": [],
   "source": [
    "meta = OptimizationProblems.meta\n",
    "problem_names = meta[meta.contype .== :unconstrained .&& .!meta.has_bounds .&& meta.nvar .<= 10, :name]; # LBFGS is an algorithm to solve unconstrained problems\n",
    "                                                                   # For this example, we select only problems of size up to 10."
   ]
  },
  {
   "cell_type": "code",
   "execution_count": null,
   "id": "9e525eb6-38c6-46ab-83df-7cfeda571c70",
   "metadata": {},
   "outputs": [],
   "source": [
    "problems = [Meta.parse(\"OptimizationProblems.ADNLPProblems.eval($problem)()\") for problem ∈ problem_names]; # https://jso.dev/OptimizationProblems.jl/dev/benchmark/"
   ]
  },
  {
   "cell_type": "code",
   "execution_count": null,
   "id": "576c4b49-2915-4002-872c-b93b498b0e4d",
   "metadata": {},
   "outputs": [],
   "source": [
    "using DataFrames # we will use a DataFrame to store our results\n",
    "df = DataFrame()"
   ]
  },
  {
   "cell_type": "code",
   "execution_count": null,
   "id": "758ad6ed",
   "metadata": {},
   "outputs": [],
   "source": [
    "fieldnames(typeof(nlp.meta))"
   ]
  },
  {
   "cell_type": "code",
   "execution_count": null,
   "id": "43be1caf",
   "metadata": {},
   "outputs": [],
   "source": [
    "fieldnames(typeof(nlp))"
   ]
  },
  {
   "cell_type": "code",
   "execution_count": null,
   "id": "f504fb56",
   "metadata": {},
   "outputs": [],
   "source": [
    "fieldnames(typeof(nlp.counters))"
   ]
  },
  {
   "cell_type": "code",
   "execution_count": null,
   "id": "228d8e16-1db7-463e-bc79-53a40a9f4f73",
   "metadata": {},
   "outputs": [],
   "source": [
    "# i = 0\n",
    "# for pb_expr in problems\n",
    "#     nlp = eval(pb_expr)\n",
    "#     i += 1\n",
    "#     @info \"($i / $(length(problems)) Number of variables of problem $(nlp.meta.name) is $(nlp.meta.nvar)\"\n",
    "#     mem = 5\n",
    "#     try\n",
    "#     stats = JSOSolvers.lbfgs(nlp; mem = 5)\n",
    "#     push!(df, (; status = stats.status, name = nlp.meta.name, nvar = nlp.meta.nvar))\n",
    "#     catch e\n",
    "#         @info \"Solver failed on $(nlp.meta.name): $e\"\n",
    "#     end\n",
    "# end"
   ]
  },
  {
   "cell_type": "code",
   "execution_count": null,
   "id": "bc7801df-0c43-4181-92e9-01f91f48a8ea",
   "metadata": {},
   "outputs": [],
   "source": [
    "df; # contains the result"
   ]
  },
  {
   "cell_type": "code",
   "execution_count": null,
   "id": "241fd8ec-bc0d-424d-a4b9-59b1556e303d",
   "metadata": {},
   "outputs": [],
   "source": [
    "# unique(df[!, :status]) # :first_order is a success, :unbounded too\n",
    "#                        # :max_time may indicate that we should run the algorithms with `max_time` greater than default."
   ]
  },
  {
   "cell_type": "code",
   "execution_count": null,
   "id": "e2c7d79e",
   "metadata": {},
   "outputs": [],
   "source": [
    "import Pkg\n",
    "\n",
    "function ensure(pkgs::Vector{String})\n",
    "    for pkg in pkgs\n",
    "        if !haskey(Pkg.project().dependencies, pkg)\n",
    "            @info \"Installing $pkg...\"\n",
    "            Pkg.add(pkg)\n",
    "        end\n",
    "    end\n",
    "end\n",
    "\n",
    "ensure([\"CSV\", \"DataFrames\", \"BenchmarkTools\"])\n",
    "using CSV, DataFrames, BenchmarkTools\n"
   ]
  },
  {
   "cell_type": "markdown",
   "id": "e24a946e",
   "metadata": {},
   "source": [
    "## Felix's Contribution (You can also start running after this block)"
   ]
  },
  {
   "cell_type": "markdown",
   "id": "a967adcc",
   "metadata": {},
   "source": [
    "Varying the mem parameters using the domain parameter to get the domain of the values."
   ]
  },
  {
   "cell_type": "code",
   "execution_count": 1,
   "id": "916dd76f",
   "metadata": {},
   "outputs": [
    {
     "name": "stderr",
     "output_type": "stream",
     "text": [
      "\u001b[32m\u001b[1m  Activating\u001b[22m\u001b[39m project at `~/OptimizationParameterTuning/Julia Notebook`\n"
     ]
    },
    {
     "name": "stdout",
     "output_type": "stream",
     "text": [
      "\u001b[32m\u001b[1mStatus\u001b[22m\u001b[39m `~/OptimizationParameterTuning/Julia Notebook/Project.toml`\n",
      "  \u001b[90m[54578032] \u001b[39mADNLPModels v0.8.13\n",
      "  \u001b[90m[6e4b80f9] \u001b[39mBenchmarkTools v1.6.0\n",
      "  \u001b[90m[336ed68f] \u001b[39mCSV v0.10.15\n",
      "  \u001b[90m[a93c6f00] \u001b[39mDataFrames v1.8.0\n",
      "  \u001b[90m[7073ff75] \u001b[39mIJulia v1.30.4\n",
      "  \u001b[90m[10dff2fc] \u001b[39mJSOSolvers v0.14.3\n",
      "  \u001b[90m[ed6ae0be] \u001b[39mJSOSuite v0.3.0\n",
      "  \u001b[90m[a4795742] \u001b[39mNLPModels v0.21.5\n",
      "  \u001b[90m[5049e819] \u001b[39mOptimizationProblems v0.9.2\n",
      "  \u001b[90m[ff4d7338] \u001b[39mSolverCore v0.3.8\n",
      "  \u001b[90m[d076d87d] \u001b[39mSolverParameters v0.1.2\n"
     ]
    },
    {
     "name": "stderr",
     "output_type": "stream",
     "text": [
      "\u001b[92m\u001b[1mPrecompiling\u001b[22m\u001b[39m project...\n",
      "    620.5 ms\u001b[32m  ✓ \u001b[39m\u001b[90mExprTools\u001b[39m\n",
      "    646.3 ms\u001b[32m  ✓ \u001b[39m\u001b[90mFastClosures\u001b[39m\n",
      "    662.1 ms\u001b[32m  ✓ \u001b[39m\u001b[90mlibsodium_jll\u001b[39m\n",
      "    734.8 ms\u001b[32m  ✓ \u001b[39m\u001b[90mHashArrayMappedTries\u001b[39m\n",
      "    786.6 ms\u001b[32m  ✓ \u001b[39m\u001b[90mChunkCodecCore\u001b[39m\n",
      "    865.8 ms\u001b[32m  ✓ \u001b[39m\u001b[90mVersionParsing\u001b[39m\n",
      "    904.8 ms\u001b[32m  ✓ \u001b[39mSolverParameters\n",
      "    954.2 ms\u001b[32m  ✓ \u001b[39m\u001b[90mZstd_jll\u001b[39m\n",
      "    991.5 ms\u001b[32m  ✓ \u001b[39m\u001b[90mADTypes\u001b[39m\n",
      "   1019.4 ms\u001b[32m  ✓ \u001b[39m\u001b[90mSparseMatricesCOO\u001b[39m\n",
      "   2034.3 ms\u001b[32m  ✓ \u001b[39m\u001b[90mFunctionWrappers\u001b[39m\n",
      "    511.2 ms\u001b[32m  ✓ \u001b[39m\u001b[90mScopedValues\u001b[39m\n",
      "    622.1 ms\u001b[32m  ✓ \u001b[39m\u001b[90mChunkCodecLibZlib\u001b[39m\n",
      "   1469.0 ms\u001b[32m  ✓ \u001b[39m\u001b[90mFillArrays\u001b[39m\n",
      "   1352.5 ms\u001b[32m  ✓ \u001b[39m\u001b[90mZeroMQ_jll\u001b[39m\n",
      "   2049.9 ms\u001b[32m  ✓ \u001b[39m\u001b[90mChainRulesCore\u001b[39m\n",
      "   1191.3 ms\u001b[32m  ✓ \u001b[39m\u001b[90mConda\u001b[39m\n",
      "   1100.6 ms\u001b[32m  ✓ \u001b[39m\u001b[90mChunkCodecLibZstd\u001b[39m\n",
      "   1345.2 ms\u001b[32m  ✓ \u001b[39m\u001b[90mFillArrays → FillArraysStatisticsExt\u001b[39m\n",
      "    784.4 ms\u001b[32m  ✓ \u001b[39m\u001b[90mADTypes → ADTypesChainRulesCoreExt\u001b[39m\n",
      "    911.5 ms\u001b[32m  ✓ \u001b[39m\u001b[90mFillArrays → FillArraysSparseArraysExt\u001b[39m\n",
      "    891.0 ms\u001b[32m  ✓ \u001b[39m\u001b[90mChainRulesCore → ChainRulesCoreSparseArraysExt\u001b[39m\n",
      "   2468.7 ms\u001b[32m  ✓ \u001b[39m\u001b[90mTimerOutputs\u001b[39m\n",
      "   1591.3 ms\u001b[32m  ✓ \u001b[39m\u001b[90mLogExpFunctions → LogExpFunctionsChainRulesCoreExt\u001b[39m\n",
      "   1913.4 ms\u001b[32m  ✓ \u001b[39m\u001b[90mSpecialFunctions → SpecialFunctionsChainRulesCoreExt\u001b[39m\n",
      "   1704.4 ms\u001b[32m  ✓ \u001b[39m\u001b[90mLinearOperators\u001b[39m\n",
      "   3167.4 ms\u001b[32m  ✓ \u001b[39m\u001b[90mZMQ\u001b[39m\n",
      "   4802.1 ms\u001b[32m  ✓ \u001b[39m\u001b[90mFileIO\u001b[39m\n",
      "    898.8 ms\u001b[32m  ✓ \u001b[39m\u001b[90mLinearOperators → LinearOperatorsChainRulesCoreExt\u001b[39m\n",
      "   6290.4 ms\u001b[32m  ✓ \u001b[39m\u001b[90mMutableArithmetics\u001b[39m\n",
      "   1832.9 ms\u001b[32m  ✓ \u001b[39mNLPModels\n",
      "    910.1 ms\u001b[32m  ✓ \u001b[39m\u001b[90mSolverTools\u001b[39m\n",
      "   4658.4 ms\u001b[32m  ✓ \u001b[39m\u001b[90mSparseConnectivityTracer\u001b[39m\n",
      "   1271.0 ms\u001b[32m  ✓ \u001b[39mSolverCore\n",
      "   1745.6 ms\u001b[32m  ✓ \u001b[39m\u001b[90mNLPModelsModifiers\u001b[39m\n",
      "   1274.0 ms\u001b[32m  ✓ \u001b[39m\u001b[90mSparseConnectivityTracer → SparseConnectivityTracerChainRulesCoreExt\u001b[39m\n",
      "   7937.6 ms\u001b[32m  ✓ \u001b[39m\u001b[90mSparseMatrixColorings\u001b[39m\n",
      "   1486.3 ms\u001b[32m  ✓ \u001b[39m\u001b[90mSparseConnectivityTracer → SparseConnectivityTracerLogExpFunctionsExt\u001b[39m\n",
      "   9101.5 ms\u001b[32m  ✓ \u001b[39m\u001b[90mStaticArrays\u001b[39m\n",
      "   1604.0 ms\u001b[32m  ✓ \u001b[39m\u001b[90mSparseConnectivityTracer → SparseConnectivityTracerNaNMathExt\u001b[39m\n",
      "    951.9 ms\u001b[32m  ✓ \u001b[39m\u001b[90mLLSModels\u001b[39m\n",
      "   9501.3 ms\u001b[32m  ✓ \u001b[39m\u001b[90mKrylov\u001b[39m\n",
      "   1932.9 ms\u001b[32m  ✓ \u001b[39m\u001b[90mSparseConnectivityTracer → SparseConnectivityTracerSpecialFunctionsExt\u001b[39m\n",
      "   1323.9 ms\u001b[32m  ✓ \u001b[39m\u001b[90mQuadraticModels\u001b[39m\n",
      "    740.9 ms\u001b[32m  ✓ \u001b[39m\u001b[90mStaticArrays → StaticArraysStatisticsExt\u001b[39m\n",
      "    763.6 ms\u001b[32m  ✓ \u001b[39m\u001b[90mStaticArrays → StaticArraysChainRulesCoreExt\u001b[39m\n",
      "    910.6 ms\u001b[32m  ✓ \u001b[39m\u001b[90mForwardDiff → ForwardDiffStaticArraysExt\u001b[39m\n",
      "    954.2 ms\u001b[32m  ✓ \u001b[39m\u001b[90mLLSModels → LLSModelsKrylovExt\u001b[39m\n",
      "   1542.1 ms\u001b[32m  ✓ \u001b[39mJSOSolvers\n",
      "    888.1 ms\u001b[32m  ✓ \u001b[39m\u001b[90mPercival\u001b[39m\n",
      "  10374.4 ms\u001b[32m  ✓ \u001b[39mIJulia\n",
      "  15213.0 ms\u001b[32m  ✓ \u001b[39m\u001b[90mReverseDiff\u001b[39m\n",
      "   5442.2 ms\u001b[32m  ✓ \u001b[39mADNLPModels\n",
      "  29150.9 ms\u001b[32m  ✓ \u001b[39m\u001b[90mJLD2\u001b[39m\n",
      "  38131.8 ms\u001b[32m  ✓ \u001b[39m\u001b[90mMathOptInterface\u001b[39m\n",
      "  15939.6 ms\u001b[32m  ✓ \u001b[39m\u001b[90mJuMP\u001b[39m\n",
      "   2933.3 ms\u001b[32m  ✓ \u001b[39m\u001b[90mNLPModelsJuMP\u001b[39m\n",
      "   7669.8 ms\u001b[32m  ✓ \u001b[39mJSOSuite\n",
      "  30383.1 ms\u001b[32m  ✓ \u001b[39mOptimizationProblems\n",
      "  59 dependencies successfully precompiled in 93 seconds. 91 already precompiled.\n",
      "\u001b[32m\u001b[1m    Updating\u001b[22m\u001b[39m registry at `~/.julia/registries/General.toml`\n",
      "\u001b[32m\u001b[1m  No Changes\u001b[22m\u001b[39m to `~/OptimizationParameterTuning/Julia Notebook/Project.toml`\n",
      "\u001b[32m\u001b[1m  No Changes\u001b[22m\u001b[39m to `~/OptimizationParameterTuning/Julia Notebook/Manifest.toml`\n"
     ]
    },
    {
     "name": "stdout",
     "output_type": "stream",
     "text": [
      "\u001b[32m\u001b[1mStatus\u001b[22m\u001b[39m `~/OptimizationParameterTuning/Julia Notebook/Project.toml`\n",
      "  \u001b[90m[54578032] \u001b[39mADNLPModels v0.8.13\n",
      "  \u001b[90m[6e4b80f9] \u001b[39mBenchmarkTools v1.6.0\n",
      "  \u001b[90m[336ed68f] \u001b[39mCSV v0.10.15\n",
      "  \u001b[90m[a93c6f00] \u001b[39mDataFrames v1.8.0\n",
      "  \u001b[90m[7073ff75] \u001b[39mIJulia v1.30.4\n",
      "  \u001b[90m[10dff2fc] \u001b[39mJSOSolvers v0.14.3\n",
      "  \u001b[90m[ed6ae0be] \u001b[39mJSOSuite v0.3.0\n",
      "  \u001b[90m[a4795742] \u001b[39mNLPModels v0.21.5\n",
      "  \u001b[90m[5049e819] \u001b[39mOptimizationProblems v0.9.2\n",
      "  \u001b[90m[ff4d7338] \u001b[39mSolverCore v0.3.8\n",
      "  \u001b[90m[d076d87d] \u001b[39mSolverParameters v0.1.2\n"
     ]
    }
   ],
   "source": [
    "using Pkg\n",
    "Pkg.activate(\".\")\n",
    "Pkg.status()\n",
    "Pkg.instantiate()\n",
    "Pkg.update()\n",
    "Pkg.status()"
   ]
  },
  {
   "cell_type": "code",
   "execution_count": null,
   "id": "401c86d6",
   "metadata": {},
   "outputs": [
    {
     "name": "stdout",
     "output_type": "stream",
     "text": [
      "Running (OptimizationProblems.ADNLPProblems.eval(AMPGO02))() with mem=1\n",
      "Running (OptimizationProblems.ADNLPProblems.eval(AMPGO02))() with mem=2\n",
      "Running (OptimizationProblems.ADNLPProblems.eval(AMPGO02))() with mem=3\n",
      "Running (OptimizationProblems.ADNLPProblems.eval(AMPGO02))() with mem=4\n",
      "Running (OptimizationProblems.ADNLPProblems.eval(AMPGO02))() with mem=5\n",
      "Running (OptimizationProblems.ADNLPProblems.eval(AMPGO02))() with mem=6\n",
      "Running (OptimizationProblems.ADNLPProblems.eval(AMPGO02))() with mem=7\n",
      "Running (OptimizationProblems.ADNLPProblems.eval(AMPGO02))() with mem=8\n",
      "Running (OptimizationProblems.ADNLPProblems.eval(AMPGO02))() with mem=9\n",
      "Running (OptimizationProblems.ADNLPProblems.eval(AMPGO02))() with mem=10\n",
      "Running (OptimizationProblems.ADNLPProblems.eval(AMPGO02))() with mem=11\n",
      "Running (OptimizationProblems.ADNLPProblems.eval(AMPGO02))() with mem=12\n",
      "Running (OptimizationProblems.ADNLPProblems.eval(AMPGO02))() with mem=13\n",
      "Running (OptimizationProblems.ADNLPProblems.eval(AMPGO02))() with mem=14\n",
      "Running (OptimizationProblems.ADNLPProblems.eval(AMPGO02))() with mem=15\n",
      "Running (OptimizationProblems.ADNLPProblems.eval(AMPGO02))() with mem=16\n",
      "Running (OptimizationProblems.ADNLPProblems.eval(AMPGO02))() with mem=17\n",
      "Running (OptimizationProblems.ADNLPProblems.eval(AMPGO02))() with mem=18\n",
      "Running (OptimizationProblems.ADNLPProblems.eval(AMPGO02))() with mem=19\n",
      "Running (OptimizationProblems.ADNLPProblems.eval(AMPGO02))() with mem=20\n",
      "Running (OptimizationProblems.ADNLPProblems.eval(AMPGO02))() with mem=21\n",
      "Running (OptimizationProblems.ADNLPProblems.eval(AMPGO02))() with mem=22\n",
      "Running (OptimizationProblems.ADNLPProblems.eval(AMPGO02))() with mem=23\n",
      "Running (OptimizationProblems.ADNLPProblems.eval(AMPGO02))() with mem=24\n",
      "Running (OptimizationProblems.ADNLPProblems.eval(AMPGO02))() with mem=25\n",
      "Running (OptimizationProblems.ADNLPProblems.eval(AMPGO02))() with mem=26\n",
      "Running (OptimizationProblems.ADNLPProblems.eval(AMPGO02))() with mem=27\n",
      "Running (OptimizationProblems.ADNLPProblems.eval(AMPGO02))() with mem=28\n",
      "Running (OptimizationProblems.ADNLPProblems.eval(AMPGO02))() with mem=29\n",
      "Running (OptimizationProblems.ADNLPProblems.eval(AMPGO02))() with mem=30\n",
      "Running (OptimizationProblems.ADNLPProblems.eval(AMPGO02))() with mem=31\n",
      "Running (OptimizationProblems.ADNLPProblems.eval(AMPGO02))() with mem=32\n",
      "Running (OptimizationProblems.ADNLPProblems.eval(AMPGO02))() with mem=33\n",
      "Running (OptimizationProblems.ADNLPProblems.eval(AMPGO02))() with mem=34\n",
      "Running (OptimizationProblems.ADNLPProblems.eval(AMPGO02))() with mem=35\n",
      "Running (OptimizationProblems.ADNLPProblems.eval(AMPGO02))() with mem=36\n",
      "Running (OptimizationProblems.ADNLPProblems.eval(AMPGO02))() with mem=37\n",
      "Running (OptimizationProblems.ADNLPProblems.eval(AMPGO02))() with mem=38\n",
      "Running (OptimizationProblems.ADNLPProblems.eval(AMPGO02))() with mem=39\n",
      "Running (OptimizationProblems.ADNLPProblems.eval(AMPGO02))() with mem=40\n",
      "Running (OptimizationProblems.ADNLPProblems.eval(AMPGO02))() with mem=41\n",
      "Running (OptimizationProblems.ADNLPProblems.eval(AMPGO02))() with mem=42\n",
      "Running (OptimizationProblems.ADNLPProblems.eval(AMPGO02))() with mem=43\n",
      "Running (OptimizationProblems.ADNLPProblems.eval(AMPGO02))() with mem=44\n",
      "Running (OptimizationProblems.ADNLPProblems.eval(AMPGO02))() with mem=45\n",
      "Running (OptimizationProblems.ADNLPProblems.eval(AMPGO02))() with mem=46\n",
      "Running (OptimizationProblems.ADNLPProblems.eval(AMPGO02))() with mem=47\n",
      "Running (OptimizationProblems.ADNLPProblems.eval(AMPGO02))() with mem=48\n",
      "Running (OptimizationProblems.ADNLPProblems.eval(AMPGO02))() with mem=49\n",
      "Running (OptimizationProblems.ADNLPProblems.eval(AMPGO02))() with mem=50\n",
      "Running (OptimizationProblems.ADNLPProblems.eval(AMPGO02))() with mem=51\n",
      "Running (OptimizationProblems.ADNLPProblems.eval(AMPGO02))() with mem=52\n",
      "Running (OptimizationProblems.ADNLPProblems.eval(AMPGO02))() with mem=53\n",
      "Running (OptimizationProblems.ADNLPProblems.eval(AMPGO02))() with mem=54\n",
      "Running (OptimizationProblems.ADNLPProblems.eval(AMPGO02))() with mem=55\n",
      "Running (OptimizationProblems.ADNLPProblems.eval(AMPGO02))() with mem=56\n",
      "Running (OptimizationProblems.ADNLPProblems.eval(AMPGO02))() with mem=57\n",
      "Running (OptimizationProblems.ADNLPProblems.eval(AMPGO02))() with mem=58\n",
      "Running (OptimizationProblems.ADNLPProblems.eval(AMPGO02))() with mem=59\n",
      "Running (OptimizationProblems.ADNLPProblems.eval(AMPGO02))() with mem=60\n",
      "Running (OptimizationProblems.ADNLPProblems.eval(AMPGO02))() with mem=61\n",
      "Running (OptimizationProblems.ADNLPProblems.eval(AMPGO02))() with mem=62\n",
      "Running (OptimizationProblems.ADNLPProblems.eval(AMPGO02))() with mem=63\n",
      "Running (OptimizationProblems.ADNLPProblems.eval(AMPGO02))() with mem=64\n",
      "Running (OptimizationProblems.ADNLPProblems.eval(AMPGO02))() with mem=65\n",
      "Running (OptimizationProblems.ADNLPProblems.eval(AMPGO02))() with mem=66\n",
      "Running (OptimizationProblems.ADNLPProblems.eval(AMPGO02))() with mem=67\n",
      "Running (OptimizationProblems.ADNLPProblems.eval(AMPGO02))() with mem=68\n",
      "Running (OptimizationProblems.ADNLPProblems.eval(AMPGO02))() with mem=69\n",
      "Running (OptimizationProblems.ADNLPProblems.eval(AMPGO02))() with mem=70\n",
      "Running (OptimizationProblems.ADNLPProblems.eval(AMPGO02))() with mem=71\n",
      "Running (OptimizationProblems.ADNLPProblems.eval(AMPGO02))() with mem=72\n",
      "Running (OptimizationProblems.ADNLPProblems.eval(AMPGO02))() with mem=73\n",
      "Running (OptimizationProblems.ADNLPProblems.eval(AMPGO02))() with mem=74\n",
      "Running (OptimizationProblems.ADNLPProblems.eval(AMPGO02))() with mem=75\n",
      "Running (OptimizationProblems.ADNLPProblems.eval(AMPGO02))() with mem=76\n",
      "Running (OptimizationProblems.ADNLPProblems.eval(AMPGO02))() with mem=77\n",
      "Running (OptimizationProblems.ADNLPProblems.eval(AMPGO02))() with mem=78\n",
      "Running (OptimizationProblems.ADNLPProblems.eval(AMPGO02))() with mem=79\n",
      "Running (OptimizationProblems.ADNLPProblems.eval(AMPGO02))() with mem=80\n",
      "Running (OptimizationProblems.ADNLPProblems.eval(AMPGO02))() with mem=81\n",
      "Running (OptimizationProblems.ADNLPProblems.eval(AMPGO02))() with mem=82\n",
      "Running (OptimizationProblems.ADNLPProblems.eval(AMPGO02))() with mem=83\n",
      "Running (OptimizationProblems.ADNLPProblems.eval(AMPGO02))() with mem=84\n",
      "Running (OptimizationProblems.ADNLPProblems.eval(AMPGO02))() with mem=85\n",
      "Running (OptimizationProblems.ADNLPProblems.eval(AMPGO02))() with mem=86\n",
      "Running (OptimizationProblems.ADNLPProblems.eval(AMPGO02))() with mem=87\n",
      "Running (OptimizationProblems.ADNLPProblems.eval(AMPGO02))() with mem=88\n",
      "Running (OptimizationProblems.ADNLPProblems.eval(AMPGO02))() with mem=89\n",
      "Running (OptimizationProblems.ADNLPProblems.eval(AMPGO02))() with mem=90\n",
      "Running (OptimizationProblems.ADNLPProblems.eval(AMPGO02))() with mem=91\n",
      "Running (OptimizationProblems.ADNLPProblems.eval(AMPGO02))() with mem=92\n",
      "Running (OptimizationProblems.ADNLPProblems.eval(AMPGO02))() with mem=93\n",
      "Running (OptimizationProblems.ADNLPProblems.eval(AMPGO02))() with mem=94\n",
      "Running (OptimizationProblems.ADNLPProblems.eval(AMPGO02))() with mem=95\n",
      "Running (OptimizationProblems.ADNLPProblems.eval(AMPGO02))() with mem=96\n",
      "Running (OptimizationProblems.ADNLPProblems.eval(AMPGO02))() with mem=97\n",
      "Running (OptimizationProblems.ADNLPProblems.eval(AMPGO02))() with mem=98\n",
      "Running (OptimizationProblems.ADNLPProblems.eval(AMPGO02))() with mem=99\n",
      "Running (OptimizationProblems.ADNLPProblems.eval(AMPGO02))() with mem=100\n"
     ]
    }
   ],
   "source": [
    "using BenchmarkTools\n",
    "using CSV, DataFrames\n",
    "using Random\n",
    "using OptimizationProblems\n",
    "using OptimizationProblems.ADNLPProblems # https://github.com/JuliaSmoothOptimizers/OptimizationProblems.jl\n",
    "                                         # contains a test set of problems of type ADNLPModel\n",
    "using NLPModels # see https://github.com/JuliaSmoothOptimizers/NLPModels.jl, it defines an abstract API to access a continuous optimization problem\n",
    "using ADNLPModels # see https://github.com/JuliaSmoothOptimizers/ADNLPModels.jl\n",
    "                  # is a concrete implementation of the ty\n",
    "using SolverParameters # Define the main structure to handle the algorithm's parameters\n",
    "using JSOSolvers\n",
    "\n",
    "nlp = OptimizationProblems.ADNLPProblems.arglina(matrix_free = true) # is one of them\n",
    "meta = OptimizationProblems.meta\n",
    "problem_names = meta[meta.contype .== :unconstrained .&& .!meta.has_bounds .&& meta.nvar .>= 10, meta.scalable .== true :name]; # LBFGS is an algorithm to solve unconstrained problems\n",
    "                                                                   # For this example, we select only problems of size up to 10.\n",
    "problems = [Meta.parse(\"OptimizationProblems.ADNLPProblems.eval($problem)()\") for problem ∈ problem_names]; # https://jso.dev/OptimizationProblems.jl/dev/benchmark/                                                \n",
    "filename = \"./lbfgs.csv\"\n",
    "df = DataFrame(\n",
    "                :status => Symbol[],\n",
    "                :name => String[],\n",
    "                :solver => String[],\n",
    "                :mem => Int[],\n",
    "                :nvar => Int[],\n",
    "                :time => Float64[],\n",
    "                :memory => Float64[],\n",
    "                :nvmops => Int[],\n",
    "                :neval_obj => Int[],\n",
    "                :neval_grad => Int[]\n",
    "            )\n",
    "i = 0\n",
    "for pb_expr in problems\n",
    "    nlp = eval(pb_expr)\n",
    "    i += 1\n",
    "    param_set = JSOSolvers.LBFGSParameterSet(nlp)\n",
    "    r = domain(param_set.mem)\n",
    "    seen = Set{Tuple{String, String, Int}}()\n",
    "    for mem in r.lower:r.upper\n",
    "        reset!(nlp)\n",
    "        println(\"Running $pb_expr with mem=$mem\")\n",
    "        try\n",
    "            bench = @benchmark JSOSolvers.lbfgs($nlp; mem = $mem)\n",
    "            stats = JSOSolvers.lbfgs(nlp; mem = mem)\n",
    "            \n",
    "            problem = nlp.meta.name\n",
    "            solver = \"LBFGSSolver\"\n",
    "            # check if it already exists\n",
    "\n",
    "\n",
    "            key = (problem, solver, mem)\n",
    "\n",
    "            if key in seen\n",
    "                @info \"Skip $key — already seen\"\n",
    "                break\n",
    "            else\n",
    "                push!(df, (\n",
    "                            status = stats.status, \n",
    "                            name = problem,\n",
    "                            solver = solver,\n",
    "                            mem = mem,\n",
    "                            nvar = nlp.meta.nvar, \n",
    "                            time = minimum(bench).time,\n",
    "                            memory = minimum(bench).memory, \n",
    "                            nvmops = stats.solver_specific[:nprod],\n",
    "                            neval_obj = nlp.counters.neval_obj,\n",
    "                            neval_grad = nlp.counters.neval_grad\n",
    "                        )\n",
    "                    )\n",
    "                push!(seen, (problem, solver, mem))\n",
    "            end\n",
    "        catch e\n",
    "            @info \"Solver failed on $(nlp.meta.name): $e\"\n",
    "            break\n",
    "        end\n",
    "        if !isfile(filename) || filesize(filename) == 0\n",
    "                CSV.write(filename, DataFrame([last(df)]); append=true, header=true)\n",
    "            else\n",
    "                CSV.write(filename, DataFrame([last(df)]); append=true, header=false)\n",
    "            end\n",
    "        end\n",
    "    end\n",
    "end\n",
    "\n"
   ]
  }
 ],
 "metadata": {
  "kernelspec": {
   "display_name": "Julia 1.11.7",
   "language": "julia",
   "name": "julia-1.11"
  },
  "language_info": {
   "file_extension": ".jl",
   "mimetype": "application/julia",
   "name": "julia",
   "version": "1.11.7"
  }
 },
 "nbformat": 4,
 "nbformat_minor": 5
}
