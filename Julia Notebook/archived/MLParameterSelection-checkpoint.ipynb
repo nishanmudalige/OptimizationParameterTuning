{
 "cells": [
  {
   "cell_type": "code",
   "execution_count": 1,
   "id": "1a199e49-3ff1-40db-b33e-f3712acb4fc2",
   "metadata": {},
   "outputs": [
    {
     "name": "stderr",
     "output_type": "stream",
     "text": [
      "\u001b[32m\u001b[1m  Activating\u001b[22m\u001b[39m project at `~/OptimizationParameterTuning/Julia Notebook/archived`\n"
     ]
    }
   ],
   "source": [
    "using Pkg\n",
    "Pkg.activate(\".\")"
   ]
  },
  {
   "cell_type": "code",
   "execution_count": 2,
   "id": "935168d1-78ab-4775-862e-b8b02121a279",
   "metadata": {},
   "outputs": [
    {
     "name": "stdout",
     "output_type": "stream",
     "text": [
      "\u001b[32m\u001b[1mStatus\u001b[22m\u001b[39m `~/OptimizationParameterTuning/Julia Notebook/archived/Project.toml`\n",
      "  \u001b[90m[6e4b80f9] \u001b[39mBenchmarkTools v1.6.0\n",
      "  \u001b[90m[336ed68f] \u001b[39mCSV v0.10.15\n",
      "  \u001b[90m[a93c6f00] \u001b[39mDataFrames v1.8.0\n"
     ]
    },
    {
     "name": "stderr",
     "output_type": "stream",
     "text": [
      "\u001b[92m\u001b[1mPrecompiling\u001b[22m\u001b[39m project...\n",
      "  32743.8 ms\u001b[32m  ✓ \u001b[39mDataFrames\n",
      "  1 dependency successfully precompiled in 34 seconds. 50 already precompiled.\n"
     ]
    }
   ],
   "source": [
    "Pkg.status()\n",
    "Pkg.instantiate()"
   ]
  },
  {
   "cell_type": "code",
   "execution_count": 3,
   "id": "dedf973f-9a01-4134-9770-8072533eb11d",
   "metadata": {},
   "outputs": [
    {
     "name": "stderr",
     "output_type": "stream",
     "text": [
      "\u001b[32m\u001b[1m    Updating\u001b[22m\u001b[39m registry at `~/.julia/registries/General.toml`\n",
      "\u001b[32m\u001b[1m  No Changes\u001b[22m\u001b[39m to `~/OptimizationParameterTuning/Julia Notebook/archived/Project.toml`\n",
      "\u001b[32m\u001b[1m  No Changes\u001b[22m\u001b[39m to `~/OptimizationParameterTuning/Julia Notebook/archived/Manifest.toml`\n"
     ]
    }
   ],
   "source": [
    "Pkg.update()"
   ]
  },
  {
   "cell_type": "code",
   "execution_count": 4,
   "id": "c58acd1b-034d-4e0b-b5c6-50bed5704d19",
   "metadata": {},
   "outputs": [
    {
     "name": "stdout",
     "output_type": "stream",
     "text": [
      "\u001b[32m\u001b[1mStatus\u001b[22m\u001b[39m `~/OptimizationParameterTuning/Julia Notebook/archived/Project.toml`\n",
      "  \u001b[90m[6e4b80f9] \u001b[39mBenchmarkTools v1.6.0\n",
      "  \u001b[90m[336ed68f] \u001b[39mCSV v0.10.15\n",
      "  \u001b[90m[a93c6f00] \u001b[39mDataFrames v1.8.0\n"
     ]
    }
   ],
   "source": [
    "Pkg.status()"
   ]
  },
  {
   "cell_type": "markdown",
   "id": "533c4460-96bc-4a2e-a892-9b0a92f70773",
   "metadata": {},
   "source": [
    "## Optimization problem modelisation"
   ]
  },
  {
   "cell_type": "code",
   "execution_count": 5,
   "id": "a81ca0ad-0887-420f-a980-71aa21ecbdc8",
   "metadata": {},
   "outputs": [],
   "source": [
    "using NLPModels # see https://github.com/JuliaSmoothOptimizers/NLPModels.jl, it defines an abstract API to access a continuous optimization problem"
   ]
  },
  {
   "cell_type": "code",
   "execution_count": 6,
   "id": "905091eb-4a3d-477d-afdc-10766d0155db",
   "metadata": {},
   "outputs": [
    {
     "data": {
      "text/latex": [
       "\\begin{verbatim}\n",
       "AbstractNLPModel\n",
       "\\end{verbatim}\n",
       "Base type for an optimization model.\n",
       "\n"
      ],
      "text/markdown": [
       "```\n",
       "AbstractNLPModel\n",
       "```\n",
       "\n",
       "Base type for an optimization model.\n"
      ],
      "text/plain": [
       "\u001b[36m  AbstractNLPModel\u001b[39m\n",
       "\n",
       "  Base type for an optimization model."
      ]
     },
     "metadata": {},
     "output_type": "display_data"
    }
   ],
   "source": [
    "@doc AbstractNLPModel"
   ]
  },
  {
   "cell_type": "code",
   "execution_count": 7,
   "id": "bb7eb0ad-3fda-450c-8adc-d855e99602f4",
   "metadata": {},
   "outputs": [],
   "source": [
    "using ADNLPModels # see https://github.com/JuliaSmoothOptimizers/ADNLPModels.jl\n",
    "                  # is a concrete implementation of the ty"
   ]
  },
  {
   "cell_type": "code",
   "execution_count": 8,
   "id": "82152b8d-da8c-4658-a0e6-f374414400f0",
   "metadata": {},
   "outputs": [
    {
     "data": {
      "text/latex": [
       "\\begin{verbatim}\n",
       "ADNLPModel(f, x0)\n",
       "ADNLPModel(f, x0, lvar, uvar)\n",
       "ADNLPModel(f, x0, clinrows, clincols, clinvals, lcon, ucon)\n",
       "ADNLPModel(f, x0, A, lcon, ucon)\n",
       "ADNLPModel(f, x0, c, lcon, ucon)\n",
       "ADNLPModel(f, x0, clinrows, clincols, clinvals, c, lcon, ucon)\n",
       "ADNLPModel(f, x0, A, c, lcon, ucon)\n",
       "ADNLPModel(f, x0, lvar, uvar, clinrows, clincols, clinvals, lcon, ucon)\n",
       "ADNLPModel(f, x0, lvar, uvar, A, lcon, ucon)\n",
       "ADNLPModel(f, x0, lvar, uvar, c, lcon, ucon)\n",
       "ADNLPModel(f, x0, lvar, uvar, clinrows, clincols, clinvals, c, lcon, ucon)\n",
       "ADNLPModel(f, x0, lvar, uvar, A, c, lcon, ucon)\n",
       "ADNLPModel(model::AbstractNLPModel)\n",
       "\\end{verbatim}\n",
       "ADNLPModel is an AbstractNLPModel using automatic differentiation to compute the derivatives. The problem is defined as\n",
       "\n",
       "\\begin{verbatim}\n",
       " min  f(x)\n",
       "s.to  lcon ≤ (  Ax  ) ≤ ucon\n",
       "             ( c(x) )\n",
       "      lvar ≤   x  ≤ uvar.\n",
       "\\end{verbatim}\n",
       "The following keyword arguments are available to all constructors:\n",
       "\n",
       "\\begin{itemize}\n",
       "\\item \\texttt{minimize}: A boolean indicating whether this is a minimization problem (default: true)\n",
       "\n",
       "\n",
       "\\item \\texttt{name}: The name of the model (default: \"Generic\")\n",
       "\n",
       "\\end{itemize}\n",
       "The following keyword arguments are available to the constructors for constrained problems:\n",
       "\n",
       "\\begin{itemize}\n",
       "\\item \\texttt{y0}: An inital estimate to the Lagrangian multipliers (default: zeros)\n",
       "\n",
       "\\end{itemize}\n",
       "\\texttt{ADNLPModel} uses \\texttt{ForwardDiff} and \\texttt{ReverseDiff} for the automatic differentiation. One can specify a new backend with the keyword arguments \\texttt{backend::ADNLPModels.ADBackend}. There are three pre-coded backends:\n",
       "\n",
       "\\begin{itemize}\n",
       "\\item the default \\texttt{ForwardDiffAD}.\n",
       "\n",
       "\n",
       "\\item \\texttt{ReverseDiffAD}.\n",
       "\n",
       "\n",
       "\\item \\texttt{ZygoteDiffAD} accessible after loading \\texttt{Zygote.jl} in your environment.\n",
       "\n",
       "\\end{itemize}\n",
       "For an advanced usage, one can define its own backend and redefine the API as done in \\href{https://github.com/JuliaSmoothOptimizers/ADNLPModels.jl/blob/main/src/forward.jl}{ADNLPModels.jl/src/forward.jl}.\n",
       "\n",
       "\\section{Examples}\n",
       "\\begin{verbatim}\n",
       "using ADNLPModels\n",
       "f(x) = sum(x)\n",
       "x0 = ones(3)\n",
       "nvar = 3\n",
       "ADNLPModel(f, x0) # uses the default ForwardDiffAD backend.\n",
       "ADNLPModel(f, x0; backend = ADNLPModels.ReverseDiffAD) # uses ReverseDiffAD backend.\n",
       "\n",
       "using Zygote\n",
       "ADNLPModel(f, x0; backend = ADNLPModels.ZygoteAD)\n",
       "\\end{verbatim}\n",
       "\\begin{verbatim}\n",
       "using ADNLPModels\n",
       "f(x) = sum(x)\n",
       "x0 = ones(3)\n",
       "c(x) = [1x[1] + x[2]; x[2]]\n",
       "nvar, ncon = 3, 2\n",
       "ADNLPModel(f, x0, c, zeros(ncon), zeros(ncon)) # uses the default ForwardDiffAD backend.\n",
       "ADNLPModel(f, x0, c, zeros(ncon), zeros(ncon); backend = ADNLPModels.ReverseDiffAD) # uses ReverseDiffAD backend.\n",
       "\n",
       "using Zygote\n",
       "ADNLPModel(f, x0, c, zeros(ncon), zeros(ncon); backend = ADNLPModels.ZygoteAD)\n",
       "\\end{verbatim}\n",
       "For in-place constraints function, use one of the following constructors:\n",
       "\n",
       "\\begin{verbatim}\n",
       "ADNLPModel!(f, x0, c!, lcon, ucon)\n",
       "ADNLPModel!(f, x0, clinrows, clincols, clinvals, c!, lcon, ucon)\n",
       "ADNLPModel!(f, x0, A, c!, lcon, ucon)\n",
       "ADNLPModel(f, x0, lvar, uvar, c!, lcon, ucon)\n",
       "ADNLPModel(f, x0, lvar, uvar, clinrows, clincols, clinvals, c!, lcon, ucon)\n",
       "ADNLPModel(f, x0, lvar, uvar, A, c!, lcon, ucon)\n",
       "ADNLSModel!(model::AbstractNLSModel)\n",
       "\\end{verbatim}\n",
       "where the constraint function has the signature \\texttt{c!(output, input)}.\n",
       "\n",
       "\\begin{verbatim}\n",
       "using ADNLPModels\n",
       "f(x) = sum(x)\n",
       "x0 = ones(3)\n",
       "function c!(output, x) \n",
       "  output[1] = 1x[1] + x[2]\n",
       "  output[2] = x[2]\n",
       "end\n",
       "nvar, ncon = 3, 2\n",
       "nlp = ADNLPModel!(f, x0, c!, zeros(ncon), zeros(ncon)) # uses the default ForwardDiffAD backend.\n",
       "\\end{verbatim}\n"
      ],
      "text/markdown": [
       "```\n",
       "ADNLPModel(f, x0)\n",
       "ADNLPModel(f, x0, lvar, uvar)\n",
       "ADNLPModel(f, x0, clinrows, clincols, clinvals, lcon, ucon)\n",
       "ADNLPModel(f, x0, A, lcon, ucon)\n",
       "ADNLPModel(f, x0, c, lcon, ucon)\n",
       "ADNLPModel(f, x0, clinrows, clincols, clinvals, c, lcon, ucon)\n",
       "ADNLPModel(f, x0, A, c, lcon, ucon)\n",
       "ADNLPModel(f, x0, lvar, uvar, clinrows, clincols, clinvals, lcon, ucon)\n",
       "ADNLPModel(f, x0, lvar, uvar, A, lcon, ucon)\n",
       "ADNLPModel(f, x0, lvar, uvar, c, lcon, ucon)\n",
       "ADNLPModel(f, x0, lvar, uvar, clinrows, clincols, clinvals, c, lcon, ucon)\n",
       "ADNLPModel(f, x0, lvar, uvar, A, c, lcon, ucon)\n",
       "ADNLPModel(model::AbstractNLPModel)\n",
       "```\n",
       "\n",
       "ADNLPModel is an AbstractNLPModel using automatic differentiation to compute the derivatives. The problem is defined as\n",
       "\n",
       "```\n",
       " min  f(x)\n",
       "s.to  lcon ≤ (  Ax  ) ≤ ucon\n",
       "             ( c(x) )\n",
       "      lvar ≤   x  ≤ uvar.\n",
       "```\n",
       "\n",
       "The following keyword arguments are available to all constructors:\n",
       "\n",
       "  * `minimize`: A boolean indicating whether this is a minimization problem (default: true)\n",
       "  * `name`: The name of the model (default: \"Generic\")\n",
       "\n",
       "The following keyword arguments are available to the constructors for constrained problems:\n",
       "\n",
       "  * `y0`: An inital estimate to the Lagrangian multipliers (default: zeros)\n",
       "\n",
       "`ADNLPModel` uses `ForwardDiff` and `ReverseDiff` for the automatic differentiation. One can specify a new backend with the keyword arguments `backend::ADNLPModels.ADBackend`. There are three pre-coded backends:\n",
       "\n",
       "  * the default `ForwardDiffAD`.\n",
       "  * `ReverseDiffAD`.\n",
       "  * `ZygoteDiffAD` accessible after loading `Zygote.jl` in your environment.\n",
       "\n",
       "For an advanced usage, one can define its own backend and redefine the API as done in [ADNLPModels.jl/src/forward.jl](https://github.com/JuliaSmoothOptimizers/ADNLPModels.jl/blob/main/src/forward.jl).\n",
       "\n",
       "# Examples\n",
       "\n",
       "```julia\n",
       "using ADNLPModels\n",
       "f(x) = sum(x)\n",
       "x0 = ones(3)\n",
       "nvar = 3\n",
       "ADNLPModel(f, x0) # uses the default ForwardDiffAD backend.\n",
       "ADNLPModel(f, x0; backend = ADNLPModels.ReverseDiffAD) # uses ReverseDiffAD backend.\n",
       "\n",
       "using Zygote\n",
       "ADNLPModel(f, x0; backend = ADNLPModels.ZygoteAD)\n",
       "```\n",
       "\n",
       "```julia\n",
       "using ADNLPModels\n",
       "f(x) = sum(x)\n",
       "x0 = ones(3)\n",
       "c(x) = [1x[1] + x[2]; x[2]]\n",
       "nvar, ncon = 3, 2\n",
       "ADNLPModel(f, x0, c, zeros(ncon), zeros(ncon)) # uses the default ForwardDiffAD backend.\n",
       "ADNLPModel(f, x0, c, zeros(ncon), zeros(ncon); backend = ADNLPModels.ReverseDiffAD) # uses ReverseDiffAD backend.\n",
       "\n",
       "using Zygote\n",
       "ADNLPModel(f, x0, c, zeros(ncon), zeros(ncon); backend = ADNLPModels.ZygoteAD)\n",
       "```\n",
       "\n",
       "For in-place constraints function, use one of the following constructors:\n",
       "\n",
       "```\n",
       "ADNLPModel!(f, x0, c!, lcon, ucon)\n",
       "ADNLPModel!(f, x0, clinrows, clincols, clinvals, c!, lcon, ucon)\n",
       "ADNLPModel!(f, x0, A, c!, lcon, ucon)\n",
       "ADNLPModel(f, x0, lvar, uvar, c!, lcon, ucon)\n",
       "ADNLPModel(f, x0, lvar, uvar, clinrows, clincols, clinvals, c!, lcon, ucon)\n",
       "ADNLPModel(f, x0, lvar, uvar, A, c!, lcon, ucon)\n",
       "ADNLSModel!(model::AbstractNLSModel)\n",
       "```\n",
       "\n",
       "where the constraint function has the signature `c!(output, input)`.\n",
       "\n",
       "```julia\n",
       "using ADNLPModels\n",
       "f(x) = sum(x)\n",
       "x0 = ones(3)\n",
       "function c!(output, x) \n",
       "  output[1] = 1x[1] + x[2]\n",
       "  output[2] = x[2]\n",
       "end\n",
       "nvar, ncon = 3, 2\n",
       "nlp = ADNLPModel!(f, x0, c!, zeros(ncon), zeros(ncon)) # uses the default ForwardDiffAD backend.\n",
       "```\n"
      ],
      "text/plain": [
       "\u001b[36m  ADNLPModel(f, x0)\u001b[39m\n",
       "\u001b[36m  ADNLPModel(f, x0, lvar, uvar)\u001b[39m\n",
       "\u001b[36m  ADNLPModel(f, x0, clinrows, clincols, clinvals, lcon, ucon)\u001b[39m\n",
       "\u001b[36m  ADNLPModel(f, x0, A, lcon, ucon)\u001b[39m\n",
       "\u001b[36m  ADNLPModel(f, x0, c, lcon, ucon)\u001b[39m\n",
       "\u001b[36m  ADNLPModel(f, x0, clinrows, clincols, clinvals, c, lcon, ucon)\u001b[39m\n",
       "\u001b[36m  ADNLPModel(f, x0, A, c, lcon, ucon)\u001b[39m\n",
       "\u001b[36m  ADNLPModel(f, x0, lvar, uvar, clinrows, clincols, clinvals, lcon, ucon)\u001b[39m\n",
       "\u001b[36m  ADNLPModel(f, x0, lvar, uvar, A, lcon, ucon)\u001b[39m\n",
       "\u001b[36m  ADNLPModel(f, x0, lvar, uvar, c, lcon, ucon)\u001b[39m\n",
       "\u001b[36m  ADNLPModel(f, x0, lvar, uvar, clinrows, clincols, clinvals, c, lcon, ucon)\u001b[39m\n",
       "\u001b[36m  ADNLPModel(f, x0, lvar, uvar, A, c, lcon, ucon)\u001b[39m\n",
       "\u001b[36m  ADNLPModel(model::AbstractNLPModel)\u001b[39m\n",
       "\n",
       "  ADNLPModel is an AbstractNLPModel using automatic differentiation to compute\n",
       "  the derivatives. The problem is defined as\n",
       "\n",
       "\u001b[36m   min  f(x)\u001b[39m\n",
       "\u001b[36m  s.to  lcon ≤ (  Ax  ) ≤ ucon\u001b[39m\n",
       "\u001b[36m               ( c(x) )\u001b[39m\n",
       "\u001b[36m        lvar ≤   x  ≤ uvar.\u001b[39m\n",
       "\n",
       "  The following keyword arguments are available to all constructors:\n",
       "\n",
       "    •  \u001b[36mminimize\u001b[39m: A boolean indicating whether this is a minimization\n",
       "       problem (default: true)\n",
       "\n",
       "    •  \u001b[36mname\u001b[39m: The name of the model (default: \"Generic\")\n",
       "\n",
       "  The following keyword arguments are available to the constructors for\n",
       "  constrained problems:\n",
       "\n",
       "    •  \u001b[36my0\u001b[39m: An inital estimate to the Lagrangian multipliers (default:\n",
       "       zeros)\n",
       "\n",
       "  \u001b[36mADNLPModel\u001b[39m uses \u001b[36mForwardDiff\u001b[39m and \u001b[36mReverseDiff\u001b[39m for the automatic\n",
       "  differentiation. One can specify a new backend with the keyword arguments\n",
       "  \u001b[36mbackend::ADNLPModels.ADBackend\u001b[39m. There are three pre-coded backends:\n",
       "\n",
       "    •  the default \u001b[36mForwardDiffAD\u001b[39m.\n",
       "\n",
       "    •  \u001b[36mReverseDiffAD\u001b[39m.\n",
       "\n",
       "    •  \u001b[36mZygoteDiffAD\u001b[39m accessible after loading \u001b[36mZygote.jl\u001b[39m in your\n",
       "       environment.\n",
       "\n",
       "  For an advanced usage, one can define its own backend and redefine the API\n",
       "  as done in ADNLPModels.jl/src/forward.jl\n",
       "  (https://github.com/JuliaSmoothOptimizers/ADNLPModels.jl/blob/main/src/forward.jl).\n",
       "\n",
       "\u001b[1m  Examples\u001b[22m\n",
       "\u001b[1m  ≡≡≡≡≡≡≡≡\u001b[22m\n",
       "\n",
       "\u001b[36m  using ADNLPModels\u001b[39m\n",
       "\u001b[36m  f(x) = sum(x)\u001b[39m\n",
       "\u001b[36m  x0 = ones(3)\u001b[39m\n",
       "\u001b[36m  nvar = 3\u001b[39m\n",
       "\u001b[36m  ADNLPModel(f, x0) # uses the default ForwardDiffAD backend.\u001b[39m\n",
       "\u001b[36m  ADNLPModel(f, x0; backend = ADNLPModels.ReverseDiffAD) # uses ReverseDiffAD backend.\u001b[39m\n",
       "\u001b[36m  \u001b[39m\n",
       "\u001b[36m  using Zygote\u001b[39m\n",
       "\u001b[36m  ADNLPModel(f, x0; backend = ADNLPModels.ZygoteAD)\u001b[39m\n",
       "\n",
       "\u001b[36m  using ADNLPModels\u001b[39m\n",
       "\u001b[36m  f(x) = sum(x)\u001b[39m\n",
       "\u001b[36m  x0 = ones(3)\u001b[39m\n",
       "\u001b[36m  c(x) = [1x[1] + x[2]; x[2]]\u001b[39m\n",
       "\u001b[36m  nvar, ncon = 3, 2\u001b[39m\n",
       "\u001b[36m  ADNLPModel(f, x0, c, zeros(ncon), zeros(ncon)) # uses the default ForwardDiffAD backend.\u001b[39m\n",
       "\u001b[36m  ADNLPModel(f, x0, c, zeros(ncon), zeros(ncon); backend = ADNLPModels.ReverseDiffAD) # uses ReverseDiffAD backend.\u001b[39m\n",
       "\u001b[36m  \u001b[39m\n",
       "\u001b[36m  using Zygote\u001b[39m\n",
       "\u001b[36m  ADNLPModel(f, x0, c, zeros(ncon), zeros(ncon); backend = ADNLPModels.ZygoteAD)\u001b[39m\n",
       "\n",
       "  For in-place constraints function, use one of the following constructors:\n",
       "\n",
       "\u001b[36m  ADNLPModel!(f, x0, c!, lcon, ucon)\u001b[39m\n",
       "\u001b[36m  ADNLPModel!(f, x0, clinrows, clincols, clinvals, c!, lcon, ucon)\u001b[39m\n",
       "\u001b[36m  ADNLPModel!(f, x0, A, c!, lcon, ucon)\u001b[39m\n",
       "\u001b[36m  ADNLPModel(f, x0, lvar, uvar, c!, lcon, ucon)\u001b[39m\n",
       "\u001b[36m  ADNLPModel(f, x0, lvar, uvar, clinrows, clincols, clinvals, c!, lcon, ucon)\u001b[39m\n",
       "\u001b[36m  ADNLPModel(f, x0, lvar, uvar, A, c!, lcon, ucon)\u001b[39m\n",
       "\u001b[36m  ADNLSModel!(model::AbstractNLSModel)\u001b[39m\n",
       "\n",
       "  where the constraint function has the signature \u001b[36mc!(output, input)\u001b[39m.\n",
       "\n",
       "\u001b[36m  using ADNLPModels\u001b[39m\n",
       "\u001b[36m  f(x) = sum(x)\u001b[39m\n",
       "\u001b[36m  x0 = ones(3)\u001b[39m\n",
       "\u001b[36m  function c!(output, x) \u001b[39m\n",
       "\u001b[36m    output[1] = 1x[1] + x[2]\u001b[39m\n",
       "\u001b[36m    output[2] = x[2]\u001b[39m\n",
       "\u001b[36m  end\u001b[39m\n",
       "\u001b[36m  nvar, ncon = 3, 2\u001b[39m\n",
       "\u001b[36m  nlp = ADNLPModel!(f, x0, c!, zeros(ncon), zeros(ncon)) # uses the default ForwardDiffAD backend.\u001b[39m"
      ]
     },
     "metadata": {},
     "output_type": "display_data"
    }
   ],
   "source": [
    "@doc ADNLPModel"
   ]
  },
  {
   "cell_type": "code",
   "execution_count": 9,
   "id": "efe11d78-3e3d-4839-9e44-00030c040758",
   "metadata": {},
   "outputs": [],
   "source": [
    "using OptimizationProblems\n",
    "using OptimizationProblems.ADNLPProblems # https://github.com/JuliaSmoothOptimizers/OptimizationProblems.jl\n",
    "                                         # contains a test set of problems of type ADNLPModel"
   ]
  },
  {
   "cell_type": "code",
   "execution_count": 10,
   "id": "18780905-b5e3-46aa-95b6-a156e3257571",
   "metadata": {},
   "outputs": [
    {
     "data": {
      "text/plain": [
       "ADNLPModel - Model with automatic differentiation backend ADModelBackend{\n",
       "  ForwardDiffADGradient,\n",
       "  ForwardDiffADHvprod,\n",
       "  EmptyADbackend,\n",
       "  EmptyADbackend,\n",
       "  EmptyADbackend,\n",
       "  EmptyADbackend,\n",
       "  EmptyADbackend,\n",
       "}\n",
       "  Problem name: arglina\n",
       "   All variables: ████████████████████ 100    All constraints: ⋅⋅⋅⋅⋅⋅⋅⋅⋅⋅⋅⋅⋅⋅⋅⋅⋅⋅⋅⋅ 0     \n",
       "            free: ████████████████████ 100               free: ⋅⋅⋅⋅⋅⋅⋅⋅⋅⋅⋅⋅⋅⋅⋅⋅⋅⋅⋅⋅ 0     \n",
       "           lower: ⋅⋅⋅⋅⋅⋅⋅⋅⋅⋅⋅⋅⋅⋅⋅⋅⋅⋅⋅⋅ 0                lower: ⋅⋅⋅⋅⋅⋅⋅⋅⋅⋅⋅⋅⋅⋅⋅⋅⋅⋅⋅⋅ 0     \n",
       "           upper: ⋅⋅⋅⋅⋅⋅⋅⋅⋅⋅⋅⋅⋅⋅⋅⋅⋅⋅⋅⋅ 0                upper: ⋅⋅⋅⋅⋅⋅⋅⋅⋅⋅⋅⋅⋅⋅⋅⋅⋅⋅⋅⋅ 0     \n",
       "         low/upp: ⋅⋅⋅⋅⋅⋅⋅⋅⋅⋅⋅⋅⋅⋅⋅⋅⋅⋅⋅⋅ 0              low/upp: ⋅⋅⋅⋅⋅⋅⋅⋅⋅⋅⋅⋅⋅⋅⋅⋅⋅⋅⋅⋅ 0     \n",
       "           fixed: ⋅⋅⋅⋅⋅⋅⋅⋅⋅⋅⋅⋅⋅⋅⋅⋅⋅⋅⋅⋅ 0                fixed: ⋅⋅⋅⋅⋅⋅⋅⋅⋅⋅⋅⋅⋅⋅⋅⋅⋅⋅⋅⋅ 0     \n",
       "          infeas: ⋅⋅⋅⋅⋅⋅⋅⋅⋅⋅⋅⋅⋅⋅⋅⋅⋅⋅⋅⋅ 0               infeas: ⋅⋅⋅⋅⋅⋅⋅⋅⋅⋅⋅⋅⋅⋅⋅⋅⋅⋅⋅⋅ 0     \n",
       "            nnzh: (  0.00% sparsity)   5050            linear: ⋅⋅⋅⋅⋅⋅⋅⋅⋅⋅⋅⋅⋅⋅⋅⋅⋅⋅⋅⋅ 0     \n",
       "                                                    nonlinear: ⋅⋅⋅⋅⋅⋅⋅⋅⋅⋅⋅⋅⋅⋅⋅⋅⋅⋅⋅⋅ 0     \n",
       "                                                         nnzj: (------% sparsity)         \n",
       "\n",
       "  Counters:\n",
       "             obj: ⋅⋅⋅⋅⋅⋅⋅⋅⋅⋅⋅⋅⋅⋅⋅⋅⋅⋅⋅⋅ 0                 grad: ⋅⋅⋅⋅⋅⋅⋅⋅⋅⋅⋅⋅⋅⋅⋅⋅⋅⋅⋅⋅ 0                 cons: ⋅⋅⋅⋅⋅⋅⋅⋅⋅⋅⋅⋅⋅⋅⋅⋅⋅⋅⋅⋅ 0     \n",
       "        cons_lin: ⋅⋅⋅⋅⋅⋅⋅⋅⋅⋅⋅⋅⋅⋅⋅⋅⋅⋅⋅⋅ 0             cons_nln: ⋅⋅⋅⋅⋅⋅⋅⋅⋅⋅⋅⋅⋅⋅⋅⋅⋅⋅⋅⋅ 0                 jcon: ⋅⋅⋅⋅⋅⋅⋅⋅⋅⋅⋅⋅⋅⋅⋅⋅⋅⋅⋅⋅ 0     \n",
       "           jgrad: ⋅⋅⋅⋅⋅⋅⋅⋅⋅⋅⋅⋅⋅⋅⋅⋅⋅⋅⋅⋅ 0                  jac: ⋅⋅⋅⋅⋅⋅⋅⋅⋅⋅⋅⋅⋅⋅⋅⋅⋅⋅⋅⋅ 0              jac_lin: ⋅⋅⋅⋅⋅⋅⋅⋅⋅⋅⋅⋅⋅⋅⋅⋅⋅⋅⋅⋅ 0     \n",
       "         jac_nln: ⋅⋅⋅⋅⋅⋅⋅⋅⋅⋅⋅⋅⋅⋅⋅⋅⋅⋅⋅⋅ 0                jprod: ⋅⋅⋅⋅⋅⋅⋅⋅⋅⋅⋅⋅⋅⋅⋅⋅⋅⋅⋅⋅ 0            jprod_lin: ⋅⋅⋅⋅⋅⋅⋅⋅⋅⋅⋅⋅⋅⋅⋅⋅⋅⋅⋅⋅ 0     \n",
       "       jprod_nln: ⋅⋅⋅⋅⋅⋅⋅⋅⋅⋅⋅⋅⋅⋅⋅⋅⋅⋅⋅⋅ 0               jtprod: ⋅⋅⋅⋅⋅⋅⋅⋅⋅⋅⋅⋅⋅⋅⋅⋅⋅⋅⋅⋅ 0           jtprod_lin: ⋅⋅⋅⋅⋅⋅⋅⋅⋅⋅⋅⋅⋅⋅⋅⋅⋅⋅⋅⋅ 0     \n",
       "      jtprod_nln: ⋅⋅⋅⋅⋅⋅⋅⋅⋅⋅⋅⋅⋅⋅⋅⋅⋅⋅⋅⋅ 0                 hess: ⋅⋅⋅⋅⋅⋅⋅⋅⋅⋅⋅⋅⋅⋅⋅⋅⋅⋅⋅⋅ 0                hprod: ⋅⋅⋅⋅⋅⋅⋅⋅⋅⋅⋅⋅⋅⋅⋅⋅⋅⋅⋅⋅ 0     \n",
       "           jhess: ⋅⋅⋅⋅⋅⋅⋅⋅⋅⋅⋅⋅⋅⋅⋅⋅⋅⋅⋅⋅ 0               jhprod: ⋅⋅⋅⋅⋅⋅⋅⋅⋅⋅⋅⋅⋅⋅⋅⋅⋅⋅⋅⋅ 0     \n"
      ]
     },
     "metadata": {},
     "output_type": "display_data"
    }
   ],
   "source": [
    "nlp = OptimizationProblems.ADNLPProblems.arglina(matrix_free = true) # is one of them"
   ]
  },
  {
   "cell_type": "code",
   "execution_count": 11,
   "id": "b574c53d-51b7-4e93-94a8-27d8f14e9de9",
   "metadata": {},
   "outputs": [
    {
     "data": {
      "text/html": [
       "<div><div style = \"float: left;\"><span>374×17 DataFrame</span></div><div style = \"float: right; font-style: italic;\"><span>349 rows omitted</span></div><div style = \"clear: both;\"></div></div><div class = \"data-frame\" style = \"overflow-x: scroll;\"><table class = \"data-frame\" style = \"margin-bottom: 6px;\"><thead><tr class = \"columnLabelRow\"><th class = \"stubheadLabel\" style = \"font-weight: bold; text-align: right;\">Row</th><th style = \"text-align: left;\">nvar</th><th style = \"text-align: left;\">variable_nvar</th><th style = \"text-align: left;\">ncon</th><th style = \"text-align: left;\">variable_ncon</th><th style = \"text-align: left;\">minimize</th><th style = \"text-align: left;\">name</th><th style = \"text-align: left;\">has_equalities_only</th><th style = \"text-align: left;\">has_inequalities_only</th><th style = \"text-align: left;\">has_bounds</th><th style = \"text-align: left;\">has_fixed_variables</th><th style = \"text-align: left;\">objtype</th><th style = \"text-align: left;\">contype</th><th style = \"text-align: left;\">best_known_lower_bound</th><th style = \"text-align: left;\">best_known_upper_bound</th><th style = \"text-align: left;\">is_feasible</th><th style = \"text-align: left;\">defined_everywhere</th><th style = \"text-align: left;\">origin</th></tr><tr class = \"columnLabelRow\"><th class = \"stubheadLabel\" style = \"font-weight: bold; text-align: right;\"></th><th title = \"Int64\" style = \"text-align: left;\">Int64</th><th title = \"Bool\" style = \"text-align: left;\">Bool</th><th title = \"Int64\" style = \"text-align: left;\">Int64</th><th title = \"Bool\" style = \"text-align: left;\">Bool</th><th title = \"Bool\" style = \"text-align: left;\">Bool</th><th title = \"String\" style = \"text-align: left;\">String</th><th title = \"Bool\" style = \"text-align: left;\">Bool</th><th title = \"Bool\" style = \"text-align: left;\">Bool</th><th title = \"Bool\" style = \"text-align: left;\">Bool</th><th title = \"Bool\" style = \"text-align: left;\">Bool</th><th title = \"Symbol\" style = \"text-align: left;\">Symbol</th><th title = \"Symbol\" style = \"text-align: left;\">Symbol</th><th title = \"Real\" style = \"text-align: left;\">Real</th><th title = \"Real\" style = \"text-align: left;\">Real</th><th title = \"Union{Missing, Bool}\" style = \"text-align: left;\">Bool?</th><th title = \"Union{Missing, Bool}\" style = \"text-align: left;\">Bool?</th><th title = \"Symbol\" style = \"text-align: left;\">Symbol</th></tr></thead><tbody><tr class = \"dataRow\"><td class = \"rowLabel\" style = \"font-weight: bold; text-align: right;\">1</td><td style = \"text-align: right;\">1</td><td style = \"text-align: right;\">false</td><td style = \"text-align: right;\">0</td><td style = \"text-align: right;\">false</td><td style = \"text-align: right;\">true</td><td style = \"text-align: left;\">AMPGO02</td><td style = \"text-align: right;\">false</td><td style = \"text-align: right;\">false</td><td style = \"text-align: right;\">false</td><td style = \"text-align: right;\">false</td><td style = \"text-align: left;\">other</td><td style = \"text-align: left;\">unconstrained</td><td style = \"text-align: right;\">-Inf</td><td style = \"text-align: right;\">0.839498</td><td style = \"text-align: right;\">true</td><td style = \"font-style: italic; text-align: right;\">missing</td><td style = \"text-align: left;\">unknown</td></tr><tr class = \"dataRow\"><td class = \"rowLabel\" style = \"font-weight: bold; text-align: right;\">2</td><td style = \"text-align: right;\">1</td><td style = \"text-align: right;\">false</td><td style = \"text-align: right;\">0</td><td style = \"text-align: right;\">false</td><td style = \"text-align: right;\">true</td><td style = \"text-align: left;\">AMPGO03</td><td style = \"text-align: right;\">false</td><td style = \"text-align: right;\">false</td><td style = \"text-align: right;\">false</td><td style = \"text-align: right;\">false</td><td style = \"text-align: left;\">other</td><td style = \"text-align: left;\">unconstrained</td><td style = \"text-align: right;\">-Inf</td><td style = \"text-align: right;\">2.88961</td><td style = \"text-align: right;\">true</td><td style = \"font-style: italic; text-align: right;\">missing</td><td style = \"text-align: left;\">unknown</td></tr><tr class = \"dataRow\"><td class = \"rowLabel\" style = \"font-weight: bold; text-align: right;\">3</td><td style = \"text-align: right;\">1</td><td style = \"text-align: right;\">false</td><td style = \"text-align: right;\">0</td><td style = \"text-align: right;\">false</td><td style = \"text-align: right;\">true</td><td style = \"text-align: left;\">AMPGO04</td><td style = \"text-align: right;\">false</td><td style = \"text-align: right;\">false</td><td style = \"text-align: right;\">false</td><td style = \"text-align: right;\">false</td><td style = \"text-align: left;\">other</td><td style = \"text-align: left;\">unconstrained</td><td style = \"text-align: right;\">-Inf</td><td style = \"text-align: right;\">-2.5666</td><td style = \"text-align: right;\">true</td><td style = \"font-style: italic; text-align: right;\">missing</td><td style = \"text-align: left;\">unknown</td></tr><tr class = \"dataRow\"><td class = \"rowLabel\" style = \"font-weight: bold; text-align: right;\">4</td><td style = \"text-align: right;\">1</td><td style = \"text-align: right;\">false</td><td style = \"text-align: right;\">0</td><td style = \"text-align: right;\">false</td><td style = \"text-align: right;\">true</td><td style = \"text-align: left;\">AMPGO05</td><td style = \"text-align: right;\">false</td><td style = \"text-align: right;\">false</td><td style = \"text-align: right;\">false</td><td style = \"text-align: right;\">false</td><td style = \"text-align: left;\">other</td><td style = \"text-align: left;\">unconstrained</td><td style = \"text-align: right;\">-Inf</td><td style = \"text-align: right;\">-0.0</td><td style = \"text-align: right;\">true</td><td style = \"font-style: italic; text-align: right;\">missing</td><td style = \"text-align: left;\">unknown</td></tr><tr class = \"dataRow\"><td class = \"rowLabel\" style = \"font-weight: bold; text-align: right;\">5</td><td style = \"text-align: right;\">1</td><td style = \"text-align: right;\">false</td><td style = \"text-align: right;\">0</td><td style = \"text-align: right;\">false</td><td style = \"text-align: right;\">true</td><td style = \"text-align: left;\">AMPGO06</td><td style = \"text-align: right;\">false</td><td style = \"text-align: right;\">false</td><td style = \"text-align: right;\">false</td><td style = \"text-align: right;\">false</td><td style = \"text-align: left;\">other</td><td style = \"text-align: left;\">unconstrained</td><td style = \"text-align: right;\">-Inf</td><td style = \"text-align: right;\">3.5177e-43</td><td style = \"text-align: right;\">true</td><td style = \"font-style: italic; text-align: right;\">missing</td><td style = \"text-align: left;\">unknown</td></tr><tr class = \"dataRow\"><td class = \"rowLabel\" style = \"font-weight: bold; text-align: right;\">6</td><td style = \"text-align: right;\">1</td><td style = \"text-align: right;\">false</td><td style = \"text-align: right;\">0</td><td style = \"text-align: right;\">false</td><td style = \"text-align: right;\">true</td><td style = \"text-align: left;\">AMPGO07</td><td style = \"text-align: right;\">false</td><td style = \"text-align: right;\">false</td><td style = \"text-align: right;\">false</td><td style = \"text-align: right;\">false</td><td style = \"text-align: left;\">other</td><td style = \"text-align: left;\">unconstrained</td><td style = \"text-align: right;\">-Inf</td><td style = \"text-align: right;\">2.56475</td><td style = \"text-align: right;\">true</td><td style = \"font-style: italic; text-align: right;\">missing</td><td style = \"text-align: left;\">unknown</td></tr><tr class = \"dataRow\"><td class = \"rowLabel\" style = \"font-weight: bold; text-align: right;\">7</td><td style = \"text-align: right;\">1</td><td style = \"text-align: right;\">false</td><td style = \"text-align: right;\">0</td><td style = \"text-align: right;\">false</td><td style = \"text-align: right;\">true</td><td style = \"text-align: left;\">AMPGO08</td><td style = \"text-align: right;\">false</td><td style = \"text-align: right;\">false</td><td style = \"text-align: right;\">false</td><td style = \"text-align: right;\">false</td><td style = \"text-align: left;\">other</td><td style = \"text-align: left;\">unconstrained</td><td style = \"text-align: right;\">-Inf</td><td style = \"text-align: right;\">-2.0928</td><td style = \"text-align: right;\">true</td><td style = \"font-style: italic; text-align: right;\">missing</td><td style = \"text-align: left;\">unknown</td></tr><tr class = \"dataRow\"><td class = \"rowLabel\" style = \"font-weight: bold; text-align: right;\">8</td><td style = \"text-align: right;\">1</td><td style = \"text-align: right;\">false</td><td style = \"text-align: right;\">0</td><td style = \"text-align: right;\">false</td><td style = \"text-align: right;\">true</td><td style = \"text-align: left;\">AMPGO09</td><td style = \"text-align: right;\">false</td><td style = \"text-align: right;\">false</td><td style = \"text-align: right;\">false</td><td style = \"text-align: right;\">false</td><td style = \"text-align: left;\">other</td><td style = \"text-align: left;\">unconstrained</td><td style = \"text-align: right;\">-Inf</td><td style = \"text-align: right;\">0.921136</td><td style = \"text-align: right;\">true</td><td style = \"font-style: italic; text-align: right;\">missing</td><td style = \"text-align: left;\">unknown</td></tr><tr class = \"dataRow\"><td class = \"rowLabel\" style = \"font-weight: bold; text-align: right;\">9</td><td style = \"text-align: right;\">1</td><td style = \"text-align: right;\">false</td><td style = \"text-align: right;\">0</td><td style = \"text-align: right;\">false</td><td style = \"text-align: right;\">true</td><td style = \"text-align: left;\">AMPGO10</td><td style = \"text-align: right;\">false</td><td style = \"text-align: right;\">false</td><td style = \"text-align: right;\">false</td><td style = \"text-align: right;\">false</td><td style = \"text-align: left;\">other</td><td style = \"text-align: left;\">unconstrained</td><td style = \"text-align: right;\">-Inf</td><td style = \"text-align: right;\">-0.0</td><td style = \"text-align: right;\">true</td><td style = \"font-style: italic; text-align: right;\">missing</td><td style = \"text-align: left;\">unknown</td></tr><tr class = \"dataRow\"><td class = \"rowLabel\" style = \"font-weight: bold; text-align: right;\">10</td><td style = \"text-align: right;\">1</td><td style = \"text-align: right;\">false</td><td style = \"text-align: right;\">0</td><td style = \"text-align: right;\">false</td><td style = \"text-align: right;\">true</td><td style = \"text-align: left;\">AMPGO11</td><td style = \"text-align: right;\">false</td><td style = \"text-align: right;\">false</td><td style = \"text-align: right;\">false</td><td style = \"text-align: right;\">false</td><td style = \"text-align: left;\">other</td><td style = \"text-align: left;\">unconstrained</td><td style = \"text-align: right;\">-Inf</td><td style = \"text-align: right;\">-1.0</td><td style = \"text-align: right;\">true</td><td style = \"font-style: italic; text-align: right;\">missing</td><td style = \"text-align: left;\">unknown</td></tr><tr class = \"dataRow\"><td class = \"rowLabel\" style = \"font-weight: bold; text-align: right;\">11</td><td style = \"text-align: right;\">1</td><td style = \"text-align: right;\">false</td><td style = \"text-align: right;\">0</td><td style = \"text-align: right;\">false</td><td style = \"text-align: right;\">true</td><td style = \"text-align: left;\">AMPGO12</td><td style = \"text-align: right;\">false</td><td style = \"text-align: right;\">false</td><td style = \"text-align: right;\">false</td><td style = \"text-align: right;\">false</td><td style = \"text-align: left;\">other</td><td style = \"text-align: left;\">unconstrained</td><td style = \"text-align: right;\">-Inf</td><td style = \"text-align: right;\">1.0</td><td style = \"text-align: right;\">true</td><td style = \"font-style: italic; text-align: right;\">missing</td><td style = \"text-align: left;\">unknown</td></tr><tr class = \"dataRow\"><td class = \"rowLabel\" style = \"font-weight: bold; text-align: right;\">12</td><td style = \"text-align: right;\">1</td><td style = \"text-align: right;\">false</td><td style = \"text-align: right;\">0</td><td style = \"text-align: right;\">false</td><td style = \"text-align: right;\">true</td><td style = \"text-align: left;\">AMPGO13</td><td style = \"text-align: right;\">false</td><td style = \"text-align: right;\">false</td><td style = \"text-align: right;\">false</td><td style = \"text-align: right;\">false</td><td style = \"text-align: left;\">other</td><td style = \"text-align: left;\">unconstrained</td><td style = \"text-align: right;\">-1.5874</td><td style = \"text-align: right;\">-1.5874</td><td style = \"text-align: right;\">true</td><td style = \"font-style: italic; text-align: right;\">missing</td><td style = \"text-align: left;\">unknown</td></tr><tr class = \"dataRow\"><td class = \"rowLabel\" style = \"font-weight: bold; text-align: right;\">13</td><td style = \"text-align: right;\">1</td><td style = \"text-align: right;\">false</td><td style = \"text-align: right;\">0</td><td style = \"text-align: right;\">false</td><td style = \"text-align: right;\">true</td><td style = \"text-align: left;\">AMPGO14</td><td style = \"text-align: right;\">false</td><td style = \"text-align: right;\">false</td><td style = \"text-align: right;\">false</td><td style = \"text-align: right;\">false</td><td style = \"text-align: left;\">other</td><td style = \"text-align: left;\">unconstrained</td><td style = \"text-align: right;\">-Inf</td><td style = \"text-align: right;\">-0.0</td><td style = \"text-align: right;\">true</td><td style = \"font-style: italic; text-align: right;\">missing</td><td style = \"text-align: left;\">unknown</td></tr><tr><td style = \"text-align: right;\">&vellip;</td><td style = \"text-align: right;\">&vellip;</td><td style = \"text-align: right;\">&vellip;</td><td style = \"text-align: right;\">&vellip;</td><td style = \"text-align: right;\">&vellip;</td><td style = \"text-align: right;\">&vellip;</td><td style = \"text-align: left;\">&vellip;</td><td style = \"text-align: right;\">&vellip;</td><td style = \"text-align: right;\">&vellip;</td><td style = \"text-align: right;\">&vellip;</td><td style = \"text-align: right;\">&vellip;</td><td style = \"text-align: left;\">&vellip;</td><td style = \"text-align: left;\">&vellip;</td><td style = \"text-align: right;\">&vellip;</td><td style = \"text-align: right;\">&vellip;</td><td style = \"text-align: right;\">&vellip;</td><td style = \"text-align: right;\">&vellip;</td><td style = \"text-align: left;\">&vellip;</td></tr><tr class = \"dataRow\"><td class = \"rowLabel\" style = \"font-weight: bold; text-align: right;\">363</td><td style = \"text-align: right;\">100</td><td style = \"text-align: right;\">true</td><td style = \"text-align: right;\">0</td><td style = \"text-align: right;\">false</td><td style = \"text-align: right;\">true</td><td style = \"text-align: left;\">tointgss</td><td style = \"text-align: right;\">false</td><td style = \"text-align: right;\">false</td><td style = \"text-align: right;\">false</td><td style = \"text-align: right;\">false</td><td style = \"text-align: left;\">other</td><td style = \"text-align: left;\">unconstrained</td><td style = \"text-align: right;\">-Inf</td><td style = \"text-align: right;\">891.608</td><td style = \"text-align: right;\">true</td><td style = \"font-style: italic; text-align: right;\">missing</td><td style = \"text-align: left;\">unknown</td></tr><tr class = \"dataRow\"><td class = \"rowLabel\" style = \"font-weight: bold; text-align: right;\">364</td><td style = \"text-align: right;\">100</td><td style = \"text-align: right;\">true</td><td style = \"text-align: right;\">0</td><td style = \"text-align: right;\">false</td><td style = \"text-align: right;\">true</td><td style = \"text-align: left;\">tquartic</td><td style = \"text-align: right;\">false</td><td style = \"text-align: right;\">false</td><td style = \"text-align: right;\">false</td><td style = \"text-align: right;\">false</td><td style = \"text-align: left;\">least_squares</td><td style = \"text-align: left;\">unconstrained</td><td style = \"text-align: right;\">-Inf</td><td style = \"text-align: right;\">0.81</td><td style = \"text-align: right;\">true</td><td style = \"font-style: italic; text-align: right;\">missing</td><td style = \"text-align: left;\">unknown</td></tr><tr class = \"dataRow\"><td class = \"rowLabel\" style = \"font-weight: bold; text-align: right;\">365</td><td style = \"text-align: right;\">8</td><td style = \"text-align: right;\">false</td><td style = \"text-align: right;\">3</td><td style = \"text-align: right;\">false</td><td style = \"text-align: right;\">true</td><td style = \"text-align: left;\">triangle</td><td style = \"text-align: right;\">false</td><td style = \"text-align: right;\">true</td><td style = \"text-align: right;\">true</td><td style = \"text-align: right;\">true</td><td style = \"text-align: left;\">other</td><td style = \"text-align: left;\">general</td><td style = \"text-align: right;\">-Inf</td><td style = \"text-align: right;\">11.328</td><td style = \"text-align: right;\">true</td><td style = \"font-style: italic; text-align: right;\">missing</td><td style = \"text-align: left;\">unknown</td></tr><tr class = \"dataRow\"><td class = \"rowLabel\" style = \"font-weight: bold; text-align: right;\">366</td><td style = \"text-align: right;\">2244</td><td style = \"text-align: right;\">false</td><td style = \"text-align: right;\">1896</td><td style = \"text-align: right;\">false</td><td style = \"text-align: right;\">true</td><td style = \"text-align: left;\">triangle_deer</td><td style = \"text-align: right;\">false</td><td style = \"text-align: right;\">true</td><td style = \"text-align: right;\">true</td><td style = \"text-align: right;\">true</td><td style = \"text-align: left;\">other</td><td style = \"text-align: left;\">general</td><td style = \"text-align: right;\">-Inf</td><td style = \"text-align: right;\">2014.34</td><td style = \"text-align: right;\">true</td><td style = \"font-style: italic; text-align: right;\">missing</td><td style = \"text-align: left;\">unknown</td></tr><tr class = \"dataRow\"><td class = \"rowLabel\" style = \"font-weight: bold; text-align: right;\">367</td><td style = \"text-align: right;\">1366</td><td style = \"text-align: right;\">false</td><td style = \"text-align: right;\">1182</td><td style = \"text-align: right;\">false</td><td style = \"text-align: right;\">true</td><td style = \"text-align: left;\">triangle_pacman</td><td style = \"text-align: right;\">false</td><td style = \"text-align: right;\">true</td><td style = \"text-align: right;\">true</td><td style = \"text-align: right;\">true</td><td style = \"text-align: left;\">other</td><td style = \"text-align: left;\">general</td><td style = \"text-align: right;\">-Inf</td><td style = \"text-align: right;\">1316.28</td><td style = \"text-align: right;\">true</td><td style = \"font-style: italic; text-align: right;\">missing</td><td style = \"text-align: left;\">unknown</td></tr><tr class = \"dataRow\"><td class = \"rowLabel\" style = \"font-weight: bold; text-align: right;\">368</td><td style = \"text-align: right;\">4444</td><td style = \"text-align: right;\">false</td><td style = \"text-align: right;\">4025</td><td style = \"text-align: right;\">false</td><td style = \"text-align: right;\">true</td><td style = \"text-align: left;\">triangle_turtle</td><td style = \"text-align: right;\">false</td><td style = \"text-align: right;\">true</td><td style = \"text-align: right;\">true</td><td style = \"text-align: right;\">true</td><td style = \"text-align: left;\">other</td><td style = \"text-align: left;\">general</td><td style = \"text-align: right;\">-Inf</td><td style = \"text-align: right;\">4467.58</td><td style = \"text-align: right;\">true</td><td style = \"font-style: italic; text-align: right;\">missing</td><td style = \"text-align: left;\">unknown</td></tr><tr class = \"dataRow\"><td class = \"rowLabel\" style = \"font-weight: bold; text-align: right;\">369</td><td style = \"text-align: right;\">100</td><td style = \"text-align: right;\">true</td><td style = \"text-align: right;\">0</td><td style = \"text-align: right;\">false</td><td style = \"text-align: right;\">true</td><td style = \"text-align: left;\">tridia</td><td style = \"text-align: right;\">false</td><td style = \"text-align: right;\">false</td><td style = \"text-align: right;\">false</td><td style = \"text-align: right;\">false</td><td style = \"text-align: left;\">other</td><td style = \"text-align: left;\">unconstrained</td><td style = \"text-align: right;\">-Inf</td><td style = \"text-align: right;\">5049.0</td><td style = \"text-align: right;\">true</td><td style = \"font-style: italic; text-align: right;\">missing</td><td style = \"text-align: left;\">unknown</td></tr><tr class = \"dataRow\"><td class = \"rowLabel\" style = \"font-weight: bold; text-align: right;\">370</td><td style = \"text-align: right;\">100</td><td style = \"text-align: right;\">true</td><td style = \"text-align: right;\">0</td><td style = \"text-align: right;\">false</td><td style = \"text-align: right;\">true</td><td style = \"text-align: left;\">vardim</td><td style = \"text-align: right;\">false</td><td style = \"text-align: right;\">false</td><td style = \"text-align: right;\">false</td><td style = \"text-align: right;\">false</td><td style = \"text-align: left;\">other</td><td style = \"text-align: left;\">unconstrained</td><td style = \"text-align: right;\">-Inf</td><td style = \"text-align: right;\">1.31058e14</td><td style = \"text-align: right;\">true</td><td style = \"font-style: italic; text-align: right;\">missing</td><td style = \"text-align: left;\">unknown</td></tr><tr class = \"dataRow\"><td class = \"rowLabel\" style = \"font-weight: bold; text-align: right;\">371</td><td style = \"text-align: right;\">8</td><td style = \"text-align: right;\">false</td><td style = \"text-align: right;\">0</td><td style = \"text-align: right;\">false</td><td style = \"text-align: right;\">true</td><td style = \"text-align: left;\">vibrbeam</td><td style = \"text-align: right;\">false</td><td style = \"text-align: right;\">false</td><td style = \"text-align: right;\">false</td><td style = \"text-align: right;\">false</td><td style = \"text-align: left;\">least_squares</td><td style = \"text-align: left;\">unconstrained</td><td style = \"text-align: right;\">-Inf</td><td style = \"text-align: right;\">8231.28</td><td style = \"text-align: right;\">true</td><td style = \"font-style: italic; text-align: right;\">missing</td><td style = \"text-align: left;\">unknown</td></tr><tr class = \"dataRow\"><td class = \"rowLabel\" style = \"font-weight: bold; text-align: right;\">372</td><td style = \"text-align: right;\">31</td><td style = \"text-align: right;\">false</td><td style = \"text-align: right;\">0</td><td style = \"text-align: right;\">false</td><td style = \"text-align: right;\">true</td><td style = \"text-align: left;\">watson</td><td style = \"text-align: right;\">false</td><td style = \"text-align: right;\">false</td><td style = \"text-align: right;\">false</td><td style = \"text-align: right;\">false</td><td style = \"text-align: left;\">least_squares</td><td style = \"text-align: left;\">unconstrained</td><td style = \"text-align: right;\">-Inf</td><td style = \"text-align: right;\">500.0</td><td style = \"text-align: right;\">true</td><td style = \"font-style: italic; text-align: right;\">missing</td><td style = \"text-align: left;\">unknown</td></tr><tr class = \"dataRow\"><td class = \"rowLabel\" style = \"font-weight: bold; text-align: right;\">373</td><td style = \"text-align: right;\">100</td><td style = \"text-align: right;\">true</td><td style = \"text-align: right;\">0</td><td style = \"text-align: right;\">false</td><td style = \"text-align: right;\">true</td><td style = \"text-align: left;\">woods</td><td style = \"text-align: right;\">false</td><td style = \"text-align: right;\">false</td><td style = \"text-align: right;\">false</td><td style = \"text-align: right;\">false</td><td style = \"text-align: left;\">other</td><td style = \"text-align: left;\">unconstrained</td><td style = \"text-align: right;\">-Inf</td><td style = \"text-align: right;\">180451.0</td><td style = \"text-align: right;\">true</td><td style = \"font-style: italic; text-align: right;\">missing</td><td style = \"text-align: left;\">unknown</td></tr><tr class = \"dataRow\"><td class = \"rowLabel\" style = \"font-weight: bold; text-align: right;\">374</td><td style = \"text-align: right;\">3</td><td style = \"text-align: right;\">false</td><td style = \"text-align: right;\">3</td><td style = \"text-align: right;\">false</td><td style = \"text-align: right;\">true</td><td style = \"text-align: left;\">zangwil3</td><td style = \"text-align: right;\">true</td><td style = \"text-align: right;\">false</td><td style = \"text-align: right;\">false</td><td style = \"text-align: right;\">false</td><td style = \"text-align: left;\">other</td><td style = \"text-align: left;\">linear</td><td style = \"text-align: right;\">-Inf</td><td style = \"text-align: right;\">Inf</td><td style = \"font-style: italic; text-align: right;\">missing</td><td style = \"font-style: italic; text-align: right;\">missing</td><td style = \"text-align: left;\">unknown</td></tr></tbody></table></div>"
      ],
      "text/latex": [
       "\\begin{tabular}{r|cccccccc}\n",
       "\t& nvar & variable\\_nvar & ncon & variable\\_ncon & minimize & name & has\\_equalities\\_only & \\\\\n",
       "\t\\hline\n",
       "\t& Int64 & Bool & Int64 & Bool & Bool & String & Bool & \\\\\n",
       "\t\\hline\n",
       "\t1 & 1 & 0 & 0 & 0 & 1 & AMPGO02 & 0 & $\\dots$ \\\\\n",
       "\t2 & 1 & 0 & 0 & 0 & 1 & AMPGO03 & 0 & $\\dots$ \\\\\n",
       "\t3 & 1 & 0 & 0 & 0 & 1 & AMPGO04 & 0 & $\\dots$ \\\\\n",
       "\t4 & 1 & 0 & 0 & 0 & 1 & AMPGO05 & 0 & $\\dots$ \\\\\n",
       "\t5 & 1 & 0 & 0 & 0 & 1 & AMPGO06 & 0 & $\\dots$ \\\\\n",
       "\t6 & 1 & 0 & 0 & 0 & 1 & AMPGO07 & 0 & $\\dots$ \\\\\n",
       "\t7 & 1 & 0 & 0 & 0 & 1 & AMPGO08 & 0 & $\\dots$ \\\\\n",
       "\t8 & 1 & 0 & 0 & 0 & 1 & AMPGO09 & 0 & $\\dots$ \\\\\n",
       "\t9 & 1 & 0 & 0 & 0 & 1 & AMPGO10 & 0 & $\\dots$ \\\\\n",
       "\t10 & 1 & 0 & 0 & 0 & 1 & AMPGO11 & 0 & $\\dots$ \\\\\n",
       "\t11 & 1 & 0 & 0 & 0 & 1 & AMPGO12 & 0 & $\\dots$ \\\\\n",
       "\t12 & 1 & 0 & 0 & 0 & 1 & AMPGO13 & 0 & $\\dots$ \\\\\n",
       "\t13 & 1 & 0 & 0 & 0 & 1 & AMPGO14 & 0 & $\\dots$ \\\\\n",
       "\t14 & 1 & 0 & 0 & 0 & 1 & AMPGO15 & 0 & $\\dots$ \\\\\n",
       "\t15 & 1 & 0 & 0 & 0 & 1 & AMPGO18 & 0 & $\\dots$ \\\\\n",
       "\t16 & 1 & 0 & 0 & 0 & 1 & AMPGO20 & 0 & $\\dots$ \\\\\n",
       "\t17 & 1 & 0 & 0 & 0 & 1 & AMPGO21 & 0 & $\\dots$ \\\\\n",
       "\t18 & 1 & 0 & 0 & 0 & 1 & AMPGO22 & 0 & $\\dots$ \\\\\n",
       "\t19 & 3 & 0 & 1 & 0 & 1 & BOX2 & 1 & $\\dots$ \\\\\n",
       "\t20 & 3 & 0 & 0 & 0 & 1 & BOX3 & 0 & $\\dots$ \\\\\n",
       "\t21 & 1 & 0 & 0 & 0 & 1 & Dus2\\_1 & 0 & $\\dots$ \\\\\n",
       "\t22 & 1 & 0 & 0 & 0 & 1 & Dus2\\_3 & 0 & $\\dots$ \\\\\n",
       "\t23 & 1 & 0 & 0 & 0 & 1 & Dus2\\_9 & 0 & $\\dots$ \\\\\n",
       "\t24 & 1 & 0 & 0 & 0 & 1 & Duscube & 0 & $\\dots$ \\\\\n",
       "\t$\\dots$ & $\\dots$ & $\\dots$ & $\\dots$ & $\\dots$ & $\\dots$ & $\\dots$ & $\\dots$ &  \\\\\n",
       "\\end{tabular}\n"
      ],
      "text/plain": [
       "\u001b[1m374×17 DataFrame\u001b[0m\n",
       "\u001b[1m Row \u001b[0m│\u001b[1m nvar  \u001b[0m\u001b[1m variable_nvar \u001b[0m\u001b[1m ncon  \u001b[0m\u001b[1m variable_ncon \u001b[0m\u001b[1m minimize \u001b[0m\u001b[1m name            \u001b[0m\u001b[1m \u001b[0m ⋯\n",
       "\u001b[1m     \u001b[0m│\u001b[90m Int64 \u001b[0m\u001b[90m Bool          \u001b[0m\u001b[90m Int64 \u001b[0m\u001b[90m Bool          \u001b[0m\u001b[90m Bool     \u001b[0m\u001b[90m String          \u001b[0m\u001b[90m \u001b[0m ⋯\n",
       "─────┼──────────────────────────────────────────────────────────────────────────\n",
       "   1 │     1          false      0          false      true  AMPGO02           ⋯\n",
       "   2 │     1          false      0          false      true  AMPGO03\n",
       "   3 │     1          false      0          false      true  AMPGO04\n",
       "   4 │     1          false      0          false      true  AMPGO05\n",
       "   5 │     1          false      0          false      true  AMPGO06           ⋯\n",
       "   6 │     1          false      0          false      true  AMPGO07\n",
       "   7 │     1          false      0          false      true  AMPGO08\n",
       "   8 │     1          false      0          false      true  AMPGO09\n",
       "  ⋮  │   ⋮          ⋮          ⋮          ⋮           ⋮             ⋮          ⋱\n",
       " 368 │  4444          false   4025          false      true  triangle_turtle   ⋯\n",
       " 369 │   100           true      0          false      true  tridia\n",
       " 370 │   100           true      0          false      true  vardim\n",
       " 371 │     8          false      0          false      true  vibrbeam\n",
       " 372 │    31          false      0          false      true  watson            ⋯\n",
       " 373 │   100           true      0          false      true  woods\n",
       " 374 │     3          false      3          false      true  zangwil3\n",
       "\u001b[36m                                                 11 columns and 359 rows omitted\u001b[0m"
      ]
     },
     "metadata": {},
     "output_type": "display_data"
    }
   ],
   "source": [
    "OptimizationProblems.meta # is a DataFrame that allows us to check some information on the test problems without loading them"
   ]
  },
  {
   "cell_type": "markdown",
   "id": "944b669f-455f-48a0-a76b-bcedabd12769",
   "metadata": {},
   "source": [
    "We can also explore the `fieldnames` of a datatype to see what data it contains"
   ]
  },
  {
   "cell_type": "code",
   "execution_count": 12,
   "id": "d85ad25e-b2e9-4e24-a128-d50421b3ac3b",
   "metadata": {},
   "outputs": [
    {
     "data": {
      "text/plain": [
       "(:meta, :counters, :adbackend, :f, :clinrows, :clincols, :clinvals, :c!)"
      ]
     },
     "metadata": {},
     "output_type": "display_data"
    }
   ],
   "source": [
    "fieldnames(typeof(nlp))"
   ]
  },
  {
   "cell_type": "code",
   "execution_count": 13,
   "id": "96152178-56a1-47fe-a1e5-d900c1880f6b",
   "metadata": {},
   "outputs": [
    {
     "data": {
      "text/plain": [
       "(:nvar, :x0, :lvar, :uvar, :ifix, :ilow, :iupp, :irng, :ifree, :iinf, :nlvb, :nlvo, :nlvc, :ncon, :y0, :lcon, :ucon, :jfix, :jlow, :jupp, :jrng, :jfree, :jinf, :nnzo, :nnzj, :lin_nnzj, :nln_nnzj, :nnzh, :nlin, :nnln, :lin, :nln, :minimize, :islp, :name)"
      ]
     },
     "metadata": {},
     "output_type": "display_data"
    }
   ],
   "source": [
    "fieldnames(typeof(nlp.meta))"
   ]
  },
  {
   "cell_type": "markdown",
   "id": "5f010778-7e10-406d-ab41-4ec1f4b2b5fa",
   "metadata": {},
   "source": [
    "## Optimization problem solver"
   ]
  },
  {
   "cell_type": "code",
   "execution_count": 43,
   "id": "7f6c01d7-0aeb-4a71-83cd-d006855c84ef",
   "metadata": {},
   "outputs": [],
   "source": [
    "using JSOSuite # see https://github.com/JuliaSmoothOptimizers/JSOSuite.jl\n",
    "               # is a wrapper to centralize all the solvers in JuliaSmoothOptimizers"
   ]
  },
  {
   "cell_type": "code",
   "execution_count": 44,
   "id": "e2c55916-7e08-4b20-b3a8-5502e36c328d",
   "metadata": {},
   "outputs": [
    {
     "data": {
      "text/html": [
       "<div><div style = \"float: left;\"><span>13×15 DataFrame</span></div><div style = \"clear: both;\"></div></div><div class = \"data-frame\" style = \"overflow-x: scroll;\"><table class = \"data-frame\" style = \"margin-bottom: 6px;\"><thead><tr class = \"columnLabelRow\"><th class = \"stubheadLabel\" style = \"font-weight: bold; text-align: right;\">Row</th><th style = \"text-align: left;\">name</th><th style = \"text-align: left;\">name_solver</th><th style = \"text-align: left;\">name_parameters</th><th style = \"text-align: left;\">name_pkg</th><th style = \"text-align: left;\">solve_function</th><th style = \"text-align: left;\">is_available</th><th style = \"text-align: left;\">bounds</th><th style = \"text-align: left;\">equalities</th><th style = \"text-align: left;\">inequalities</th><th style = \"text-align: left;\">specialized_nls</th><th style = \"text-align: left;\">can_solve_nlp</th><th style = \"text-align: left;\">nonlinear_obj</th><th style = \"text-align: left;\">nonlinear_con</th><th style = \"text-align: left;\">double_precision_only</th><th style = \"text-align: left;\">highest_derivative</th></tr><tr class = \"columnLabelRow\"><th class = \"stubheadLabel\" style = \"font-weight: bold; text-align: right;\"></th><th title = \"String\" style = \"text-align: left;\">String</th><th title = \"Symbol\" style = \"text-align: left;\">Symbol</th><th title = \"Symbol\" style = \"text-align: left;\">Symbol</th><th title = \"String\" style = \"text-align: left;\">String</th><th title = \"Symbol\" style = \"text-align: left;\">Symbol</th><th title = \"Bool\" style = \"text-align: left;\">Bool</th><th title = \"Bool\" style = \"text-align: left;\">Bool</th><th title = \"Bool\" style = \"text-align: left;\">Bool</th><th title = \"Bool\" style = \"text-align: left;\">Bool</th><th title = \"Bool\" style = \"text-align: left;\">Bool</th><th title = \"Bool\" style = \"text-align: left;\">Bool</th><th title = \"Bool\" style = \"text-align: left;\">Bool</th><th title = \"Bool\" style = \"text-align: left;\">Bool</th><th title = \"Bool\" style = \"text-align: left;\">Bool</th><th title = \"Int64\" style = \"text-align: left;\">Int64</th></tr></thead><tbody><tr class = \"dataRow\"><td class = \"rowLabel\" style = \"font-weight: bold; text-align: right;\">1</td><td style = \"text-align: left;\">KNITRO</td><td style = \"text-align: left;\">KnitroSolver</td><td style = \"text-align: left;\">not_implemented</td><td style = \"text-align: left;\">NLPModelsKnitro.jl</td><td style = \"text-align: left;\">knitro</td><td style = \"text-align: right;\">false</td><td style = \"text-align: right;\">true</td><td style = \"text-align: right;\">true</td><td style = \"text-align: right;\">true</td><td style = \"text-align: right;\">true</td><td style = \"text-align: right;\">true</td><td style = \"text-align: right;\">true</td><td style = \"text-align: right;\">true</td><td style = \"text-align: right;\">true</td><td style = \"text-align: right;\">2</td></tr><tr class = \"dataRow\"><td class = \"rowLabel\" style = \"font-weight: bold; text-align: right;\">2</td><td style = \"text-align: left;\">LBFGS</td><td style = \"text-align: left;\">LBFGSSolver</td><td style = \"text-align: left;\">LBFGSParameterSet</td><td style = \"text-align: left;\">JSOSolvers.jl</td><td style = \"text-align: left;\">lbfgs</td><td style = \"text-align: right;\">true</td><td style = \"text-align: right;\">false</td><td style = \"text-align: right;\">false</td><td style = \"text-align: right;\">false</td><td style = \"text-align: right;\">false</td><td style = \"text-align: right;\">true</td><td style = \"text-align: right;\">true</td><td style = \"text-align: right;\">true</td><td style = \"text-align: right;\">false</td><td style = \"text-align: right;\">1</td></tr><tr class = \"dataRow\"><td class = \"rowLabel\" style = \"font-weight: bold; text-align: right;\">3</td><td style = \"text-align: left;\">R2</td><td style = \"text-align: left;\">R2Solver</td><td style = \"text-align: left;\">FOMOParameterSet</td><td style = \"text-align: left;\">JSOSolvers.jl</td><td style = \"text-align: left;\">R2</td><td style = \"text-align: right;\">true</td><td style = \"text-align: right;\">false</td><td style = \"text-align: right;\">false</td><td style = \"text-align: right;\">false</td><td style = \"text-align: right;\">false</td><td style = \"text-align: right;\">true</td><td style = \"text-align: right;\">true</td><td style = \"text-align: right;\">true</td><td style = \"text-align: right;\">false</td><td style = \"text-align: right;\">1</td></tr><tr class = \"dataRow\"><td class = \"rowLabel\" style = \"font-weight: bold; text-align: right;\">4</td><td style = \"text-align: left;\">TRON</td><td style = \"text-align: left;\">TronSolver</td><td style = \"text-align: left;\">TRONParameterSet</td><td style = \"text-align: left;\">JSOSolvers.jl</td><td style = \"text-align: left;\">tron</td><td style = \"text-align: right;\">true</td><td style = \"text-align: right;\">true</td><td style = \"text-align: right;\">false</td><td style = \"text-align: right;\">false</td><td style = \"text-align: right;\">false</td><td style = \"text-align: right;\">true</td><td style = \"text-align: right;\">true</td><td style = \"text-align: right;\">true</td><td style = \"text-align: right;\">false</td><td style = \"text-align: right;\">2</td></tr><tr class = \"dataRow\"><td class = \"rowLabel\" style = \"font-weight: bold; text-align: right;\">5</td><td style = \"text-align: left;\">TRUNK</td><td style = \"text-align: left;\">TrunkSolver</td><td style = \"text-align: left;\">TRUNKParameterSet</td><td style = \"text-align: left;\">JSOSolvers.jl</td><td style = \"text-align: left;\">trunk</td><td style = \"text-align: right;\">true</td><td style = \"text-align: right;\">false</td><td style = \"text-align: right;\">false</td><td style = \"text-align: right;\">false</td><td style = \"text-align: right;\">false</td><td style = \"text-align: right;\">true</td><td style = \"text-align: right;\">true</td><td style = \"text-align: right;\">true</td><td style = \"text-align: right;\">false</td><td style = \"text-align: right;\">2</td></tr><tr class = \"dataRow\"><td class = \"rowLabel\" style = \"font-weight: bold; text-align: right;\">6</td><td style = \"text-align: left;\">TRON-NLS</td><td style = \"text-align: left;\">TronSolverNLS</td><td style = \"text-align: left;\">TRONLSParameterSet</td><td style = \"text-align: left;\">JSOSolvers.jl</td><td style = \"text-align: left;\">tron</td><td style = \"text-align: right;\">true</td><td style = \"text-align: right;\">true</td><td style = \"text-align: right;\">false</td><td style = \"text-align: right;\">false</td><td style = \"text-align: right;\">true</td><td style = \"text-align: right;\">false</td><td style = \"text-align: right;\">true</td><td style = \"text-align: right;\">true</td><td style = \"text-align: right;\">false</td><td style = \"text-align: right;\">2</td></tr><tr class = \"dataRow\"><td class = \"rowLabel\" style = \"font-weight: bold; text-align: right;\">7</td><td style = \"text-align: left;\">TRUNK-NLS</td><td style = \"text-align: left;\">TrunkSolverNLS</td><td style = \"text-align: left;\">TRUNKLSParameterSet</td><td style = \"text-align: left;\">JSOSolvers.jl</td><td style = \"text-align: left;\">trunk</td><td style = \"text-align: right;\">true</td><td style = \"text-align: right;\">false</td><td style = \"text-align: right;\">false</td><td style = \"text-align: right;\">false</td><td style = \"text-align: right;\">true</td><td style = \"text-align: right;\">false</td><td style = \"text-align: right;\">true</td><td style = \"text-align: right;\">true</td><td style = \"text-align: right;\">false</td><td style = \"text-align: right;\">2</td></tr><tr class = \"dataRow\"><td class = \"rowLabel\" style = \"font-weight: bold; text-align: right;\">8</td><td style = \"text-align: left;\">CaNNOLeS</td><td style = \"text-align: left;\">CaNNOLeSSolver</td><td style = \"text-align: left;\">not_implemented</td><td style = \"text-align: left;\">CaNNOLeS.jl</td><td style = \"text-align: left;\">cannoles</td><td style = \"text-align: right;\">false</td><td style = \"text-align: right;\">false</td><td style = \"text-align: right;\">true</td><td style = \"text-align: right;\">false</td><td style = \"text-align: right;\">true</td><td style = \"text-align: right;\">false</td><td style = \"text-align: right;\">true</td><td style = \"text-align: right;\">true</td><td style = \"text-align: right;\">false</td><td style = \"text-align: right;\">2</td></tr><tr class = \"dataRow\"><td class = \"rowLabel\" style = \"font-weight: bold; text-align: right;\">9</td><td style = \"text-align: left;\">IPOPT</td><td style = \"text-align: left;\">IpoptSolver</td><td style = \"text-align: left;\">not_implemented</td><td style = \"text-align: left;\">NLPModelsIpopt.jl</td><td style = \"text-align: left;\">ipopt</td><td style = \"text-align: right;\">false</td><td style = \"text-align: right;\">true</td><td style = \"text-align: right;\">true</td><td style = \"text-align: right;\">true</td><td style = \"text-align: right;\">false</td><td style = \"text-align: right;\">true</td><td style = \"text-align: right;\">true</td><td style = \"text-align: right;\">true</td><td style = \"text-align: right;\">true</td><td style = \"text-align: right;\">2</td></tr><tr class = \"dataRow\"><td class = \"rowLabel\" style = \"font-weight: bold; text-align: right;\">10</td><td style = \"text-align: left;\">DCISolver</td><td style = \"text-align: left;\">DCIWorkspace</td><td style = \"text-align: left;\">not_implemented</td><td style = \"text-align: left;\">DCISolver.jl</td><td style = \"text-align: left;\">dci</td><td style = \"text-align: right;\">false</td><td style = \"text-align: right;\">false</td><td style = \"text-align: right;\">true</td><td style = \"text-align: right;\">false</td><td style = \"text-align: right;\">false</td><td style = \"text-align: right;\">true</td><td style = \"text-align: right;\">true</td><td style = \"text-align: right;\">true</td><td style = \"text-align: right;\">false</td><td style = \"text-align: right;\">2</td></tr><tr class = \"dataRow\"><td class = \"rowLabel\" style = \"font-weight: bold; text-align: right;\">11</td><td style = \"text-align: left;\">FletcherPenaltySolver</td><td style = \"text-align: left;\">FPSSSolver</td><td style = \"text-align: left;\">not_implemented</td><td style = \"text-align: left;\">FletcherPenaltySolver.jl</td><td style = \"text-align: left;\">fps_solve</td><td style = \"text-align: right;\">false</td><td style = \"text-align: right;\">false</td><td style = \"text-align: right;\">true</td><td style = \"text-align: right;\">false</td><td style = \"text-align: right;\">false</td><td style = \"text-align: right;\">true</td><td style = \"text-align: right;\">true</td><td style = \"text-align: right;\">true</td><td style = \"text-align: right;\">false</td><td style = \"text-align: right;\">2</td></tr><tr class = \"dataRow\"><td class = \"rowLabel\" style = \"font-weight: bold; text-align: right;\">12</td><td style = \"text-align: left;\">Percival</td><td style = \"text-align: left;\">PercivalSolver</td><td style = \"text-align: left;\">not_implemented</td><td style = \"text-align: left;\">Percival.jl</td><td style = \"text-align: left;\">percival</td><td style = \"text-align: right;\">true</td><td style = \"text-align: right;\">true</td><td style = \"text-align: right;\">true</td><td style = \"text-align: right;\">true</td><td style = \"text-align: right;\">false</td><td style = \"text-align: right;\">true</td><td style = \"text-align: right;\">true</td><td style = \"text-align: right;\">true</td><td style = \"text-align: right;\">false</td><td style = \"text-align: right;\">2</td></tr><tr class = \"dataRow\"><td class = \"rowLabel\" style = \"font-weight: bold; text-align: right;\">13</td><td style = \"text-align: left;\">RipQP</td><td style = \"text-align: left;\">RipQPSolver</td><td style = \"text-align: left;\">not_implemented</td><td style = \"text-align: left;\">RipQP.jl</td><td style = \"text-align: left;\">ripqp</td><td style = \"text-align: right;\">false</td><td style = \"text-align: right;\">true</td><td style = \"text-align: right;\">true</td><td style = \"text-align: right;\">true</td><td style = \"text-align: right;\">false</td><td style = \"text-align: right;\">false</td><td style = \"text-align: right;\">false</td><td style = \"text-align: right;\">false</td><td style = \"text-align: right;\">false</td><td style = \"text-align: right;\">2</td></tr></tbody></table></div>"
      ],
      "text/latex": [
       "\\begin{tabular}{r|ccccc}\n",
       "\t& name & name\\_solver & name\\_parameters & name\\_pkg & \\\\\n",
       "\t\\hline\n",
       "\t& String & Symbol & Symbol & String & \\\\\n",
       "\t\\hline\n",
       "\t1 & KNITRO & KnitroSolver & not\\_implemented & NLPModelsKnitro.jl & $\\dots$ \\\\\n",
       "\t2 & LBFGS & LBFGSSolver & LBFGSParameterSet & JSOSolvers.jl & $\\dots$ \\\\\n",
       "\t3 & R2 & R2Solver & FOMOParameterSet & JSOSolvers.jl & $\\dots$ \\\\\n",
       "\t4 & TRON & TronSolver & TRONParameterSet & JSOSolvers.jl & $\\dots$ \\\\\n",
       "\t5 & TRUNK & TrunkSolver & TRUNKParameterSet & JSOSolvers.jl & $\\dots$ \\\\\n",
       "\t6 & TRON-NLS & TronSolverNLS & TRONLSParameterSet & JSOSolvers.jl & $\\dots$ \\\\\n",
       "\t7 & TRUNK-NLS & TrunkSolverNLS & TRUNKLSParameterSet & JSOSolvers.jl & $\\dots$ \\\\\n",
       "\t8 & CaNNOLeS & CaNNOLeSSolver & not\\_implemented & CaNNOLeS.jl & $\\dots$ \\\\\n",
       "\t9 & IPOPT & IpoptSolver & not\\_implemented & NLPModelsIpopt.jl & $\\dots$ \\\\\n",
       "\t10 & DCISolver & DCIWorkspace & not\\_implemented & DCISolver.jl & $\\dots$ \\\\\n",
       "\t11 & FletcherPenaltySolver & FPSSSolver & not\\_implemented & FletcherPenaltySolver.jl & $\\dots$ \\\\\n",
       "\t12 & Percival & PercivalSolver & not\\_implemented & Percival.jl & $\\dots$ \\\\\n",
       "\t13 & RipQP & RipQPSolver & not\\_implemented & RipQP.jl & $\\dots$ \\\\\n",
       "\\end{tabular}\n"
      ],
      "text/plain": [
       "\u001b[1m13×15 DataFrame\u001b[0m\n",
       "\u001b[1m Row \u001b[0m│\u001b[1m name                  \u001b[0m\u001b[1m name_solver    \u001b[0m\u001b[1m name_parameters     \u001b[0m\u001b[1m name_pkg   \u001b[0m ⋯\n",
       "\u001b[1m     \u001b[0m│\u001b[90m String                \u001b[0m\u001b[90m Symbol         \u001b[0m\u001b[90m Symbol              \u001b[0m\u001b[90m String     \u001b[0m ⋯\n",
       "─────┼──────────────────────────────────────────────────────────────────────────\n",
       "   1 │ KNITRO                 KnitroSolver    not_implemented      NLPModelsKn ⋯\n",
       "   2 │ LBFGS                  LBFGSSolver     LBFGSParameterSet    JSOSolvers.\n",
       "   3 │ R2                     R2Solver        FOMOParameterSet     JSOSolvers.\n",
       "   4 │ TRON                   TronSolver      TRONParameterSet     JSOSolvers.\n",
       "   5 │ TRUNK                  TrunkSolver     TRUNKParameterSet    JSOSolvers. ⋯\n",
       "   6 │ TRON-NLS               TronSolverNLS   TRONLSParameterSet   JSOSolvers.\n",
       "   7 │ TRUNK-NLS              TrunkSolverNLS  TRUNKLSParameterSet  JSOSolvers.\n",
       "   8 │ CaNNOLeS               CaNNOLeSSolver  not_implemented      CaNNOLeS.jl\n",
       "   9 │ IPOPT                  IpoptSolver     not_implemented      NLPModelsIp ⋯\n",
       "  10 │ DCISolver              DCIWorkspace    not_implemented      DCISolver.j\n",
       "  11 │ FletcherPenaltySolver  FPSSSolver      not_implemented      FletcherPen\n",
       "  12 │ Percival               PercivalSolver  not_implemented      Percival.jl\n",
       "  13 │ RipQP                  RipQPSolver     not_implemented      RipQP.jl    ⋯\n",
       "\u001b[36m                                                              12 columns omitted\u001b[0m"
      ]
     },
     "metadata": {},
     "output_type": "display_data"
    }
   ],
   "source": [
    "JSOSuite.optimizers # is a DataFrame that present the different solvers and some of their characteristics"
   ]
  },
  {
   "cell_type": "code",
   "execution_count": 45,
   "id": "c89f7513-b76c-4e07-9d21-d15bf5c3ac73",
   "metadata": {},
   "outputs": [
    {
     "data": {
      "text/html": [
       "<div><div style = \"float: left;\"><span>1×15 DataFrame</span></div><div style = \"clear: both;\"></div></div><div class = \"data-frame\" style = \"overflow-x: scroll;\"><table class = \"data-frame\" style = \"margin-bottom: 6px;\"><thead><tr class = \"columnLabelRow\"><th class = \"stubheadLabel\" style = \"font-weight: bold; text-align: right;\">Row</th><th style = \"text-align: left;\">name</th><th style = \"text-align: left;\">name_solver</th><th style = \"text-align: left;\">name_parameters</th><th style = \"text-align: left;\">name_pkg</th><th style = \"text-align: left;\">solve_function</th><th style = \"text-align: left;\">is_available</th><th style = \"text-align: left;\">bounds</th><th style = \"text-align: left;\">equalities</th><th style = \"text-align: left;\">inequalities</th><th style = \"text-align: left;\">specialized_nls</th><th style = \"text-align: left;\">can_solve_nlp</th><th style = \"text-align: left;\">nonlinear_obj</th><th style = \"text-align: left;\">nonlinear_con</th><th style = \"text-align: left;\">double_precision_only</th><th style = \"text-align: left;\">highest_derivative</th></tr><tr class = \"columnLabelRow\"><th class = \"stubheadLabel\" style = \"font-weight: bold; text-align: right;\"></th><th title = \"String\" style = \"text-align: left;\">String</th><th title = \"Symbol\" style = \"text-align: left;\">Symbol</th><th title = \"Symbol\" style = \"text-align: left;\">Symbol</th><th title = \"String\" style = \"text-align: left;\">String</th><th title = \"Symbol\" style = \"text-align: left;\">Symbol</th><th title = \"Bool\" style = \"text-align: left;\">Bool</th><th title = \"Bool\" style = \"text-align: left;\">Bool</th><th title = \"Bool\" style = \"text-align: left;\">Bool</th><th title = \"Bool\" style = \"text-align: left;\">Bool</th><th title = \"Bool\" style = \"text-align: left;\">Bool</th><th title = \"Bool\" style = \"text-align: left;\">Bool</th><th title = \"Bool\" style = \"text-align: left;\">Bool</th><th title = \"Bool\" style = \"text-align: left;\">Bool</th><th title = \"Bool\" style = \"text-align: left;\">Bool</th><th title = \"Int64\" style = \"text-align: left;\">Int64</th></tr></thead><tbody><tr class = \"dataRow\"><td class = \"rowLabel\" style = \"font-weight: bold; text-align: right;\">1</td><td style = \"text-align: left;\">LBFGS</td><td style = \"text-align: left;\">LBFGSSolver</td><td style = \"text-align: left;\">LBFGSParameterSet</td><td style = \"text-align: left;\">JSOSolvers.jl</td><td style = \"text-align: left;\">lbfgs</td><td style = \"text-align: right;\">true</td><td style = \"text-align: right;\">false</td><td style = \"text-align: right;\">false</td><td style = \"text-align: right;\">false</td><td style = \"text-align: right;\">false</td><td style = \"text-align: right;\">true</td><td style = \"text-align: right;\">true</td><td style = \"text-align: right;\">true</td><td style = \"text-align: right;\">false</td><td style = \"text-align: right;\">1</td></tr></tbody></table></div>"
      ],
      "text/latex": [
       "\\begin{tabular}{r|ccccccc}\n",
       "\t& name & name\\_solver & name\\_parameters & name\\_pkg & solve\\_function & is\\_available & \\\\\n",
       "\t\\hline\n",
       "\t& String & Symbol & Symbol & String & Symbol & Bool & \\\\\n",
       "\t\\hline\n",
       "\t1 & LBFGS & LBFGSSolver & LBFGSParameterSet & JSOSolvers.jl & lbfgs & 1 & $\\dots$ \\\\\n",
       "\\end{tabular}\n"
      ],
      "text/plain": [
       "\u001b[1m1×15 DataFrame\u001b[0m\n",
       "\u001b[1m Row \u001b[0m│\u001b[1m name   \u001b[0m\u001b[1m name_solver \u001b[0m\u001b[1m name_parameters   \u001b[0m\u001b[1m name_pkg      \u001b[0m\u001b[1m solve_function \u001b[0m\u001b[1m \u001b[0m ⋯\n",
       "\u001b[1m     \u001b[0m│\u001b[90m String \u001b[0m\u001b[90m Symbol      \u001b[0m\u001b[90m Symbol            \u001b[0m\u001b[90m String        \u001b[0m\u001b[90m Symbol         \u001b[0m\u001b[90m \u001b[0m ⋯\n",
       "─────┼──────────────────────────────────────────────────────────────────────────\n",
       "   1 │ LBFGS   LBFGSSolver  LBFGSParameterSet  JSOSolvers.jl  lbfgs            ⋯\n",
       "\u001b[36m                                                              10 columns omitted\u001b[0m"
      ]
     },
     "metadata": {},
     "output_type": "display_data"
    }
   ],
   "source": [
    "JSOSuite.optimizers[JSOSuite.optimizers.name .== \"LBFGS\", :] # In this project, we will focus on L-BFGS algorithm."
   ]
  },
  {
   "cell_type": "code",
   "execution_count": 48,
   "id": "937319d6-f2a7-43d2-8c9c-f8982ffd07a5",
   "metadata": {},
   "outputs": [],
   "source": [
    "using SolverParameters # Define the main structure to handle the algorithm's parameters\n",
    "using JSOSolvers"
   ]
  },
  {
   "cell_type": "code",
   "execution_count": 49,
   "id": "5376fa03-8166-4896-88fa-d43b006cca87",
   "metadata": {},
   "outputs": [
    {
     "data": {
      "text/plain": [
       "LBFGSParameterSet{Float64}(Parameter{Int64, IntegerRange{Int64}}(5, IntegerRange{Int64}(1, 100), \"\"), Parameter{Float64, RealInterval{Float64}}(0.9999, RealInterval{Float64}(0.0, 1.0, true, false), \"\"), Parameter{Int64, IntegerRange{Int64}}(25, IntegerRange{Int64}(1, 100), \"\"))"
      ]
     },
     "metadata": {},
     "output_type": "display_data"
    }
   ],
   "source": [
    "param_set = JSOSolvers.LBFGSParameterSet(nlp)"
   ]
  },
  {
   "cell_type": "markdown",
   "id": "794aea3c-e8b7-48f8-9094-f5440721220a",
   "metadata": {},
   "source": [
    "By checking the fields inside this structure we see that there are three parameters `mem`, `τ₁` and `bk_max`."
   ]
  },
  {
   "cell_type": "code",
   "execution_count": 50,
   "id": "1ab3afe0-32da-4e00-a8dd-67011d79d45e",
   "metadata": {},
   "outputs": [
    {
     "ename": "ErrorException",
     "evalue": "type LBFGSParameterSet has no field status",
     "output_type": "error",
     "traceback": [
      "type LBFGSParameterSet has no field status\n",
      "\n",
      "Stacktrace:\n",
      " [1] getproperty(x::LBFGSParameterSet{Float64}, f::Symbol)\n",
      "   @ Base ./Base.jl:49\n",
      " [2] top-level scope\n",
      "   @ ~/OptimizationParameterTuning/Julia Notebook/archived/jl_notebook_cell_df34fa98e69747e1a8f8a730347b8e2f_X31sdnNjb2RlLXJlbW90ZQ==.jl:1"
     ]
    }
   ],
   "source": [
    "fieldnames(typeof(param_set.status))"
   ]
  },
  {
   "cell_type": "code",
   "execution_count": 20,
   "id": "1d39e316-3c42-4419-8651-8095ce40c4b8",
   "metadata": {},
   "outputs": [
    {
     "ename": "UndefVarError",
     "evalue": "UndefVarError: `param_set` not defined in `Main`\nSuggestion: check for spelling errors or missing imports.",
     "output_type": "error",
     "traceback": [
      "UndefVarError: `param_set` not defined in `Main`\n",
      "Suggestion: check for spelling errors or missing imports.\n",
      "\n",
      "Stacktrace:\n",
      " [1] top-level scope\n",
      "   @ ~/OptimizationParameterTuning/Julia Notebook/archived/jl_notebook_cell_df34fa98e69747e1a8f8a730347b8e2f_X32sdnNjb2RlLXJlbW90ZQ==.jl:1"
     ]
    }
   ],
   "source": [
    "typeof(param_set.mem)"
   ]
  },
  {
   "cell_type": "markdown",
   "id": "5de88d94-9258-40da-a270-cb53a6cbb54e",
   "metadata": {},
   "source": [
    "By checking the domain of this parameter, we can see that it must be an integer between 5 and 20."
   ]
  },
  {
   "cell_type": "code",
   "execution_count": 21,
   "id": "b863cbf9-d3fe-4bd0-b171-54baac0de375",
   "metadata": {},
   "outputs": [
    {
     "ename": "UndefVarError",
     "evalue": "UndefVarError: `domain` not defined in `Main`\nSuggestion: check for spelling errors or missing imports.",
     "output_type": "error",
     "traceback": [
      "UndefVarError: `domain` not defined in `Main`\n",
      "Suggestion: check for spelling errors or missing imports.\n",
      "\n",
      "Stacktrace:\n",
      " [1] top-level scope\n",
      "   @ ~/OptimizationParameterTuning/Julia Notebook/archived/jl_notebook_cell_df34fa98e69747e1a8f8a730347b8e2f_X34sdnNjb2RlLXJlbW90ZQ==.jl:1"
     ]
    }
   ],
   "source": [
    "d = domain(param_set.mem)\n",
    "typeof(d)\n",
    "supertypes(typeof(d))\n",
    "fieldnames(typeof(d))"
   ]
  },
  {
   "cell_type": "code",
   "execution_count": 22,
   "id": "46319346",
   "metadata": {},
   "outputs": [
    {
     "ename": "UndefVarError",
     "evalue": "UndefVarError: `IntegerRange` not defined in `Main`\nSuggestion: check for spelling errors or missing imports.",
     "output_type": "error",
     "traceback": [
      "UndefVarError: `IntegerRange` not defined in `Main`\n",
      "Suggestion: check for spelling errors or missing imports.\n",
      "\n",
      "Stacktrace:\n",
      " [1] top-level scope\n",
      "   @ ~/OptimizationParameterTuning/Julia Notebook/archived/jl_notebook_cell_df34fa98e69747e1a8f8a730347b8e2f_X35sdnNjb2RlLXJlbW90ZQ==.jl:1"
     ]
    }
   ],
   "source": [
    "methodswith(IntegerRange{Int64})"
   ]
  },
  {
   "cell_type": "code",
   "execution_count": 56,
   "id": "046d5c69-5ce1-4624-bc98-ddcde3fde8c1",
   "metadata": {},
   "outputs": [
    {
     "name": "stderr",
     "output_type": "stream",
     "text": [
      "┌ Info:   iter      f(x)      ‖∇f‖      ∇fᵀd      bk  \n",
      "└ @ JSOSolvers /home/gaoyuc10/.julia/packages/JSOSolvers/opgNd/src/lbfgs.jl:201\n",
      "┌ Info:      0   2.5e+02   2.0e+01         -       -\n",
      "└ @ JSOSolvers /home/gaoyuc10/.julia/packages/JSOSolvers/opgNd/src/lbfgs.jl:206\n",
      "┌ Info:      1   5.0e+01   7.8e-15  -4.0e+02       0\n",
      "└ @ JSOSolvers /home/gaoyuc10/.julia/packages/JSOSolvers/opgNd/src/lbfgs.jl:263\n",
      "┌ Info:      1   5.0e+01   7.8e-15\n",
      "└ @ JSOSolvers /home/gaoyuc10/.julia/packages/JSOSolvers/opgNd/src/lbfgs.jl:290\n"
     ]
    },
    {
     "data": {
      "text/plain": [
       "()"
      ]
     },
     "metadata": {},
     "output_type": "display_data"
    }
   ],
   "source": [
    "stats = JSOSolvers.lbfgs(nlp; verbose = 1)\n",
    "fieldnames(typeof(stats.status))"
   ]
  },
  {
   "cell_type": "code",
   "execution_count": 52,
   "id": "eef20c27-92e3-470b-9e16-0e7e9a0dbb3e",
   "metadata": {},
   "outputs": [
    {
     "ename": "ArgumentError",
     "evalue": "ArgumentError: Package SolverCore not found in current path.\n- Run `import Pkg; Pkg.add(\"SolverCore\")` to install the SolverCore package.",
     "output_type": "error",
     "traceback": [
      "ArgumentError: Package SolverCore not found in current path.\n",
      "- Run `import Pkg; Pkg.add(\"SolverCore\")` to install the SolverCore package.\n",
      "\n",
      "Stacktrace:\n",
      "  [1] macro expansion\n",
      "    @ ./loading.jl:2296 [inlined]\n",
      "  [2] macro expansion\n",
      "    @ ./lock.jl:273 [inlined]\n",
      "  [3] __require(into::Module, mod::Symbol)\n",
      "    @ Base ./loading.jl:2271\n",
      "  [4] #invoke_in_world#3\n",
      "    @ ./essentials.jl:1089 [inlined]\n",
      "  [5] invoke_in_world\n",
      "    @ ./essentials.jl:1086 [inlined]\n",
      "  [6] require(into::Module, mod::Symbol)\n",
      "    @ Base ./loading.jl:2260\n",
      "  [7] eval\n",
      "    @ ./boot.jl:430 [inlined]\n",
      "  [8] include_string(mapexpr::typeof(REPL.softscope), mod::Module, code::String, filename::String)\n",
      "    @ Base ./loading.jl:2734\n",
      "  [9] #invokelatest#2\n",
      "    @ ./essentials.jl:1055 [inlined]\n",
      " [10] invokelatest\n",
      "    @ ./essentials.jl:1052 [inlined]\n",
      " [11] (::VSCodeServer.var\"#217#218\"{VSCodeServer.NotebookRunCellArguments, String})()\n",
      "    @ VSCodeServer ~/.vscode-server/extensions/julialang.language-julia-1.149.2/scripts/packages/VSCodeServer/src/serve_notebook.jl:24\n",
      " [12] withpath(f::VSCodeServer.var\"#217#218\"{VSCodeServer.NotebookRunCellArguments, String}, path::String)\n",
      "    @ VSCodeServer ~/.vscode-server/extensions/julialang.language-julia-1.149.2/scripts/packages/VSCodeServer/src/repl.jl:276\n",
      " [13] notebook_runcell_request(conn::VSCodeServer.JSONRPC.JSONRPCEndpoint{Base.PipeEndpoint, Base.PipeEndpoint, VSCodeServer.JSON.Serializations.StandardSerialization}, params::VSCodeServer.NotebookRunCellArguments, token::VSCodeServer.CancellationTokens.CancellationToken)\n",
      "    @ VSCodeServer ~/.vscode-server/extensions/julialang.language-julia-1.149.2/scripts/packages/VSCodeServer/src/serve_notebook.jl:13\n",
      " [14] dispatch_msg(x::VSCodeServer.JSONRPC.JSONRPCEndpoint{Base.PipeEndpoint, Base.PipeEndpoint, VSCodeServer.JSON.Serializations.StandardSerialization}, dispatcher::VSCodeServer.JSONRPC.MsgDispatcher, msg::VSCodeServer.JSONRPC.Request)\n",
      "    @ VSCodeServer.JSONRPC ~/.vscode-server/extensions/julialang.language-julia-1.149.2/scripts/packages/JSONRPC/src/typed.jl:68\n",
      " [15] serve_notebook(pipename::String, debugger_pipename::String, outputchannel_logger::Base.CoreLogging.SimpleLogger; error_handler::var\"#5#10\"{String})\n",
      "    @ VSCodeServer ~/.vscode-server/extensions/julialang.language-julia-1.149.2/scripts/packages/VSCodeServer/src/serve_notebook.jl:147\n",
      " [16] top-level scope\n",
      "    @ ~/.vscode-server/extensions/julialang.language-julia-1.149.2/scripts/notebook/notebook.jl:35"
     ]
    }
   ],
   "source": [
    "using SolverCore # Define the type GenericExecutionStats that is returned by all solvers\n",
    "fieldnames(typeof(stats))"
   ]
  },
  {
   "cell_type": "code",
   "execution_count": 25,
   "id": "1fa4091f",
   "metadata": {},
   "outputs": [
    {
     "ename": "UndefVarError",
     "evalue": "UndefVarError: `stats` not defined in `Main`\nSuggestion: check for spelling errors or missing imports.",
     "output_type": "error",
     "traceback": [
      "UndefVarError: `stats` not defined in `Main`\n",
      "Suggestion: check for spelling errors or missing imports.\n",
      "\n",
      "Stacktrace:\n",
      " [1] top-level scope\n",
      "   @ ~/OptimizationParameterTuning/Julia Notebook/archived/jl_notebook_cell_df34fa98e69747e1a8f8a730347b8e2f_X41sdnNjb2RlLXJlbW90ZQ==.jl:1"
     ]
    }
   ],
   "source": [
    "propertynames(typeof(stats.solver_specific))"
   ]
  },
  {
   "cell_type": "code",
   "execution_count": 26,
   "id": "b7f027a7-7a9c-4225-9535-7801d607524b",
   "metadata": {},
   "outputs": [
    {
     "data": {
      "text/latex": [
       "No documentation found.\n",
       "\n",
       "Binding \\texttt{GenericExecutionStats} does not exist.\n",
       "\n"
      ],
      "text/markdown": [
       "No documentation found.\n",
       "\n",
       "Binding `GenericExecutionStats` does not exist.\n"
      ],
      "text/plain": [
       "  No documentation found.\n",
       "\n",
       "  Binding \u001b[36mGenericExecutionStats\u001b[39m does not exist."
      ]
     },
     "metadata": {},
     "output_type": "display_data"
    }
   ],
   "source": [
    "@doc GenericExecutionStats"
   ]
  },
  {
   "cell_type": "code",
   "execution_count": 27,
   "id": "8d267f52-478a-483b-a309-4d4d3df9d13b",
   "metadata": {},
   "outputs": [
    {
     "ename": "UndefVarError",
     "evalue": "UndefVarError: `JSOSolvers` not defined in `Main`\nSuggestion: check for spelling errors or missing imports.",
     "output_type": "error",
     "traceback": [
      "UndefVarError: `JSOSolvers` not defined in `Main`\n",
      "Suggestion: check for spelling errors or missing imports.\n",
      "\n",
      "Stacktrace:\n",
      " [1] top-level scope\n",
      "   @ ~/OptimizationParameterTuning/Julia Notebook/archived/jl_notebook_cell_df34fa98e69747e1a8f8a730347b8e2f_X43sdnNjb2RlLXJlbW90ZQ==.jl:1"
     ]
    }
   ],
   "source": [
    "@doc JSOSolvers.lbfgs"
   ]
  },
  {
   "cell_type": "markdown",
   "id": "e44ed503-8c33-4426-9737-0d36db546957",
   "metadata": {},
   "source": [
    "## Loop over the problems"
   ]
  },
  {
   "cell_type": "markdown",
   "id": "be92733e-2203-41f2-a60b-cc19c17b12c8",
   "metadata": {},
   "source": [
    "First, we select a subset of the problems"
   ]
  },
  {
   "cell_type": "code",
   "execution_count": 28,
   "id": "79c99beb-061f-4308-8b40-2fdca57387a1",
   "metadata": {},
   "outputs": [
    {
     "data": {
      "text/plain": [
       "98-element Vector{String}:\n",
       " \"AMPGO02\"\n",
       " \"AMPGO03\"\n",
       " \"AMPGO04\"\n",
       " \"AMPGO05\"\n",
       " \"AMPGO06\"\n",
       " \"AMPGO07\"\n",
       " \"AMPGO08\"\n",
       " \"AMPGO09\"\n",
       " \"AMPGO10\"\n",
       " \"AMPGO11\"\n",
       " ⋮\n",
       " \"palmer7c\"\n",
       " \"palmer8c\"\n",
       " \"powellbs\"\n",
       " \"rat42\"\n",
       " \"rat43\"\n",
       " \"rosenbrock\"\n",
       " \"rozman1\"\n",
       " \"thurber\"\n",
       " \"vibrbeam\""
      ]
     },
     "metadata": {},
     "output_type": "display_data"
    }
   ],
   "source": [
    "meta = OptimizationProblems.meta\n",
    "problem_names = meta[meta.contype .== :unconstrained .&& .!meta.has_bounds .&& meta.nvar .<= 10, :name]; # LBFGS is an algorithm to solve unconstrained problems\n",
    "                                                                   # For this example, we select only problems of size up to 10."
   ]
  },
  {
   "cell_type": "code",
   "execution_count": 29,
   "id": "9e525eb6-38c6-46ab-83df-7cfeda571c70",
   "metadata": {},
   "outputs": [],
   "source": [
    "problems = [Meta.parse(\"OptimizationProblems.ADNLPProblems.eval($problem)()\") for problem ∈ problem_names]; # https://jso.dev/OptimizationProblems.jl/dev/benchmark/"
   ]
  },
  {
   "cell_type": "code",
   "execution_count": 30,
   "id": "576c4b49-2915-4002-872c-b93b498b0e4d",
   "metadata": {},
   "outputs": [
    {
     "data": {
      "text/html": [
       "<div><div style = \"float: left;\"><span>0×0 DataFrame</span></div><div style = \"clear: both;\"></div></div><div class = \"data-frame\" style = \"overflow-x: scroll;\"><table class = \"data-frame\" style = \"margin-bottom: 6px;\"></table></div>"
      ],
      "text/latex": [
       "\\begin{tabular}{r|}\n",
       "\t& \\\\\n",
       "\t\\hline\n",
       "\t& \\\\\n",
       "\t\\hline\n",
       "\\end{tabular}\n"
      ],
      "text/plain": [
       "\u001b[1m0×0 DataFrame\u001b[0m"
      ]
     },
     "metadata": {},
     "output_type": "display_data"
    }
   ],
   "source": [
    "using DataFrames # we will use a DataFrame to store our results\n",
    "df = DataFrame()"
   ]
  },
  {
   "cell_type": "code",
   "execution_count": 31,
   "id": "758ad6ed",
   "metadata": {},
   "outputs": [
    {
     "data": {
      "text/plain": [
       "(:nvar, :x0, :lvar, :uvar, :ifix, :ilow, :iupp, :irng, :ifree, :iinf, :nlvb, :nlvo, :nlvc, :ncon, :y0, :lcon, :ucon, :jfix, :jlow, :jupp, :jrng, :jfree, :jinf, :nnzo, :nnzj, :lin_nnzj, :nln_nnzj, :nnzh, :nlin, :nnln, :lin, :nln, :minimize, :islp, :name)"
      ]
     },
     "metadata": {},
     "output_type": "display_data"
    }
   ],
   "source": [
    "fieldnames(typeof(nlp.meta))"
   ]
  },
  {
   "cell_type": "code",
   "execution_count": 32,
   "id": "43be1caf",
   "metadata": {},
   "outputs": [
    {
     "data": {
      "text/plain": [
       "(:meta, :counters, :adbackend, :f, :clinrows, :clincols, :clinvals, :c!)"
      ]
     },
     "metadata": {},
     "output_type": "display_data"
    }
   ],
   "source": [
    "fieldnames(typeof(nlp))"
   ]
  },
  {
   "cell_type": "code",
   "execution_count": 33,
   "id": "3f6933c5",
   "metadata": {},
   "outputs": [
    {
     "ename": "ErrorException",
     "evalue": "type ADNLPModel has no field status",
     "output_type": "error",
     "traceback": [
      "type ADNLPModel has no field status\n",
      "\n",
      "Stacktrace:\n",
      " [1] getproperty(x::ADNLPModel{Float64, Vector{Float64}, Vector{Int64}}, f::Symbol)\n",
      "   @ Base ./Base.jl:49\n",
      " [2] top-level scope\n",
      "   @ ~/OptimizationParameterTuning/Julia Notebook/archived/jl_notebook_cell_df34fa98e69747e1a8f8a730347b8e2f_X54sdnNjb2RlLXJlbW90ZQ==.jl:1"
     ]
    }
   ],
   "source": [
    "fieldnames(typeof(nlp.status))"
   ]
  },
  {
   "cell_type": "code",
   "execution_count": 34,
   "id": "f504fb56",
   "metadata": {},
   "outputs": [
    {
     "data": {
      "text/plain": [
       "(:neval_obj, :neval_grad, :neval_cons, :neval_cons_lin, :neval_cons_nln, :neval_jcon, :neval_jgrad, :neval_jac, :neval_jac_lin, :neval_jac_nln, :neval_jprod, :neval_jprod_lin, :neval_jprod_nln, :neval_jtprod, :neval_jtprod_lin, :neval_jtprod_nln, :neval_hess, :neval_hprod, :neval_jhess, :neval_jhprod)"
      ]
     },
     "metadata": {},
     "output_type": "display_data"
    }
   ],
   "source": [
    "fieldnames(typeof(nlp.counters))"
   ]
  },
  {
   "cell_type": "code",
   "execution_count": 35,
   "id": "228d8e16-1db7-463e-bc79-53a40a9f4f73",
   "metadata": {},
   "outputs": [],
   "source": [
    "# i = 0\n",
    "# for pb_expr in problems\n",
    "#     nlp = eval(pb_expr)\n",
    "#     i += 1\n",
    "#     @info \"($i / $(length(problems)) Number of variables of problem $(nlp.meta.name) is $(nlp.meta.nvar)\"\n",
    "#     mem = 5\n",
    "#     try\n",
    "#     stats = JSOSolvers.lbfgs(nlp; mem = 5)\n",
    "#     push!(df, (; status = stats.status, name = nlp.meta.name, nvar = nlp.meta.nvar))\n",
    "#     catch e\n",
    "#         @info \"Solver failed on $(nlp.meta.name): $e\"\n",
    "#     end\n",
    "# end"
   ]
  },
  {
   "cell_type": "code",
   "execution_count": 36,
   "id": "bc7801df-0c43-4181-92e9-01f91f48a8ea",
   "metadata": {},
   "outputs": [],
   "source": [
    "df; # contains the result"
   ]
  },
  {
   "cell_type": "code",
   "execution_count": 37,
   "id": "241fd8ec-bc0d-424d-a4b9-59b1556e303d",
   "metadata": {},
   "outputs": [],
   "source": [
    "# unique(df[!, :status]) # :first_order is a success, :unbounded too\n",
    "#                        # :max_time may indicate that we should run the algorithms with `max_time` greater than default."
   ]
  },
  {
   "cell_type": "code",
   "execution_count": 38,
   "id": "e2c7d79e",
   "metadata": {},
   "outputs": [],
   "source": [
    "import Pkg\n",
    "\n",
    "function ensure(pkgs::Vector{String})\n",
    "    for pkg in pkgs\n",
    "        if !haskey(Pkg.project().dependencies, pkg)\n",
    "            @info \"Installing $pkg...\"\n",
    "            Pkg.add(pkg)\n",
    "        end\n",
    "    end\n",
    "end\n",
    "\n",
    "ensure([\"CSV\", \"DataFrames\", \"BenchmarkTools\"])\n",
    "using CSV, DataFrames, BenchmarkTools\n"
   ]
  },
  {
   "cell_type": "markdown",
   "id": "e24a946e",
   "metadata": {},
   "source": [
    "## Felix's Contribution (You can also start running after this block)"
   ]
  },
  {
   "cell_type": "markdown",
   "id": "a967adcc",
   "metadata": {},
   "source": [
    "Varying the mem parameters using the domain parameter to get the domain of the values."
   ]
  },
  {
   "cell_type": "code",
   "execution_count": 39,
   "id": "916dd76f",
   "metadata": {},
   "outputs": [
    {
     "name": "stderr",
     "output_type": "stream",
     "text": [
      "\u001b[32m\u001b[1m  Activating\u001b[22m\u001b[39m project at `~/OptimizationParameterTuning/Julia Notebook/archived`\n"
     ]
    },
    {
     "name": "stdout",
     "output_type": "stream",
     "text": [
      "\u001b[32m\u001b[1mStatus\u001b[22m\u001b[39m `~/OptimizationParameterTuning/Julia Notebook/archived/Project.toml`\n",
      "  \u001b[90m[6e4b80f9] \u001b[39mBenchmarkTools v1.6.0\n",
      "  \u001b[90m[336ed68f] \u001b[39mCSV v0.10.15\n",
      "  \u001b[90m[a93c6f00] \u001b[39mDataFrames v1.8.0\n"
     ]
    },
    {
     "name": "stderr",
     "output_type": "stream",
     "text": [
      "\u001b[32m\u001b[1m    Updating\u001b[22m\u001b[39m registry at `~/.julia/registries/General.toml`\n"
     ]
    },
    {
     "name": "stdout",
     "output_type": "stream",
     "text": [
      "\u001b[32m\u001b[1mStatus\u001b[22m\u001b[39m `~/OptimizationParameterTuning/Julia Notebook/archived/Project.toml`\n",
      "  \u001b[90m[6e4b80f9] \u001b[39mBenchmarkTools v1.6.0\n",
      "  \u001b[90m[336ed68f] \u001b[39mCSV v0.10.15\n",
      "  \u001b[90m[a93c6f00] \u001b[39mDataFrames v1.8.0\n"
     ]
    },
    {
     "name": "stderr",
     "output_type": "stream",
     "text": [
      "\u001b[32m\u001b[1m  No Changes\u001b[22m\u001b[39m to `~/OptimizationParameterTuning/Julia Notebook/archived/Project.toml`\n",
      "\u001b[32m\u001b[1m  No Changes\u001b[22m\u001b[39m to `~/OptimizationParameterTuning/Julia Notebook/archived/Manifest.toml`\n"
     ]
    }
   ],
   "source": [
    "using Pkg\n",
    "Pkg.activate(\".\")\n",
    "Pkg.status()\n",
    "Pkg.instantiate()\n",
    "Pkg.update()\n",
    "Pkg.status()"
   ]
  },
  {
   "cell_type": "code",
   "execution_count": 40,
   "id": "401c86d6",
   "metadata": {},
   "outputs": [
    {
     "ename": "ArgumentError",
     "evalue": "ArgumentError: Package SolverParameters not found in current path.\n- Run `import Pkg; Pkg.add(\"SolverParameters\")` to install the SolverParameters package.",
     "output_type": "error",
     "traceback": [
      "ArgumentError: Package SolverParameters not found in current path.\n",
      "- Run `import Pkg; Pkg.add(\"SolverParameters\")` to install the SolverParameters package.\n",
      "\n",
      "Stacktrace:\n",
      "  [1] macro expansion\n",
      "    @ ./loading.jl:2296 [inlined]\n",
      "  [2] macro expansion\n",
      "    @ ./lock.jl:273 [inlined]\n",
      "  [3] __require(into::Module, mod::Symbol)\n",
      "    @ Base ./loading.jl:2271\n",
      "  [4] #invoke_in_world#3\n",
      "    @ ./essentials.jl:1089 [inlined]\n",
      "  [5] invoke_in_world\n",
      "    @ ./essentials.jl:1086 [inlined]\n",
      "  [6] require(into::Module, mod::Symbol)\n",
      "    @ Base ./loading.jl:2260\n",
      "  [7] eval\n",
      "    @ ./boot.jl:430 [inlined]\n",
      "  [8] include_string(mapexpr::typeof(REPL.softscope), mod::Module, code::String, filename::String)\n",
      "    @ Base ./loading.jl:2734\n",
      "  [9] #invokelatest#2\n",
      "    @ ./essentials.jl:1055 [inlined]\n",
      " [10] invokelatest\n",
      "    @ ./essentials.jl:1052 [inlined]\n",
      " [11] (::VSCodeServer.var\"#217#218\"{VSCodeServer.NotebookRunCellArguments, String})()\n",
      "    @ VSCodeServer ~/.vscode-server/extensions/julialang.language-julia-1.149.2/scripts/packages/VSCodeServer/src/serve_notebook.jl:24\n",
      " [12] withpath(f::VSCodeServer.var\"#217#218\"{VSCodeServer.NotebookRunCellArguments, String}, path::String)\n",
      "    @ VSCodeServer ~/.vscode-server/extensions/julialang.language-julia-1.149.2/scripts/packages/VSCodeServer/src/repl.jl:276\n",
      " [13] notebook_runcell_request(conn::VSCodeServer.JSONRPC.JSONRPCEndpoint{Base.PipeEndpoint, Base.PipeEndpoint, VSCodeServer.JSON.Serializations.StandardSerialization}, params::VSCodeServer.NotebookRunCellArguments, token::VSCodeServer.CancellationTokens.CancellationToken)\n",
      "    @ VSCodeServer ~/.vscode-server/extensions/julialang.language-julia-1.149.2/scripts/packages/VSCodeServer/src/serve_notebook.jl:13\n",
      " [14] dispatch_msg(x::VSCodeServer.JSONRPC.JSONRPCEndpoint{Base.PipeEndpoint, Base.PipeEndpoint, VSCodeServer.JSON.Serializations.StandardSerialization}, dispatcher::VSCodeServer.JSONRPC.MsgDispatcher, msg::VSCodeServer.JSONRPC.Request)\n",
      "    @ VSCodeServer.JSONRPC ~/.vscode-server/extensions/julialang.language-julia-1.149.2/scripts/packages/JSONRPC/src/typed.jl:68\n",
      " [15] serve_notebook(pipename::String, debugger_pipename::String, outputchannel_logger::Base.CoreLogging.SimpleLogger; error_handler::var\"#5#10\"{String})\n",
      "    @ VSCodeServer ~/.vscode-server/extensions/julialang.language-julia-1.149.2/scripts/packages/VSCodeServer/src/serve_notebook.jl:147\n",
      " [16] top-level scope\n",
      "    @ ~/.vscode-server/extensions/julialang.language-julia-1.149.2/scripts/notebook/notebook.jl:35"
     ]
    }
   ],
   "source": [
    "using BenchmarkTools\n",
    "using CSV, DataFrames\n",
    "using Random\n",
    "using OptimizationProblems\n",
    "using OptimizationProblems.ADNLPProblems # https://github.com/JuliaSmoothOptimizers/OptimizationProblems.jl\n",
    "                                         # contains a test set of problems of type ADNLPModel\n",
    "using NLPModels # see https://github.com/JuliaSmoothOptimizers/NLPModels.jl, it defines an abstract API to access a continuous optimization problem\n",
    "using ADNLPModels # see https://github.com/JuliaSmoothOptimizers/ADNLPModels.jl\n",
    "                  # is a concrete implementation of the ty\n",
    "using SolverParameters # Define the main structure to handle the algorithm's parameters\n",
    "using JSOSolvers\n",
    "\n",
    "nlp = OptimizationProblems.ADNLPProblems.arglina(matrix_free = true) # is one of them\n",
    "meta = OptimizationProblems.meta\n",
    "problem_names = meta[meta.contype .== :unconstrained .&& .!meta.has_bounds .&& meta.nvar .>= 5, :name]; # LBFGS is an algorithm to solve unconstrained problems\n",
    "                                                                   # For this example, we select only problems of size up to 10.\n",
    "problems = [Meta.parse(\"OptimizationProblems.ADNLPProblems.eval($problem)()\") for problem ∈ problem_names]; # https://jso.dev/OptimizationProblems.jl/dev/benchmark/                                                \n",
    "filename = \"./trunc.csv\"\n",
    "df = DataFrame(\n",
    "                :status => Symbol[],\n",
    "                :name => String[],\n",
    "                :solver => String[],\n",
    "                :mem => Int[],\n",
    "                :nvar => Int[],\n",
    "                :time => Float64[],\n",
    "                :memory => Float64[],\n",
    "                :nvmops => Int[],\n",
    "                :neval_obj => Int[],\n",
    "                :neval_grad => Int[]\n",
    "            )\n",
    "\n",
    "\n",
    "# load from CSV file\n",
    "completed = Set{Tuple{String, String, Int}}()\n",
    "if isfile(filename) && filesize(filename) > 0\n",
    "    df_completed = CSV.read(\"filename\", DataFrame)\n",
    "    completed = Set(zip(df_completed.name, df_completed.solver, df_completed.mem))\n",
    "end\n",
    "\n",
    "i = 0\n",
    "for pb_expr in problems\n",
    "    nlp = eval(pb_expr)\n",
    "    i += 1\n",
    "    param_set = JSOSolvers.LBFGSParameterSet(nlp)\n",
    "    r = domain(param_set.mem)\n",
    "    problem = nlp.meta.name\n",
    "    solver = \"LBFGSSolver\"\n",
    "    for mem in r.lower:r.upper\n",
    "        key = (problem, solver, mem)\n",
    "        if key in completed\n",
    "            @info \"Skip $key — already seen\"\n",
    "            continue\n",
    "        else\n",
    "            reset!(nlp)\n",
    "            println(\"Running $pb_expr with mem=$mem\")\n",
    "            try\n",
    "                bench = @benchmark JSOSolvers.lbfgs($nlp; mem = $mem)\n",
    "                stats = JSOSolvers.lbfgs(nlp; mem = mem)\n",
    "                push!(df, (\n",
    "                            status = stats.status, \n",
    "                            name = problem,\n",
    "                            solver = solver,\n",
    "                            mem = mem,\n",
    "                            nvar = nlp.meta.nvar, \n",
    "                            time = minimum(bench).time,\n",
    "                            memory = minimum(bench).memory, \n",
    "                            nvmops = stats.solver_specific[:nprod],\n",
    "                            neval_obj = nlp.counters.neval_obj,\n",
    "                            neval_grad = nlp.counters.neval_grad\n",
    "                        )\n",
    "                    )\n",
    "                push!(completed, (problem, solver, mem))\n",
    "            catch e\n",
    "                @info \"Solver failed on $(nlp.meta.name): $e\"\n",
    "                break\n",
    "            end\n",
    "        end\n",
    "        CSV.write(filename, DataFrame([last(df)]); append=true)\n",
    "    end\n",
    "end\n"
   ]
  }
 ],
 "metadata": {
  "kernelspec": {
   "display_name": "Julia 1.11.7",
   "language": "julia",
   "name": "julia-1.11"
  },
  "language_info": {
   "file_extension": ".jl",
   "mimetype": "application/julia",
   "name": "julia",
   "version": "1.11.7"
  }
 },
 "nbformat": 4,
 "nbformat_minor": 5
}
