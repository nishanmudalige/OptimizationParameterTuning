{
 "cells": [
  {
   "cell_type": "code",
   "execution_count": 1,
   "id": "1a199e49-3ff1-40db-b33e-f3712acb4fc2",
   "metadata": {},
   "outputs": [
    {
     "name": "stderr",
     "output_type": "stream",
     "text": [
      "\u001b[32m\u001b[1m  Activating\u001b[22m\u001b[39m new project at `~/Desktop/Year3/STA378/OptimizationParameterTuning/Julia Notebook/C:\\Users\\tangi\\.julia\\dev\\FelixUoT/C:\\Users\\tangi\\.julia\\dev\\FelixUoT`\n"
     ]
    }
   ],
   "source": [
    "using Pkg\n",
    "Pkg.activate(raw\"C:\\Users\\tangi\\.julia\\dev\\FelixUoT\")"
   ]
  },
  {
   "cell_type": "code",
   "execution_count": 2,
   "id": "935168d1-78ab-4775-862e-b8b02121a279",
   "metadata": {},
   "outputs": [
    {
     "name": "stdout",
     "output_type": "stream",
     "text": [
      "\u001b[32m\u001b[1mStatus\u001b[22m\u001b[39m `~/Desktop/Year3/STA378/OptimizationParameterTuning/Julia Notebook/C:\\Users\\tangi\\.julia\\dev\\FelixUoT/C:\\Users\\tangi\\.julia\\dev\\FelixUoT/Project.toml` (empty project)\n"
     ]
    }
   ],
   "source": [
    "Pkg.status()"
   ]
  },
  {
   "cell_type": "code",
   "execution_count": 3,
   "id": "dedf973f-9a01-4134-9770-8072533eb11d",
   "metadata": {},
   "outputs": [
    {
     "name": "stderr",
     "output_type": "stream",
     "text": [
      "\u001b[32m\u001b[1m    Updating\u001b[22m\u001b[39m registry at `~/.julia/registries/General.toml`\n",
      "\u001b[32m\u001b[1m  No Changes\u001b[22m\u001b[39m to `~/Desktop/Year3/STA378/OptimizationParameterTuning/Julia Notebook/C:\\Users\\tangi\\.julia\\dev\\FelixUoT/C:\\Users\\tangi\\.julia\\dev\\FelixUoT/Project.toml`\n",
      "\u001b[32m\u001b[1m  No Changes\u001b[22m\u001b[39m to `~/Desktop/Year3/STA378/OptimizationParameterTuning/Julia Notebook/C:\\Users\\tangi\\.julia\\dev\\FelixUoT/C:\\Users\\tangi\\.julia\\dev\\FelixUoT/Manifest.toml`\n"
     ]
    }
   ],
   "source": [
    "Pkg.update()"
   ]
  },
  {
   "cell_type": "code",
   "execution_count": 4,
   "id": "c58acd1b-034d-4e0b-b5c6-50bed5704d19",
   "metadata": {},
   "outputs": [
    {
     "name": "stdout",
     "output_type": "stream",
     "text": [
      "\u001b[32m\u001b[1mStatus\u001b[22m\u001b[39m `~/Desktop/Year3/STA378/OptimizationParameterTuning/Julia Notebook/C:\\Users\\tangi\\.julia\\dev\\FelixUoT/C:\\Users\\tangi\\.julia\\dev\\FelixUoT/Project.toml` (empty project)\n"
     ]
    }
   ],
   "source": [
    "Pkg.status()"
   ]
  },
  {
   "cell_type": "markdown",
   "id": "533c4460-96bc-4a2e-a892-9b0a92f70773",
   "metadata": {},
   "source": [
    "## Optimization problem modelisation"
   ]
  },
  {
   "cell_type": "code",
   "execution_count": 5,
   "id": "a81ca0ad-0887-420f-a980-71aa21ecbdc8",
   "metadata": {},
   "outputs": [],
   "source": [
    "using NLPModels # see https://github.com/JuliaSmoothOptimizers/NLPModels.jl, it defines an abstract API to access a continuous optimization problem"
   ]
  },
  {
   "cell_type": "code",
   "execution_count": 6,
   "id": "905091eb-4a3d-477d-afdc-10766d0155db",
   "metadata": {},
   "outputs": [
    {
     "data": {
      "text/latex": [
       "\\begin{verbatim}\n",
       "AbstractNLPModel\n",
       "\\end{verbatim}\n",
       "Base type for an optimization model.\n",
       "\n"
      ],
      "text/markdown": [
       "```\n",
       "AbstractNLPModel\n",
       "```\n",
       "\n",
       "Base type for an optimization model.\n"
      ],
      "text/plain": [
       "\u001b[36m  AbstractNLPModel\u001b[39m\n",
       "\n",
       "  Base type for an optimization model."
      ]
     },
     "metadata": {},
     "output_type": "display_data"
    }
   ],
   "source": [
    "@doc AbstractNLPModel"
   ]
  },
  {
   "cell_type": "code",
   "execution_count": 7,
   "id": "bb7eb0ad-3fda-450c-8adc-d855e99602f4",
   "metadata": {},
   "outputs": [],
   "source": [
    "using ADNLPModels # see https://github.com/JuliaSmoothOptimizers/ADNLPModels.jl\n",
    "                  # is a concrete implementation of the ty"
   ]
  },
  {
   "cell_type": "code",
   "execution_count": 8,
   "id": "82152b8d-da8c-4658-a0e6-f374414400f0",
   "metadata": {},
   "outputs": [
    {
     "data": {
      "text/latex": [
       "\\begin{verbatim}\n",
       "ADNLPModel(f, x0)\n",
       "ADNLPModel(f, x0, lvar, uvar)\n",
       "ADNLPModel(f, x0, clinrows, clincols, clinvals, lcon, ucon)\n",
       "ADNLPModel(f, x0, A, lcon, ucon)\n",
       "ADNLPModel(f, x0, c, lcon, ucon)\n",
       "ADNLPModel(f, x0, clinrows, clincols, clinvals, c, lcon, ucon)\n",
       "ADNLPModel(f, x0, A, c, lcon, ucon)\n",
       "ADNLPModel(f, x0, lvar, uvar, clinrows, clincols, clinvals, lcon, ucon)\n",
       "ADNLPModel(f, x0, lvar, uvar, A, lcon, ucon)\n",
       "ADNLPModel(f, x0, lvar, uvar, c, lcon, ucon)\n",
       "ADNLPModel(f, x0, lvar, uvar, clinrows, clincols, clinvals, c, lcon, ucon)\n",
       "ADNLPModel(f, x0, lvar, uvar, A, c, lcon, ucon)\n",
       "ADNLPModel(model::AbstractNLPModel)\n",
       "\\end{verbatim}\n",
       "ADNLPModel is an AbstractNLPModel using automatic differentiation to compute the derivatives. The problem is defined as\n",
       "\n",
       "\\begin{verbatim}\n",
       " min  f(x)\n",
       "s.to  lcon ≤ (  Ax  ) ≤ ucon\n",
       "             ( c(x) )\n",
       "      lvar ≤   x  ≤ uvar.\n",
       "\\end{verbatim}\n",
       "The following keyword arguments are available to all constructors:\n",
       "\n",
       "\\begin{itemize}\n",
       "\\item \\texttt{minimize}: A boolean indicating whether this is a minimization problem (default: true)\n",
       "\n",
       "\n",
       "\\item \\texttt{name}: The name of the model (default: \"Generic\")\n",
       "\n",
       "\\end{itemize}\n",
       "The following keyword arguments are available to the constructors for constrained problems:\n",
       "\n",
       "\\begin{itemize}\n",
       "\\item \\texttt{y0}: An inital estimate to the Lagrangian multipliers (default: zeros)\n",
       "\n",
       "\\end{itemize}\n",
       "\\texttt{ADNLPModel} uses \\texttt{ForwardDiff} and \\texttt{ReverseDiff} for the automatic differentiation. One can specify a new backend with the keyword arguments \\texttt{backend::ADNLPModels.ADBackend}. There are three pre-coded backends:\n",
       "\n",
       "\\begin{itemize}\n",
       "\\item the default \\texttt{ForwardDiffAD}.\n",
       "\n",
       "\n",
       "\\item \\texttt{ReverseDiffAD}.\n",
       "\n",
       "\n",
       "\\item \\texttt{ZygoteDiffAD} accessible after loading \\texttt{Zygote.jl} in your environment.\n",
       "\n",
       "\\end{itemize}\n",
       "For an advanced usage, one can define its own backend and redefine the API as done in \\href{https://github.com/JuliaSmoothOptimizers/ADNLPModels.jl/blob/main/src/forward.jl}{ADNLPModels.jl/src/forward.jl}.\n",
       "\n",
       "\\section{Examples}\n",
       "\\begin{verbatim}\n",
       "using ADNLPModels\n",
       "f(x) = sum(x)\n",
       "x0 = ones(3)\n",
       "nvar = 3\n",
       "ADNLPModel(f, x0) # uses the default ForwardDiffAD backend.\n",
       "ADNLPModel(f, x0; backend = ADNLPModels.ReverseDiffAD) # uses ReverseDiffAD backend.\n",
       "\n",
       "using Zygote\n",
       "ADNLPModel(f, x0; backend = ADNLPModels.ZygoteAD)\n",
       "\\end{verbatim}\n",
       "\\begin{verbatim}\n",
       "using ADNLPModels\n",
       "f(x) = sum(x)\n",
       "x0 = ones(3)\n",
       "c(x) = [1x[1] + x[2]; x[2]]\n",
       "nvar, ncon = 3, 2\n",
       "ADNLPModel(f, x0, c, zeros(ncon), zeros(ncon)) # uses the default ForwardDiffAD backend.\n",
       "ADNLPModel(f, x0, c, zeros(ncon), zeros(ncon); backend = ADNLPModels.ReverseDiffAD) # uses ReverseDiffAD backend.\n",
       "\n",
       "using Zygote\n",
       "ADNLPModel(f, x0, c, zeros(ncon), zeros(ncon); backend = ADNLPModels.ZygoteAD)\n",
       "\\end{verbatim}\n",
       "For in-place constraints function, use one of the following constructors:\n",
       "\n",
       "\\begin{verbatim}\n",
       "ADNLPModel!(f, x0, c!, lcon, ucon)\n",
       "ADNLPModel!(f, x0, clinrows, clincols, clinvals, c!, lcon, ucon)\n",
       "ADNLPModel!(f, x0, A, c!, lcon, ucon)\n",
       "ADNLPModel(f, x0, lvar, uvar, c!, lcon, ucon)\n",
       "ADNLPModel(f, x0, lvar, uvar, clinrows, clincols, clinvals, c!, lcon, ucon)\n",
       "ADNLPModel(f, x0, lvar, uvar, A, c!, lcon, ucon)\n",
       "ADNLSModel!(model::AbstractNLSModel)\n",
       "\\end{verbatim}\n",
       "where the constraint function has the signature \\texttt{c!(output, input)}.\n",
       "\n",
       "\\begin{verbatim}\n",
       "using ADNLPModels\n",
       "f(x) = sum(x)\n",
       "x0 = ones(3)\n",
       "function c!(output, x) \n",
       "  output[1] = 1x[1] + x[2]\n",
       "  output[2] = x[2]\n",
       "end\n",
       "nvar, ncon = 3, 2\n",
       "nlp = ADNLPModel!(f, x0, c!, zeros(ncon), zeros(ncon)) # uses the default ForwardDiffAD backend.\n",
       "\\end{verbatim}\n"
      ],
      "text/markdown": [
       "```\n",
       "ADNLPModel(f, x0)\n",
       "ADNLPModel(f, x0, lvar, uvar)\n",
       "ADNLPModel(f, x0, clinrows, clincols, clinvals, lcon, ucon)\n",
       "ADNLPModel(f, x0, A, lcon, ucon)\n",
       "ADNLPModel(f, x0, c, lcon, ucon)\n",
       "ADNLPModel(f, x0, clinrows, clincols, clinvals, c, lcon, ucon)\n",
       "ADNLPModel(f, x0, A, c, lcon, ucon)\n",
       "ADNLPModel(f, x0, lvar, uvar, clinrows, clincols, clinvals, lcon, ucon)\n",
       "ADNLPModel(f, x0, lvar, uvar, A, lcon, ucon)\n",
       "ADNLPModel(f, x0, lvar, uvar, c, lcon, ucon)\n",
       "ADNLPModel(f, x0, lvar, uvar, clinrows, clincols, clinvals, c, lcon, ucon)\n",
       "ADNLPModel(f, x0, lvar, uvar, A, c, lcon, ucon)\n",
       "ADNLPModel(model::AbstractNLPModel)\n",
       "```\n",
       "\n",
       "ADNLPModel is an AbstractNLPModel using automatic differentiation to compute the derivatives. The problem is defined as\n",
       "\n",
       "```\n",
       " min  f(x)\n",
       "s.to  lcon ≤ (  Ax  ) ≤ ucon\n",
       "             ( c(x) )\n",
       "      lvar ≤   x  ≤ uvar.\n",
       "```\n",
       "\n",
       "The following keyword arguments are available to all constructors:\n",
       "\n",
       "  * `minimize`: A boolean indicating whether this is a minimization problem (default: true)\n",
       "  * `name`: The name of the model (default: \"Generic\")\n",
       "\n",
       "The following keyword arguments are available to the constructors for constrained problems:\n",
       "\n",
       "  * `y0`: An inital estimate to the Lagrangian multipliers (default: zeros)\n",
       "\n",
       "`ADNLPModel` uses `ForwardDiff` and `ReverseDiff` for the automatic differentiation. One can specify a new backend with the keyword arguments `backend::ADNLPModels.ADBackend`. There are three pre-coded backends:\n",
       "\n",
       "  * the default `ForwardDiffAD`.\n",
       "  * `ReverseDiffAD`.\n",
       "  * `ZygoteDiffAD` accessible after loading `Zygote.jl` in your environment.\n",
       "\n",
       "For an advanced usage, one can define its own backend and redefine the API as done in [ADNLPModels.jl/src/forward.jl](https://github.com/JuliaSmoothOptimizers/ADNLPModels.jl/blob/main/src/forward.jl).\n",
       "\n",
       "# Examples\n",
       "\n",
       "```julia\n",
       "using ADNLPModels\n",
       "f(x) = sum(x)\n",
       "x0 = ones(3)\n",
       "nvar = 3\n",
       "ADNLPModel(f, x0) # uses the default ForwardDiffAD backend.\n",
       "ADNLPModel(f, x0; backend = ADNLPModels.ReverseDiffAD) # uses ReverseDiffAD backend.\n",
       "\n",
       "using Zygote\n",
       "ADNLPModel(f, x0; backend = ADNLPModels.ZygoteAD)\n",
       "```\n",
       "\n",
       "```julia\n",
       "using ADNLPModels\n",
       "f(x) = sum(x)\n",
       "x0 = ones(3)\n",
       "c(x) = [1x[1] + x[2]; x[2]]\n",
       "nvar, ncon = 3, 2\n",
       "ADNLPModel(f, x0, c, zeros(ncon), zeros(ncon)) # uses the default ForwardDiffAD backend.\n",
       "ADNLPModel(f, x0, c, zeros(ncon), zeros(ncon); backend = ADNLPModels.ReverseDiffAD) # uses ReverseDiffAD backend.\n",
       "\n",
       "using Zygote\n",
       "ADNLPModel(f, x0, c, zeros(ncon), zeros(ncon); backend = ADNLPModels.ZygoteAD)\n",
       "```\n",
       "\n",
       "For in-place constraints function, use one of the following constructors:\n",
       "\n",
       "```\n",
       "ADNLPModel!(f, x0, c!, lcon, ucon)\n",
       "ADNLPModel!(f, x0, clinrows, clincols, clinvals, c!, lcon, ucon)\n",
       "ADNLPModel!(f, x0, A, c!, lcon, ucon)\n",
       "ADNLPModel(f, x0, lvar, uvar, c!, lcon, ucon)\n",
       "ADNLPModel(f, x0, lvar, uvar, clinrows, clincols, clinvals, c!, lcon, ucon)\n",
       "ADNLPModel(f, x0, lvar, uvar, A, c!, lcon, ucon)\n",
       "ADNLSModel!(model::AbstractNLSModel)\n",
       "```\n",
       "\n",
       "where the constraint function has the signature `c!(output, input)`.\n",
       "\n",
       "```julia\n",
       "using ADNLPModels\n",
       "f(x) = sum(x)\n",
       "x0 = ones(3)\n",
       "function c!(output, x) \n",
       "  output[1] = 1x[1] + x[2]\n",
       "  output[2] = x[2]\n",
       "end\n",
       "nvar, ncon = 3, 2\n",
       "nlp = ADNLPModel!(f, x0, c!, zeros(ncon), zeros(ncon)) # uses the default ForwardDiffAD backend.\n",
       "```\n"
      ],
      "text/plain": [
       "\u001b[36m  ADNLPModel(f, x0)\u001b[39m\n",
       "\u001b[36m  ADNLPModel(f, x0, lvar, uvar)\u001b[39m\n",
       "\u001b[36m  ADNLPModel(f, x0, clinrows, clincols, clinvals, lcon, ucon)\u001b[39m\n",
       "\u001b[36m  ADNLPModel(f, x0, A, lcon, ucon)\u001b[39m\n",
       "\u001b[36m  ADNLPModel(f, x0, c, lcon, ucon)\u001b[39m\n",
       "\u001b[36m  ADNLPModel(f, x0, clinrows, clincols, clinvals, c, lcon, ucon)\u001b[39m\n",
       "\u001b[36m  ADNLPModel(f, x0, A, c, lcon, ucon)\u001b[39m\n",
       "\u001b[36m  ADNLPModel(f, x0, lvar, uvar, clinrows, clincols, clinvals, lcon, ucon)\u001b[39m\n",
       "\u001b[36m  ADNLPModel(f, x0, lvar, uvar, A, lcon, ucon)\u001b[39m\n",
       "\u001b[36m  ADNLPModel(f, x0, lvar, uvar, c, lcon, ucon)\u001b[39m\n",
       "\u001b[36m  ADNLPModel(f, x0, lvar, uvar, clinrows, clincols, clinvals, c, lcon, ucon)\u001b[39m\n",
       "\u001b[36m  ADNLPModel(f, x0, lvar, uvar, A, c, lcon, ucon)\u001b[39m\n",
       "\u001b[36m  ADNLPModel(model::AbstractNLPModel)\u001b[39m\n",
       "\n",
       "  ADNLPModel is an AbstractNLPModel using automatic differentiation to compute\n",
       "  the derivatives. The problem is defined as\n",
       "\n",
       "\u001b[36m   min  f(x)\u001b[39m\n",
       "\u001b[36m  s.to  lcon ≤ (  Ax  ) ≤ ucon\u001b[39m\n",
       "\u001b[36m               ( c(x) )\u001b[39m\n",
       "\u001b[36m        lvar ≤   x  ≤ uvar.\u001b[39m\n",
       "\n",
       "  The following keyword arguments are available to all constructors:\n",
       "\n",
       "    •  \u001b[36mminimize\u001b[39m: A boolean indicating whether this is a minimization\n",
       "       problem (default: true)\n",
       "\n",
       "    •  \u001b[36mname\u001b[39m: The name of the model (default: \"Generic\")\n",
       "\n",
       "  The following keyword arguments are available to the constructors for\n",
       "  constrained problems:\n",
       "\n",
       "    •  \u001b[36my0\u001b[39m: An inital estimate to the Lagrangian multipliers (default:\n",
       "       zeros)\n",
       "\n",
       "  \u001b[36mADNLPModel\u001b[39m uses \u001b[36mForwardDiff\u001b[39m and \u001b[36mReverseDiff\u001b[39m for the automatic\n",
       "  differentiation. One can specify a new backend with the keyword arguments\n",
       "  \u001b[36mbackend::ADNLPModels.ADBackend\u001b[39m. There are three pre-coded backends:\n",
       "\n",
       "    •  the default \u001b[36mForwardDiffAD\u001b[39m.\n",
       "\n",
       "    •  \u001b[36mReverseDiffAD\u001b[39m.\n",
       "\n",
       "    •  \u001b[36mZygoteDiffAD\u001b[39m accessible after loading \u001b[36mZygote.jl\u001b[39m in your\n",
       "       environment.\n",
       "\n",
       "  For an advanced usage, one can define its own backend and redefine the API\n",
       "  as done in ADNLPModels.jl/src/forward.jl\n",
       "  (https://github.com/JuliaSmoothOptimizers/ADNLPModels.jl/blob/main/src/forward.jl).\n",
       "\n",
       "\u001b[1m  Examples\u001b[22m\n",
       "\u001b[1m  ≡≡≡≡≡≡≡≡\u001b[22m\n",
       "\n",
       "\u001b[36m  using ADNLPModels\u001b[39m\n",
       "\u001b[36m  f(x) = sum(x)\u001b[39m\n",
       "\u001b[36m  x0 = ones(3)\u001b[39m\n",
       "\u001b[36m  nvar = 3\u001b[39m\n",
       "\u001b[36m  ADNLPModel(f, x0) # uses the default ForwardDiffAD backend.\u001b[39m\n",
       "\u001b[36m  ADNLPModel(f, x0; backend = ADNLPModels.ReverseDiffAD) # uses ReverseDiffAD backend.\u001b[39m\n",
       "\u001b[36m  \u001b[39m\n",
       "\u001b[36m  using Zygote\u001b[39m\n",
       "\u001b[36m  ADNLPModel(f, x0; backend = ADNLPModels.ZygoteAD)\u001b[39m\n",
       "\n",
       "\u001b[36m  using ADNLPModels\u001b[39m\n",
       "\u001b[36m  f(x) = sum(x)\u001b[39m\n",
       "\u001b[36m  x0 = ones(3)\u001b[39m\n",
       "\u001b[36m  c(x) = [1x[1] + x[2]; x[2]]\u001b[39m\n",
       "\u001b[36m  nvar, ncon = 3, 2\u001b[39m\n",
       "\u001b[36m  ADNLPModel(f, x0, c, zeros(ncon), zeros(ncon)) # uses the default ForwardDiffAD backend.\u001b[39m\n",
       "\u001b[36m  ADNLPModel(f, x0, c, zeros(ncon), zeros(ncon); backend = ADNLPModels.ReverseDiffAD) # uses ReverseDiffAD backend.\u001b[39m\n",
       "\u001b[36m  \u001b[39m\n",
       "\u001b[36m  using Zygote\u001b[39m\n",
       "\u001b[36m  ADNLPModel(f, x0, c, zeros(ncon), zeros(ncon); backend = ADNLPModels.ZygoteAD)\u001b[39m\n",
       "\n",
       "  For in-place constraints function, use one of the following constructors:\n",
       "\n",
       "\u001b[36m  ADNLPModel!(f, x0, c!, lcon, ucon)\u001b[39m\n",
       "\u001b[36m  ADNLPModel!(f, x0, clinrows, clincols, clinvals, c!, lcon, ucon)\u001b[39m\n",
       "\u001b[36m  ADNLPModel!(f, x0, A, c!, lcon, ucon)\u001b[39m\n",
       "\u001b[36m  ADNLPModel(f, x0, lvar, uvar, c!, lcon, ucon)\u001b[39m\n",
       "\u001b[36m  ADNLPModel(f, x0, lvar, uvar, clinrows, clincols, clinvals, c!, lcon, ucon)\u001b[39m\n",
       "\u001b[36m  ADNLPModel(f, x0, lvar, uvar, A, c!, lcon, ucon)\u001b[39m\n",
       "\u001b[36m  ADNLSModel!(model::AbstractNLSModel)\u001b[39m\n",
       "\n",
       "  where the constraint function has the signature \u001b[36mc!(output, input)\u001b[39m.\n",
       "\n",
       "\u001b[36m  using ADNLPModels\u001b[39m\n",
       "\u001b[36m  f(x) = sum(x)\u001b[39m\n",
       "\u001b[36m  x0 = ones(3)\u001b[39m\n",
       "\u001b[36m  function c!(output, x) \u001b[39m\n",
       "\u001b[36m    output[1] = 1x[1] + x[2]\u001b[39m\n",
       "\u001b[36m    output[2] = x[2]\u001b[39m\n",
       "\u001b[36m  end\u001b[39m\n",
       "\u001b[36m  nvar, ncon = 3, 2\u001b[39m\n",
       "\u001b[36m  nlp = ADNLPModel!(f, x0, c!, zeros(ncon), zeros(ncon)) # uses the default ForwardDiffAD backend.\u001b[39m"
      ]
     },
     "metadata": {},
     "output_type": "display_data"
    }
   ],
   "source": [
    "@doc ADNLPModel"
   ]
  },
  {
   "cell_type": "code",
   "execution_count": 9,
   "id": "efe11d78-3e3d-4839-9e44-00030c040758",
   "metadata": {},
   "outputs": [],
   "source": [
    "using OptimizationProblems\n",
    "using OptimizationProblems.ADNLPProblems # https://github.com/JuliaSmoothOptimizers/OptimizationProblems.jl\n",
    "                                         # contains a test set of problems of type ADNLPModel"
   ]
  },
  {
   "cell_type": "code",
   "execution_count": 10,
   "id": "18780905-b5e3-46aa-95b6-a156e3257571",
   "metadata": {},
   "outputs": [
    {
     "data": {
      "text/plain": [
       "ADNLPModel - Model with automatic differentiation backend ADModelBackend{\n",
       "  ForwardDiffADGradient,\n",
       "  ForwardDiffADHvprod,\n",
       "  EmptyADbackend,\n",
       "  EmptyADbackend,\n",
       "  EmptyADbackend,\n",
       "  EmptyADbackend,\n",
       "  EmptyADbackend,\n",
       "}\n",
       "  Problem name: arglina\n",
       "   All variables: ████████████████████ 100    All constraints: ⋅⋅⋅⋅⋅⋅⋅⋅⋅⋅⋅⋅⋅⋅⋅⋅⋅⋅⋅⋅ 0     \n",
       "            free: ████████████████████ 100               free: ⋅⋅⋅⋅⋅⋅⋅⋅⋅⋅⋅⋅⋅⋅⋅⋅⋅⋅⋅⋅ 0     \n",
       "           lower: ⋅⋅⋅⋅⋅⋅⋅⋅⋅⋅⋅⋅⋅⋅⋅⋅⋅⋅⋅⋅ 0                lower: ⋅⋅⋅⋅⋅⋅⋅⋅⋅⋅⋅⋅⋅⋅⋅⋅⋅⋅⋅⋅ 0     \n",
       "           upper: ⋅⋅⋅⋅⋅⋅⋅⋅⋅⋅⋅⋅⋅⋅⋅⋅⋅⋅⋅⋅ 0                upper: ⋅⋅⋅⋅⋅⋅⋅⋅⋅⋅⋅⋅⋅⋅⋅⋅⋅⋅⋅⋅ 0     \n",
       "         low/upp: ⋅⋅⋅⋅⋅⋅⋅⋅⋅⋅⋅⋅⋅⋅⋅⋅⋅⋅⋅⋅ 0              low/upp: ⋅⋅⋅⋅⋅⋅⋅⋅⋅⋅⋅⋅⋅⋅⋅⋅⋅⋅⋅⋅ 0     \n",
       "           fixed: ⋅⋅⋅⋅⋅⋅⋅⋅⋅⋅⋅⋅⋅⋅⋅⋅⋅⋅⋅⋅ 0                fixed: ⋅⋅⋅⋅⋅⋅⋅⋅⋅⋅⋅⋅⋅⋅⋅⋅⋅⋅⋅⋅ 0     \n",
       "          infeas: ⋅⋅⋅⋅⋅⋅⋅⋅⋅⋅⋅⋅⋅⋅⋅⋅⋅⋅⋅⋅ 0               infeas: ⋅⋅⋅⋅⋅⋅⋅⋅⋅⋅⋅⋅⋅⋅⋅⋅⋅⋅⋅⋅ 0     \n",
       "            nnzh: (  0.00% sparsity)   5050            linear: ⋅⋅⋅⋅⋅⋅⋅⋅⋅⋅⋅⋅⋅⋅⋅⋅⋅⋅⋅⋅ 0     \n",
       "                                                    nonlinear: ⋅⋅⋅⋅⋅⋅⋅⋅⋅⋅⋅⋅⋅⋅⋅⋅⋅⋅⋅⋅ 0     \n",
       "                                                         nnzj: (------% sparsity)         \n",
       "\n",
       "  Counters:\n",
       "             obj: ⋅⋅⋅⋅⋅⋅⋅⋅⋅⋅⋅⋅⋅⋅⋅⋅⋅⋅⋅⋅ 0                 grad: ⋅⋅⋅⋅⋅⋅⋅⋅⋅⋅⋅⋅⋅⋅⋅⋅⋅⋅⋅⋅ 0                 cons: ⋅⋅⋅⋅⋅⋅⋅⋅⋅⋅⋅⋅⋅⋅⋅⋅⋅⋅⋅⋅ 0     \n",
       "        cons_lin: ⋅⋅⋅⋅⋅⋅⋅⋅⋅⋅⋅⋅⋅⋅⋅⋅⋅⋅⋅⋅ 0             cons_nln: ⋅⋅⋅⋅⋅⋅⋅⋅⋅⋅⋅⋅⋅⋅⋅⋅⋅⋅⋅⋅ 0                 jcon: ⋅⋅⋅⋅⋅⋅⋅⋅⋅⋅⋅⋅⋅⋅⋅⋅⋅⋅⋅⋅ 0     \n",
       "           jgrad: ⋅⋅⋅⋅⋅⋅⋅⋅⋅⋅⋅⋅⋅⋅⋅⋅⋅⋅⋅⋅ 0                  jac: ⋅⋅⋅⋅⋅⋅⋅⋅⋅⋅⋅⋅⋅⋅⋅⋅⋅⋅⋅⋅ 0              jac_lin: ⋅⋅⋅⋅⋅⋅⋅⋅⋅⋅⋅⋅⋅⋅⋅⋅⋅⋅⋅⋅ 0     \n",
       "         jac_nln: ⋅⋅⋅⋅⋅⋅⋅⋅⋅⋅⋅⋅⋅⋅⋅⋅⋅⋅⋅⋅ 0                jprod: ⋅⋅⋅⋅⋅⋅⋅⋅⋅⋅⋅⋅⋅⋅⋅⋅⋅⋅⋅⋅ 0            jprod_lin: ⋅⋅⋅⋅⋅⋅⋅⋅⋅⋅⋅⋅⋅⋅⋅⋅⋅⋅⋅⋅ 0     \n",
       "       jprod_nln: ⋅⋅⋅⋅⋅⋅⋅⋅⋅⋅⋅⋅⋅⋅⋅⋅⋅⋅⋅⋅ 0               jtprod: ⋅⋅⋅⋅⋅⋅⋅⋅⋅⋅⋅⋅⋅⋅⋅⋅⋅⋅⋅⋅ 0           jtprod_lin: ⋅⋅⋅⋅⋅⋅⋅⋅⋅⋅⋅⋅⋅⋅⋅⋅⋅⋅⋅⋅ 0     \n",
       "      jtprod_nln: ⋅⋅⋅⋅⋅⋅⋅⋅⋅⋅⋅⋅⋅⋅⋅⋅⋅⋅⋅⋅ 0                 hess: ⋅⋅⋅⋅⋅⋅⋅⋅⋅⋅⋅⋅⋅⋅⋅⋅⋅⋅⋅⋅ 0                hprod: ⋅⋅⋅⋅⋅⋅⋅⋅⋅⋅⋅⋅⋅⋅⋅⋅⋅⋅⋅⋅ 0     \n",
       "           jhess: ⋅⋅⋅⋅⋅⋅⋅⋅⋅⋅⋅⋅⋅⋅⋅⋅⋅⋅⋅⋅ 0               jhprod: ⋅⋅⋅⋅⋅⋅⋅⋅⋅⋅⋅⋅⋅⋅⋅⋅⋅⋅⋅⋅ 0     \n"
      ]
     },
     "metadata": {},
     "output_type": "display_data"
    }
   ],
   "source": [
    "nlp = OptimizationProblems.ADNLPProblems.arglina(matrix_free = true) # is one of them"
   ]
  },
  {
   "cell_type": "code",
   "execution_count": 11,
   "id": "b574c53d-51b7-4e93-94a8-27d8f14e9de9",
   "metadata": {},
   "outputs": [
    {
     "data": {
      "text/html": [
       "<div><div style = \"float: left;\"><span>374×17 DataFrame</span></div><div style = \"float: right;\"><span style = \"font-style: italic;\">349 rows omitted</span></div><div style = \"clear: both;\"></div></div><div class = \"data-frame\" style = \"overflow-x: scroll;\"><table class = \"data-frame\" style = \"margin-bottom: 6px;\"><thead><tr class = \"header\"><th class = \"rowNumber\" style = \"font-weight: bold; text-align: right;\">Row</th><th style = \"text-align: left;\">nvar</th><th style = \"text-align: left;\">variable_nvar</th><th style = \"text-align: left;\">ncon</th><th style = \"text-align: left;\">variable_ncon</th><th style = \"text-align: left;\">minimize</th><th style = \"text-align: left;\">name</th><th style = \"text-align: left;\">has_equalities_only</th><th style = \"text-align: left;\">has_inequalities_only</th><th style = \"text-align: left;\">has_bounds</th><th style = \"text-align: left;\">has_fixed_variables</th><th style = \"text-align: left;\">objtype</th><th style = \"text-align: left;\">contype</th><th style = \"text-align: left;\">best_known_lower_bound</th><th style = \"text-align: left;\">best_known_upper_bound</th><th style = \"text-align: left;\">is_feasible</th><th style = \"text-align: left;\">defined_everywhere</th><th style = \"text-align: left;\">origin</th></tr><tr class = \"subheader headerLastRow\"><th class = \"rowNumber\" style = \"font-weight: bold; text-align: right;\"></th><th title = \"Int64\" style = \"text-align: left;\">Int64</th><th title = \"Bool\" style = \"text-align: left;\">Bool</th><th title = \"Int64\" style = \"text-align: left;\">Int64</th><th title = \"Bool\" style = \"text-align: left;\">Bool</th><th title = \"Bool\" style = \"text-align: left;\">Bool</th><th title = \"String\" style = \"text-align: left;\">String</th><th title = \"Bool\" style = \"text-align: left;\">Bool</th><th title = \"Bool\" style = \"text-align: left;\">Bool</th><th title = \"Bool\" style = \"text-align: left;\">Bool</th><th title = \"Bool\" style = \"text-align: left;\">Bool</th><th title = \"Symbol\" style = \"text-align: left;\">Symbol</th><th title = \"Symbol\" style = \"text-align: left;\">Symbol</th><th title = \"Real\" style = \"text-align: left;\">Real</th><th title = \"Real\" style = \"text-align: left;\">Real</th><th title = \"Union{Missing, Bool}\" style = \"text-align: left;\">Bool?</th><th title = \"Union{Missing, Bool}\" style = \"text-align: left;\">Bool?</th><th title = \"Symbol\" style = \"text-align: left;\">Symbol</th></tr></thead><tbody><tr><td class = \"rowNumber\" style = \"font-weight: bold; text-align: right;\">1</td><td style = \"text-align: right;\">1</td><td style = \"text-align: right;\">false</td><td style = \"text-align: right;\">0</td><td style = \"text-align: right;\">false</td><td style = \"text-align: right;\">true</td><td style = \"text-align: left;\">AMPGO02</td><td style = \"text-align: right;\">false</td><td style = \"text-align: right;\">false</td><td style = \"text-align: right;\">false</td><td style = \"text-align: right;\">false</td><td style = \"text-align: left;\">other</td><td style = \"text-align: left;\">unconstrained</td><td style = \"text-align: right;\">-Inf</td><td style = \"text-align: right;\">0.839498</td><td style = \"text-align: right;\">true</td><td style = \"font-style: italic; text-align: right;\">missing</td><td style = \"text-align: left;\">unknown</td></tr><tr><td class = \"rowNumber\" style = \"font-weight: bold; text-align: right;\">2</td><td style = \"text-align: right;\">1</td><td style = \"text-align: right;\">false</td><td style = \"text-align: right;\">0</td><td style = \"text-align: right;\">false</td><td style = \"text-align: right;\">true</td><td style = \"text-align: left;\">AMPGO03</td><td style = \"text-align: right;\">false</td><td style = \"text-align: right;\">false</td><td style = \"text-align: right;\">false</td><td style = \"text-align: right;\">false</td><td style = \"text-align: left;\">other</td><td style = \"text-align: left;\">unconstrained</td><td style = \"text-align: right;\">-Inf</td><td style = \"text-align: right;\">2.88961</td><td style = \"text-align: right;\">true</td><td style = \"font-style: italic; text-align: right;\">missing</td><td style = \"text-align: left;\">unknown</td></tr><tr><td class = \"rowNumber\" style = \"font-weight: bold; text-align: right;\">3</td><td style = \"text-align: right;\">1</td><td style = \"text-align: right;\">false</td><td style = \"text-align: right;\">0</td><td style = \"text-align: right;\">false</td><td style = \"text-align: right;\">true</td><td style = \"text-align: left;\">AMPGO04</td><td style = \"text-align: right;\">false</td><td style = \"text-align: right;\">false</td><td style = \"text-align: right;\">false</td><td style = \"text-align: right;\">false</td><td style = \"text-align: left;\">other</td><td style = \"text-align: left;\">unconstrained</td><td style = \"text-align: right;\">-Inf</td><td style = \"text-align: right;\">-2.5666</td><td style = \"text-align: right;\">true</td><td style = \"font-style: italic; text-align: right;\">missing</td><td style = \"text-align: left;\">unknown</td></tr><tr><td class = \"rowNumber\" style = \"font-weight: bold; text-align: right;\">4</td><td style = \"text-align: right;\">1</td><td style = \"text-align: right;\">false</td><td style = \"text-align: right;\">0</td><td style = \"text-align: right;\">false</td><td style = \"text-align: right;\">true</td><td style = \"text-align: left;\">AMPGO05</td><td style = \"text-align: right;\">false</td><td style = \"text-align: right;\">false</td><td style = \"text-align: right;\">false</td><td style = \"text-align: right;\">false</td><td style = \"text-align: left;\">other</td><td style = \"text-align: left;\">unconstrained</td><td style = \"text-align: right;\">-Inf</td><td style = \"text-align: right;\">-0.0</td><td style = \"text-align: right;\">true</td><td style = \"font-style: italic; text-align: right;\">missing</td><td style = \"text-align: left;\">unknown</td></tr><tr><td class = \"rowNumber\" style = \"font-weight: bold; text-align: right;\">5</td><td style = \"text-align: right;\">1</td><td style = \"text-align: right;\">false</td><td style = \"text-align: right;\">0</td><td style = \"text-align: right;\">false</td><td style = \"text-align: right;\">true</td><td style = \"text-align: left;\">AMPGO06</td><td style = \"text-align: right;\">false</td><td style = \"text-align: right;\">false</td><td style = \"text-align: right;\">false</td><td style = \"text-align: right;\">false</td><td style = \"text-align: left;\">other</td><td style = \"text-align: left;\">unconstrained</td><td style = \"text-align: right;\">-Inf</td><td style = \"text-align: right;\">3.5177e-43</td><td style = \"text-align: right;\">true</td><td style = \"font-style: italic; text-align: right;\">missing</td><td style = \"text-align: left;\">unknown</td></tr><tr><td class = \"rowNumber\" style = \"font-weight: bold; text-align: right;\">6</td><td style = \"text-align: right;\">1</td><td style = \"text-align: right;\">false</td><td style = \"text-align: right;\">0</td><td style = \"text-align: right;\">false</td><td style = \"text-align: right;\">true</td><td style = \"text-align: left;\">AMPGO07</td><td style = \"text-align: right;\">false</td><td style = \"text-align: right;\">false</td><td style = \"text-align: right;\">false</td><td style = \"text-align: right;\">false</td><td style = \"text-align: left;\">other</td><td style = \"text-align: left;\">unconstrained</td><td style = \"text-align: right;\">-Inf</td><td style = \"text-align: right;\">2.56475</td><td style = \"text-align: right;\">true</td><td style = \"font-style: italic; text-align: right;\">missing</td><td style = \"text-align: left;\">unknown</td></tr><tr><td class = \"rowNumber\" style = \"font-weight: bold; text-align: right;\">7</td><td style = \"text-align: right;\">1</td><td style = \"text-align: right;\">false</td><td style = \"text-align: right;\">0</td><td style = \"text-align: right;\">false</td><td style = \"text-align: right;\">true</td><td style = \"text-align: left;\">AMPGO08</td><td style = \"text-align: right;\">false</td><td style = \"text-align: right;\">false</td><td style = \"text-align: right;\">false</td><td style = \"text-align: right;\">false</td><td style = \"text-align: left;\">other</td><td style = \"text-align: left;\">unconstrained</td><td style = \"text-align: right;\">-Inf</td><td style = \"text-align: right;\">-2.0928</td><td style = \"text-align: right;\">true</td><td style = \"font-style: italic; text-align: right;\">missing</td><td style = \"text-align: left;\">unknown</td></tr><tr><td class = \"rowNumber\" style = \"font-weight: bold; text-align: right;\">8</td><td style = \"text-align: right;\">1</td><td style = \"text-align: right;\">false</td><td style = \"text-align: right;\">0</td><td style = \"text-align: right;\">false</td><td style = \"text-align: right;\">true</td><td style = \"text-align: left;\">AMPGO09</td><td style = \"text-align: right;\">false</td><td style = \"text-align: right;\">false</td><td style = \"text-align: right;\">false</td><td style = \"text-align: right;\">false</td><td style = \"text-align: left;\">other</td><td style = \"text-align: left;\">unconstrained</td><td style = \"text-align: right;\">-Inf</td><td style = \"text-align: right;\">0.921136</td><td style = \"text-align: right;\">true</td><td style = \"font-style: italic; text-align: right;\">missing</td><td style = \"text-align: left;\">unknown</td></tr><tr><td class = \"rowNumber\" style = \"font-weight: bold; text-align: right;\">9</td><td style = \"text-align: right;\">1</td><td style = \"text-align: right;\">false</td><td style = \"text-align: right;\">0</td><td style = \"text-align: right;\">false</td><td style = \"text-align: right;\">true</td><td style = \"text-align: left;\">AMPGO10</td><td style = \"text-align: right;\">false</td><td style = \"text-align: right;\">false</td><td style = \"text-align: right;\">false</td><td style = \"text-align: right;\">false</td><td style = \"text-align: left;\">other</td><td style = \"text-align: left;\">unconstrained</td><td style = \"text-align: right;\">-Inf</td><td style = \"text-align: right;\">-0.0</td><td style = \"text-align: right;\">true</td><td style = \"font-style: italic; text-align: right;\">missing</td><td style = \"text-align: left;\">unknown</td></tr><tr><td class = \"rowNumber\" style = \"font-weight: bold; text-align: right;\">10</td><td style = \"text-align: right;\">1</td><td style = \"text-align: right;\">false</td><td style = \"text-align: right;\">0</td><td style = \"text-align: right;\">false</td><td style = \"text-align: right;\">true</td><td style = \"text-align: left;\">AMPGO11</td><td style = \"text-align: right;\">false</td><td style = \"text-align: right;\">false</td><td style = \"text-align: right;\">false</td><td style = \"text-align: right;\">false</td><td style = \"text-align: left;\">other</td><td style = \"text-align: left;\">unconstrained</td><td style = \"text-align: right;\">-Inf</td><td style = \"text-align: right;\">-1.0</td><td style = \"text-align: right;\">true</td><td style = \"font-style: italic; text-align: right;\">missing</td><td style = \"text-align: left;\">unknown</td></tr><tr><td class = \"rowNumber\" style = \"font-weight: bold; text-align: right;\">11</td><td style = \"text-align: right;\">1</td><td style = \"text-align: right;\">false</td><td style = \"text-align: right;\">0</td><td style = \"text-align: right;\">false</td><td style = \"text-align: right;\">true</td><td style = \"text-align: left;\">AMPGO12</td><td style = \"text-align: right;\">false</td><td style = \"text-align: right;\">false</td><td style = \"text-align: right;\">false</td><td style = \"text-align: right;\">false</td><td style = \"text-align: left;\">other</td><td style = \"text-align: left;\">unconstrained</td><td style = \"text-align: right;\">-Inf</td><td style = \"text-align: right;\">1.0</td><td style = \"text-align: right;\">true</td><td style = \"font-style: italic; text-align: right;\">missing</td><td style = \"text-align: left;\">unknown</td></tr><tr><td class = \"rowNumber\" style = \"font-weight: bold; text-align: right;\">12</td><td style = \"text-align: right;\">1</td><td style = \"text-align: right;\">false</td><td style = \"text-align: right;\">0</td><td style = \"text-align: right;\">false</td><td style = \"text-align: right;\">true</td><td style = \"text-align: left;\">AMPGO13</td><td style = \"text-align: right;\">false</td><td style = \"text-align: right;\">false</td><td style = \"text-align: right;\">false</td><td style = \"text-align: right;\">false</td><td style = \"text-align: left;\">other</td><td style = \"text-align: left;\">unconstrained</td><td style = \"text-align: right;\">-1.5874</td><td style = \"text-align: right;\">-1.5874</td><td style = \"text-align: right;\">true</td><td style = \"font-style: italic; text-align: right;\">missing</td><td style = \"text-align: left;\">unknown</td></tr><tr><td class = \"rowNumber\" style = \"font-weight: bold; text-align: right;\">13</td><td style = \"text-align: right;\">1</td><td style = \"text-align: right;\">false</td><td style = \"text-align: right;\">0</td><td style = \"text-align: right;\">false</td><td style = \"text-align: right;\">true</td><td style = \"text-align: left;\">AMPGO14</td><td style = \"text-align: right;\">false</td><td style = \"text-align: right;\">false</td><td style = \"text-align: right;\">false</td><td style = \"text-align: right;\">false</td><td style = \"text-align: left;\">other</td><td style = \"text-align: left;\">unconstrained</td><td style = \"text-align: right;\">-Inf</td><td style = \"text-align: right;\">-0.0</td><td style = \"text-align: right;\">true</td><td style = \"font-style: italic; text-align: right;\">missing</td><td style = \"text-align: left;\">unknown</td></tr><tr><td style = \"text-align: right;\">&vellip;</td><td style = \"text-align: right;\">&vellip;</td><td style = \"text-align: right;\">&vellip;</td><td style = \"text-align: right;\">&vellip;</td><td style = \"text-align: right;\">&vellip;</td><td style = \"text-align: right;\">&vellip;</td><td style = \"text-align: right;\">&vellip;</td><td style = \"text-align: right;\">&vellip;</td><td style = \"text-align: right;\">&vellip;</td><td style = \"text-align: right;\">&vellip;</td><td style = \"text-align: right;\">&vellip;</td><td style = \"text-align: right;\">&vellip;</td><td style = \"text-align: right;\">&vellip;</td><td style = \"text-align: right;\">&vellip;</td><td style = \"text-align: right;\">&vellip;</td><td style = \"text-align: right;\">&vellip;</td><td style = \"text-align: right;\">&vellip;</td><td style = \"text-align: right;\">&vellip;</td></tr><tr><td class = \"rowNumber\" style = \"font-weight: bold; text-align: right;\">363</td><td style = \"text-align: right;\">100</td><td style = \"text-align: right;\">true</td><td style = \"text-align: right;\">0</td><td style = \"text-align: right;\">false</td><td style = \"text-align: right;\">true</td><td style = \"text-align: left;\">tointgss</td><td style = \"text-align: right;\">false</td><td style = \"text-align: right;\">false</td><td style = \"text-align: right;\">false</td><td style = \"text-align: right;\">false</td><td style = \"text-align: left;\">other</td><td style = \"text-align: left;\">unconstrained</td><td style = \"text-align: right;\">-Inf</td><td style = \"text-align: right;\">891.608</td><td style = \"text-align: right;\">true</td><td style = \"font-style: italic; text-align: right;\">missing</td><td style = \"text-align: left;\">unknown</td></tr><tr><td class = \"rowNumber\" style = \"font-weight: bold; text-align: right;\">364</td><td style = \"text-align: right;\">100</td><td style = \"text-align: right;\">true</td><td style = \"text-align: right;\">0</td><td style = \"text-align: right;\">false</td><td style = \"text-align: right;\">true</td><td style = \"text-align: left;\">tquartic</td><td style = \"text-align: right;\">false</td><td style = \"text-align: right;\">false</td><td style = \"text-align: right;\">false</td><td style = \"text-align: right;\">false</td><td style = \"text-align: left;\">least_squares</td><td style = \"text-align: left;\">unconstrained</td><td style = \"text-align: right;\">-Inf</td><td style = \"text-align: right;\">0.81</td><td style = \"text-align: right;\">true</td><td style = \"font-style: italic; text-align: right;\">missing</td><td style = \"text-align: left;\">unknown</td></tr><tr><td class = \"rowNumber\" style = \"font-weight: bold; text-align: right;\">365</td><td style = \"text-align: right;\">8</td><td style = \"text-align: right;\">false</td><td style = \"text-align: right;\">3</td><td style = \"text-align: right;\">false</td><td style = \"text-align: right;\">true</td><td style = \"text-align: left;\">triangle</td><td style = \"text-align: right;\">false</td><td style = \"text-align: right;\">true</td><td style = \"text-align: right;\">true</td><td style = \"text-align: right;\">true</td><td style = \"text-align: left;\">other</td><td style = \"text-align: left;\">general</td><td style = \"text-align: right;\">-Inf</td><td style = \"text-align: right;\">11.328</td><td style = \"text-align: right;\">true</td><td style = \"font-style: italic; text-align: right;\">missing</td><td style = \"text-align: left;\">unknown</td></tr><tr><td class = \"rowNumber\" style = \"font-weight: bold; text-align: right;\">366</td><td style = \"text-align: right;\">2244</td><td style = \"text-align: right;\">false</td><td style = \"text-align: right;\">1896</td><td style = \"text-align: right;\">false</td><td style = \"text-align: right;\">true</td><td style = \"text-align: left;\">triangle_deer</td><td style = \"text-align: right;\">false</td><td style = \"text-align: right;\">true</td><td style = \"text-align: right;\">true</td><td style = \"text-align: right;\">true</td><td style = \"text-align: left;\">other</td><td style = \"text-align: left;\">general</td><td style = \"text-align: right;\">-Inf</td><td style = \"text-align: right;\">2014.34</td><td style = \"text-align: right;\">true</td><td style = \"font-style: italic; text-align: right;\">missing</td><td style = \"text-align: left;\">unknown</td></tr><tr><td class = \"rowNumber\" style = \"font-weight: bold; text-align: right;\">367</td><td style = \"text-align: right;\">1366</td><td style = \"text-align: right;\">false</td><td style = \"text-align: right;\">1182</td><td style = \"text-align: right;\">false</td><td style = \"text-align: right;\">true</td><td style = \"text-align: left;\">triangle_pacman</td><td style = \"text-align: right;\">false</td><td style = \"text-align: right;\">true</td><td style = \"text-align: right;\">true</td><td style = \"text-align: right;\">true</td><td style = \"text-align: left;\">other</td><td style = \"text-align: left;\">general</td><td style = \"text-align: right;\">-Inf</td><td style = \"text-align: right;\">1316.28</td><td style = \"text-align: right;\">true</td><td style = \"font-style: italic; text-align: right;\">missing</td><td style = \"text-align: left;\">unknown</td></tr><tr><td class = \"rowNumber\" style = \"font-weight: bold; text-align: right;\">368</td><td style = \"text-align: right;\">4444</td><td style = \"text-align: right;\">false</td><td style = \"text-align: right;\">4025</td><td style = \"text-align: right;\">false</td><td style = \"text-align: right;\">true</td><td style = \"text-align: left;\">triangle_turtle</td><td style = \"text-align: right;\">false</td><td style = \"text-align: right;\">true</td><td style = \"text-align: right;\">true</td><td style = \"text-align: right;\">true</td><td style = \"text-align: left;\">other</td><td style = \"text-align: left;\">general</td><td style = \"text-align: right;\">-Inf</td><td style = \"text-align: right;\">4467.58</td><td style = \"text-align: right;\">true</td><td style = \"font-style: italic; text-align: right;\">missing</td><td style = \"text-align: left;\">unknown</td></tr><tr><td class = \"rowNumber\" style = \"font-weight: bold; text-align: right;\">369</td><td style = \"text-align: right;\">100</td><td style = \"text-align: right;\">true</td><td style = \"text-align: right;\">0</td><td style = \"text-align: right;\">false</td><td style = \"text-align: right;\">true</td><td style = \"text-align: left;\">tridia</td><td style = \"text-align: right;\">false</td><td style = \"text-align: right;\">false</td><td style = \"text-align: right;\">false</td><td style = \"text-align: right;\">false</td><td style = \"text-align: left;\">other</td><td style = \"text-align: left;\">unconstrained</td><td style = \"text-align: right;\">-Inf</td><td style = \"text-align: right;\">5049.0</td><td style = \"text-align: right;\">true</td><td style = \"font-style: italic; text-align: right;\">missing</td><td style = \"text-align: left;\">unknown</td></tr><tr><td class = \"rowNumber\" style = \"font-weight: bold; text-align: right;\">370</td><td style = \"text-align: right;\">100</td><td style = \"text-align: right;\">true</td><td style = \"text-align: right;\">0</td><td style = \"text-align: right;\">false</td><td style = \"text-align: right;\">true</td><td style = \"text-align: left;\">vardim</td><td style = \"text-align: right;\">false</td><td style = \"text-align: right;\">false</td><td style = \"text-align: right;\">false</td><td style = \"text-align: right;\">false</td><td style = \"text-align: left;\">other</td><td style = \"text-align: left;\">unconstrained</td><td style = \"text-align: right;\">-Inf</td><td style = \"text-align: right;\">1.31058e14</td><td style = \"text-align: right;\">true</td><td style = \"font-style: italic; text-align: right;\">missing</td><td style = \"text-align: left;\">unknown</td></tr><tr><td class = \"rowNumber\" style = \"font-weight: bold; text-align: right;\">371</td><td style = \"text-align: right;\">8</td><td style = \"text-align: right;\">false</td><td style = \"text-align: right;\">0</td><td style = \"text-align: right;\">false</td><td style = \"text-align: right;\">true</td><td style = \"text-align: left;\">vibrbeam</td><td style = \"text-align: right;\">false</td><td style = \"text-align: right;\">false</td><td style = \"text-align: right;\">false</td><td style = \"text-align: right;\">false</td><td style = \"text-align: left;\">least_squares</td><td style = \"text-align: left;\">unconstrained</td><td style = \"text-align: right;\">-Inf</td><td style = \"text-align: right;\">8231.28</td><td style = \"text-align: right;\">true</td><td style = \"font-style: italic; text-align: right;\">missing</td><td style = \"text-align: left;\">unknown</td></tr><tr><td class = \"rowNumber\" style = \"font-weight: bold; text-align: right;\">372</td><td style = \"text-align: right;\">31</td><td style = \"text-align: right;\">false</td><td style = \"text-align: right;\">0</td><td style = \"text-align: right;\">false</td><td style = \"text-align: right;\">true</td><td style = \"text-align: left;\">watson</td><td style = \"text-align: right;\">false</td><td style = \"text-align: right;\">false</td><td style = \"text-align: right;\">false</td><td style = \"text-align: right;\">false</td><td style = \"text-align: left;\">least_squares</td><td style = \"text-align: left;\">unconstrained</td><td style = \"text-align: right;\">-Inf</td><td style = \"text-align: right;\">500.0</td><td style = \"text-align: right;\">true</td><td style = \"font-style: italic; text-align: right;\">missing</td><td style = \"text-align: left;\">unknown</td></tr><tr><td class = \"rowNumber\" style = \"font-weight: bold; text-align: right;\">373</td><td style = \"text-align: right;\">100</td><td style = \"text-align: right;\">true</td><td style = \"text-align: right;\">0</td><td style = \"text-align: right;\">false</td><td style = \"text-align: right;\">true</td><td style = \"text-align: left;\">woods</td><td style = \"text-align: right;\">false</td><td style = \"text-align: right;\">false</td><td style = \"text-align: right;\">false</td><td style = \"text-align: right;\">false</td><td style = \"text-align: left;\">other</td><td style = \"text-align: left;\">unconstrained</td><td style = \"text-align: right;\">-Inf</td><td style = \"text-align: right;\">180451.0</td><td style = \"text-align: right;\">true</td><td style = \"font-style: italic; text-align: right;\">missing</td><td style = \"text-align: left;\">unknown</td></tr><tr><td class = \"rowNumber\" style = \"font-weight: bold; text-align: right;\">374</td><td style = \"text-align: right;\">3</td><td style = \"text-align: right;\">false</td><td style = \"text-align: right;\">3</td><td style = \"text-align: right;\">false</td><td style = \"text-align: right;\">true</td><td style = \"text-align: left;\">zangwil3</td><td style = \"text-align: right;\">true</td><td style = \"text-align: right;\">false</td><td style = \"text-align: right;\">false</td><td style = \"text-align: right;\">false</td><td style = \"text-align: left;\">other</td><td style = \"text-align: left;\">linear</td><td style = \"text-align: right;\">-Inf</td><td style = \"text-align: right;\">Inf</td><td style = \"font-style: italic; text-align: right;\">missing</td><td style = \"font-style: italic; text-align: right;\">missing</td><td style = \"text-align: left;\">unknown</td></tr></tbody></table></div>"
      ],
      "text/latex": [
       "\\begin{tabular}{r|cccccccc}\n",
       "\t& nvar & variable\\_nvar & ncon & variable\\_ncon & minimize & name & has\\_equalities\\_only & \\\\\n",
       "\t\\hline\n",
       "\t& Int64 & Bool & Int64 & Bool & Bool & String & Bool & \\\\\n",
       "\t\\hline\n",
       "\t1 & 1 & 0 & 0 & 0 & 1 & AMPGO02 & 0 & $\\dots$ \\\\\n",
       "\t2 & 1 & 0 & 0 & 0 & 1 & AMPGO03 & 0 & $\\dots$ \\\\\n",
       "\t3 & 1 & 0 & 0 & 0 & 1 & AMPGO04 & 0 & $\\dots$ \\\\\n",
       "\t4 & 1 & 0 & 0 & 0 & 1 & AMPGO05 & 0 & $\\dots$ \\\\\n",
       "\t5 & 1 & 0 & 0 & 0 & 1 & AMPGO06 & 0 & $\\dots$ \\\\\n",
       "\t6 & 1 & 0 & 0 & 0 & 1 & AMPGO07 & 0 & $\\dots$ \\\\\n",
       "\t7 & 1 & 0 & 0 & 0 & 1 & AMPGO08 & 0 & $\\dots$ \\\\\n",
       "\t8 & 1 & 0 & 0 & 0 & 1 & AMPGO09 & 0 & $\\dots$ \\\\\n",
       "\t9 & 1 & 0 & 0 & 0 & 1 & AMPGO10 & 0 & $\\dots$ \\\\\n",
       "\t10 & 1 & 0 & 0 & 0 & 1 & AMPGO11 & 0 & $\\dots$ \\\\\n",
       "\t11 & 1 & 0 & 0 & 0 & 1 & AMPGO12 & 0 & $\\dots$ \\\\\n",
       "\t12 & 1 & 0 & 0 & 0 & 1 & AMPGO13 & 0 & $\\dots$ \\\\\n",
       "\t13 & 1 & 0 & 0 & 0 & 1 & AMPGO14 & 0 & $\\dots$ \\\\\n",
       "\t14 & 1 & 0 & 0 & 0 & 1 & AMPGO15 & 0 & $\\dots$ \\\\\n",
       "\t15 & 1 & 0 & 0 & 0 & 1 & AMPGO18 & 0 & $\\dots$ \\\\\n",
       "\t16 & 1 & 0 & 0 & 0 & 1 & AMPGO20 & 0 & $\\dots$ \\\\\n",
       "\t17 & 1 & 0 & 0 & 0 & 1 & AMPGO21 & 0 & $\\dots$ \\\\\n",
       "\t18 & 1 & 0 & 0 & 0 & 1 & AMPGO22 & 0 & $\\dots$ \\\\\n",
       "\t19 & 3 & 0 & 1 & 0 & 1 & BOX2 & 1 & $\\dots$ \\\\\n",
       "\t20 & 3 & 0 & 0 & 0 & 1 & BOX3 & 0 & $\\dots$ \\\\\n",
       "\t21 & 1 & 0 & 0 & 0 & 1 & Dus2\\_1 & 0 & $\\dots$ \\\\\n",
       "\t22 & 1 & 0 & 0 & 0 & 1 & Dus2\\_3 & 0 & $\\dots$ \\\\\n",
       "\t23 & 1 & 0 & 0 & 0 & 1 & Dus2\\_9 & 0 & $\\dots$ \\\\\n",
       "\t24 & 1 & 0 & 0 & 0 & 1 & Duscube & 0 & $\\dots$ \\\\\n",
       "\t$\\dots$ & $\\dots$ & $\\dots$ & $\\dots$ & $\\dots$ & $\\dots$ & $\\dots$ & $\\dots$ &  \\\\\n",
       "\\end{tabular}\n"
      ],
      "text/plain": [
       "\u001b[1m374×17 DataFrame\u001b[0m\n",
       "\u001b[1m Row \u001b[0m│\u001b[1m nvar  \u001b[0m\u001b[1m variable_nvar \u001b[0m\u001b[1m ncon  \u001b[0m\u001b[1m variable_ncon \u001b[0m\u001b[1m minimize \u001b[0m\u001b[1m name            \u001b[0m\u001b[1m \u001b[0m ⋯\n",
       "     │\u001b[90m Int64 \u001b[0m\u001b[90m Bool          \u001b[0m\u001b[90m Int64 \u001b[0m\u001b[90m Bool          \u001b[0m\u001b[90m Bool     \u001b[0m\u001b[90m String          \u001b[0m\u001b[90m \u001b[0m ⋯\n",
       "─────┼──────────────────────────────────────────────────────────────────────────\n",
       "   1 │     1          false      0          false      true  AMPGO02           ⋯\n",
       "   2 │     1          false      0          false      true  AMPGO03\n",
       "   3 │     1          false      0          false      true  AMPGO04\n",
       "   4 │     1          false      0          false      true  AMPGO05\n",
       "   5 │     1          false      0          false      true  AMPGO06           ⋯\n",
       "   6 │     1          false      0          false      true  AMPGO07\n",
       "   7 │     1          false      0          false      true  AMPGO08\n",
       "   8 │     1          false      0          false      true  AMPGO09\n",
       "  ⋮  │   ⋮          ⋮          ⋮          ⋮           ⋮             ⋮          ⋱\n",
       " 368 │  4444          false   4025          false      true  triangle_turtle   ⋯\n",
       " 369 │   100           true      0          false      true  tridia\n",
       " 370 │   100           true      0          false      true  vardim\n",
       " 371 │     8          false      0          false      true  vibrbeam\n",
       " 372 │    31          false      0          false      true  watson            ⋯\n",
       " 373 │   100           true      0          false      true  woods\n",
       " 374 │     3          false      3          false      true  zangwil3\n",
       "\u001b[36m                                                 11 columns and 359 rows omitted\u001b[0m"
      ]
     },
     "metadata": {},
     "output_type": "display_data"
    }
   ],
   "source": [
    "OptimizationProblems.meta # is a DataFrame that allows us to check some information on the test problems without loading them"
   ]
  },
  {
   "cell_type": "markdown",
   "id": "944b669f-455f-48a0-a76b-bcedabd12769",
   "metadata": {},
   "source": [
    "We can also explore the `fieldnames` of a datatype to see what data it contains"
   ]
  },
  {
   "cell_type": "code",
   "execution_count": 12,
   "id": "d85ad25e-b2e9-4e24-a128-d50421b3ac3b",
   "metadata": {},
   "outputs": [
    {
     "data": {
      "text/plain": [
       "(:meta, :counters, :adbackend, :f, :clinrows, :clincols, :clinvals, :c!)"
      ]
     },
     "metadata": {},
     "output_type": "display_data"
    }
   ],
   "source": [
    "fieldnames(typeof(nlp))"
   ]
  },
  {
   "cell_type": "code",
   "execution_count": 13,
   "id": "96152178-56a1-47fe-a1e5-d900c1880f6b",
   "metadata": {},
   "outputs": [
    {
     "data": {
      "text/plain": [
       "(:nvar, :x0, :lvar, :uvar, :ifix, :ilow, :iupp, :irng, :ifree, :iinf, :nlvb, :nlvo, :nlvc, :ncon, :y0, :lcon, :ucon, :jfix, :jlow, :jupp, :jrng, :jfree, :jinf, :nnzo, :nnzj, :lin_nnzj, :nln_nnzj, :nnzh, :nlin, :nnln, :lin, :nln, :minimize, :islp, :name)"
      ]
     },
     "metadata": {},
     "output_type": "display_data"
    }
   ],
   "source": [
    "fieldnames(typeof(nlp.meta))"
   ]
  },
  {
   "cell_type": "markdown",
   "id": "5f010778-7e10-406d-ab41-4ec1f4b2b5fa",
   "metadata": {},
   "source": [
    "## Optimization problem solver"
   ]
  },
  {
   "cell_type": "code",
   "execution_count": 14,
   "id": "7f6c01d7-0aeb-4a71-83cd-d006855c84ef",
   "metadata": {},
   "outputs": [],
   "source": [
    "using JSOSuite # see https://github.com/JuliaSmoothOptimizers/JSOSuite.jl\n",
    "               # is a wrapper to centralize all the solvers in JuliaSmoothOptimizers"
   ]
  },
  {
   "cell_type": "code",
   "execution_count": 15,
   "id": "e2c55916-7e08-4b20-b3a8-5502e36c328d",
   "metadata": {},
   "outputs": [
    {
     "data": {
      "text/html": [
       "<div><div style = \"float: left;\"><span>13×15 DataFrame</span></div><div style = \"clear: both;\"></div></div><div class = \"data-frame\" style = \"overflow-x: scroll;\"><table class = \"data-frame\" style = \"margin-bottom: 6px;\"><thead><tr class = \"header\"><th class = \"rowNumber\" style = \"font-weight: bold; text-align: right;\">Row</th><th style = \"text-align: left;\">name</th><th style = \"text-align: left;\">name_solver</th><th style = \"text-align: left;\">name_parameters</th><th style = \"text-align: left;\">name_pkg</th><th style = \"text-align: left;\">solve_function</th><th style = \"text-align: left;\">is_available</th><th style = \"text-align: left;\">bounds</th><th style = \"text-align: left;\">equalities</th><th style = \"text-align: left;\">inequalities</th><th style = \"text-align: left;\">specialized_nls</th><th style = \"text-align: left;\">can_solve_nlp</th><th style = \"text-align: left;\">nonlinear_obj</th><th style = \"text-align: left;\">nonlinear_con</th><th style = \"text-align: left;\">double_precision_only</th><th style = \"text-align: left;\">highest_derivative</th></tr><tr class = \"subheader headerLastRow\"><th class = \"rowNumber\" style = \"font-weight: bold; text-align: right;\"></th><th title = \"String\" style = \"text-align: left;\">String</th><th title = \"Symbol\" style = \"text-align: left;\">Symbol</th><th title = \"Symbol\" style = \"text-align: left;\">Symbol</th><th title = \"String\" style = \"text-align: left;\">String</th><th title = \"Symbol\" style = \"text-align: left;\">Symbol</th><th title = \"Bool\" style = \"text-align: left;\">Bool</th><th title = \"Bool\" style = \"text-align: left;\">Bool</th><th title = \"Bool\" style = \"text-align: left;\">Bool</th><th title = \"Bool\" style = \"text-align: left;\">Bool</th><th title = \"Bool\" style = \"text-align: left;\">Bool</th><th title = \"Bool\" style = \"text-align: left;\">Bool</th><th title = \"Bool\" style = \"text-align: left;\">Bool</th><th title = \"Bool\" style = \"text-align: left;\">Bool</th><th title = \"Bool\" style = \"text-align: left;\">Bool</th><th title = \"Int64\" style = \"text-align: left;\">Int64</th></tr></thead><tbody><tr><td class = \"rowNumber\" style = \"font-weight: bold; text-align: right;\">1</td><td style = \"text-align: left;\">KNITRO</td><td style = \"text-align: left;\">KnitroSolver</td><td style = \"text-align: left;\">not_implemented</td><td style = \"text-align: left;\">NLPModelsKnitro.jl</td><td style = \"text-align: left;\">knitro</td><td style = \"text-align: right;\">false</td><td style = \"text-align: right;\">true</td><td style = \"text-align: right;\">true</td><td style = \"text-align: right;\">true</td><td style = \"text-align: right;\">true</td><td style = \"text-align: right;\">true</td><td style = \"text-align: right;\">true</td><td style = \"text-align: right;\">true</td><td style = \"text-align: right;\">true</td><td style = \"text-align: right;\">2</td></tr><tr><td class = \"rowNumber\" style = \"font-weight: bold; text-align: right;\">2</td><td style = \"text-align: left;\">LBFGS</td><td style = \"text-align: left;\">LBFGSSolver</td><td style = \"text-align: left;\">LBFGSParameterSet</td><td style = \"text-align: left;\">JSOSolvers.jl</td><td style = \"text-align: left;\">lbfgs</td><td style = \"text-align: right;\">true</td><td style = \"text-align: right;\">false</td><td style = \"text-align: right;\">false</td><td style = \"text-align: right;\">false</td><td style = \"text-align: right;\">false</td><td style = \"text-align: right;\">true</td><td style = \"text-align: right;\">true</td><td style = \"text-align: right;\">true</td><td style = \"text-align: right;\">false</td><td style = \"text-align: right;\">1</td></tr><tr><td class = \"rowNumber\" style = \"font-weight: bold; text-align: right;\">3</td><td style = \"text-align: left;\">R2</td><td style = \"text-align: left;\">R2Solver</td><td style = \"text-align: left;\">FOMOParameterSet</td><td style = \"text-align: left;\">JSOSolvers.jl</td><td style = \"text-align: left;\">R2</td><td style = \"text-align: right;\">true</td><td style = \"text-align: right;\">false</td><td style = \"text-align: right;\">false</td><td style = \"text-align: right;\">false</td><td style = \"text-align: right;\">false</td><td style = \"text-align: right;\">true</td><td style = \"text-align: right;\">true</td><td style = \"text-align: right;\">true</td><td style = \"text-align: right;\">false</td><td style = \"text-align: right;\">1</td></tr><tr><td class = \"rowNumber\" style = \"font-weight: bold; text-align: right;\">4</td><td style = \"text-align: left;\">TRON</td><td style = \"text-align: left;\">TronSolver</td><td style = \"text-align: left;\">TRONParameterSet</td><td style = \"text-align: left;\">JSOSolvers.jl</td><td style = \"text-align: left;\">tron</td><td style = \"text-align: right;\">true</td><td style = \"text-align: right;\">true</td><td style = \"text-align: right;\">false</td><td style = \"text-align: right;\">false</td><td style = \"text-align: right;\">false</td><td style = \"text-align: right;\">true</td><td style = \"text-align: right;\">true</td><td style = \"text-align: right;\">true</td><td style = \"text-align: right;\">false</td><td style = \"text-align: right;\">2</td></tr><tr><td class = \"rowNumber\" style = \"font-weight: bold; text-align: right;\">5</td><td style = \"text-align: left;\">TRUNK</td><td style = \"text-align: left;\">TrunkSolver</td><td style = \"text-align: left;\">TRUNKParameterSet</td><td style = \"text-align: left;\">JSOSolvers.jl</td><td style = \"text-align: left;\">trunk</td><td style = \"text-align: right;\">true</td><td style = \"text-align: right;\">false</td><td style = \"text-align: right;\">false</td><td style = \"text-align: right;\">false</td><td style = \"text-align: right;\">false</td><td style = \"text-align: right;\">true</td><td style = \"text-align: right;\">true</td><td style = \"text-align: right;\">true</td><td style = \"text-align: right;\">false</td><td style = \"text-align: right;\">2</td></tr><tr><td class = \"rowNumber\" style = \"font-weight: bold; text-align: right;\">6</td><td style = \"text-align: left;\">TRON-NLS</td><td style = \"text-align: left;\">TronSolverNLS</td><td style = \"text-align: left;\">TRONLSParameterSet</td><td style = \"text-align: left;\">JSOSolvers.jl</td><td style = \"text-align: left;\">tron</td><td style = \"text-align: right;\">true</td><td style = \"text-align: right;\">true</td><td style = \"text-align: right;\">false</td><td style = \"text-align: right;\">false</td><td style = \"text-align: right;\">true</td><td style = \"text-align: right;\">false</td><td style = \"text-align: right;\">true</td><td style = \"text-align: right;\">true</td><td style = \"text-align: right;\">false</td><td style = \"text-align: right;\">2</td></tr><tr><td class = \"rowNumber\" style = \"font-weight: bold; text-align: right;\">7</td><td style = \"text-align: left;\">TRUNK-NLS</td><td style = \"text-align: left;\">TrunkSolverNLS</td><td style = \"text-align: left;\">TRUNKLSParameterSet</td><td style = \"text-align: left;\">JSOSolvers.jl</td><td style = \"text-align: left;\">trunk</td><td style = \"text-align: right;\">true</td><td style = \"text-align: right;\">false</td><td style = \"text-align: right;\">false</td><td style = \"text-align: right;\">false</td><td style = \"text-align: right;\">true</td><td style = \"text-align: right;\">false</td><td style = \"text-align: right;\">true</td><td style = \"text-align: right;\">true</td><td style = \"text-align: right;\">false</td><td style = \"text-align: right;\">2</td></tr><tr><td class = \"rowNumber\" style = \"font-weight: bold; text-align: right;\">8</td><td style = \"text-align: left;\">CaNNOLeS</td><td style = \"text-align: left;\">CaNNOLeSSolver</td><td style = \"text-align: left;\">not_implemented</td><td style = \"text-align: left;\">CaNNOLeS.jl</td><td style = \"text-align: left;\">cannoles</td><td style = \"text-align: right;\">false</td><td style = \"text-align: right;\">false</td><td style = \"text-align: right;\">true</td><td style = \"text-align: right;\">false</td><td style = \"text-align: right;\">true</td><td style = \"text-align: right;\">false</td><td style = \"text-align: right;\">true</td><td style = \"text-align: right;\">true</td><td style = \"text-align: right;\">false</td><td style = \"text-align: right;\">2</td></tr><tr><td class = \"rowNumber\" style = \"font-weight: bold; text-align: right;\">9</td><td style = \"text-align: left;\">IPOPT</td><td style = \"text-align: left;\">IpoptSolver</td><td style = \"text-align: left;\">not_implemented</td><td style = \"text-align: left;\">NLPModelsIpopt.jl</td><td style = \"text-align: left;\">ipopt</td><td style = \"text-align: right;\">false</td><td style = \"text-align: right;\">true</td><td style = \"text-align: right;\">true</td><td style = \"text-align: right;\">true</td><td style = \"text-align: right;\">false</td><td style = \"text-align: right;\">true</td><td style = \"text-align: right;\">true</td><td style = \"text-align: right;\">true</td><td style = \"text-align: right;\">true</td><td style = \"text-align: right;\">2</td></tr><tr><td class = \"rowNumber\" style = \"font-weight: bold; text-align: right;\">10</td><td style = \"text-align: left;\">DCISolver</td><td style = \"text-align: left;\">DCIWorkspace</td><td style = \"text-align: left;\">not_implemented</td><td style = \"text-align: left;\">DCISolver.jl</td><td style = \"text-align: left;\">dci</td><td style = \"text-align: right;\">false</td><td style = \"text-align: right;\">false</td><td style = \"text-align: right;\">true</td><td style = \"text-align: right;\">false</td><td style = \"text-align: right;\">false</td><td style = \"text-align: right;\">true</td><td style = \"text-align: right;\">true</td><td style = \"text-align: right;\">true</td><td style = \"text-align: right;\">false</td><td style = \"text-align: right;\">2</td></tr><tr><td class = \"rowNumber\" style = \"font-weight: bold; text-align: right;\">11</td><td style = \"text-align: left;\">FletcherPenaltySolver</td><td style = \"text-align: left;\">FPSSSolver</td><td style = \"text-align: left;\">not_implemented</td><td style = \"text-align: left;\">FletcherPenaltySolver.jl</td><td style = \"text-align: left;\">fps_solve</td><td style = \"text-align: right;\">false</td><td style = \"text-align: right;\">false</td><td style = \"text-align: right;\">true</td><td style = \"text-align: right;\">false</td><td style = \"text-align: right;\">false</td><td style = \"text-align: right;\">true</td><td style = \"text-align: right;\">true</td><td style = \"text-align: right;\">true</td><td style = \"text-align: right;\">false</td><td style = \"text-align: right;\">2</td></tr><tr><td class = \"rowNumber\" style = \"font-weight: bold; text-align: right;\">12</td><td style = \"text-align: left;\">Percival</td><td style = \"text-align: left;\">PercivalSolver</td><td style = \"text-align: left;\">not_implemented</td><td style = \"text-align: left;\">Percival.jl</td><td style = \"text-align: left;\">percival</td><td style = \"text-align: right;\">true</td><td style = \"text-align: right;\">true</td><td style = \"text-align: right;\">true</td><td style = \"text-align: right;\">true</td><td style = \"text-align: right;\">false</td><td style = \"text-align: right;\">true</td><td style = \"text-align: right;\">true</td><td style = \"text-align: right;\">true</td><td style = \"text-align: right;\">false</td><td style = \"text-align: right;\">2</td></tr><tr><td class = \"rowNumber\" style = \"font-weight: bold; text-align: right;\">13</td><td style = \"text-align: left;\">RipQP</td><td style = \"text-align: left;\">RipQPSolver</td><td style = \"text-align: left;\">not_implemented</td><td style = \"text-align: left;\">RipQP.jl</td><td style = \"text-align: left;\">ripqp</td><td style = \"text-align: right;\">false</td><td style = \"text-align: right;\">true</td><td style = \"text-align: right;\">true</td><td style = \"text-align: right;\">true</td><td style = \"text-align: right;\">false</td><td style = \"text-align: right;\">false</td><td style = \"text-align: right;\">false</td><td style = \"text-align: right;\">false</td><td style = \"text-align: right;\">false</td><td style = \"text-align: right;\">2</td></tr></tbody></table></div>"
      ],
      "text/latex": [
       "\\begin{tabular}{r|ccccc}\n",
       "\t& name & name\\_solver & name\\_parameters & name\\_pkg & \\\\\n",
       "\t\\hline\n",
       "\t& String & Symbol & Symbol & String & \\\\\n",
       "\t\\hline\n",
       "\t1 & KNITRO & KnitroSolver & not\\_implemented & NLPModelsKnitro.jl & $\\dots$ \\\\\n",
       "\t2 & LBFGS & LBFGSSolver & LBFGSParameterSet & JSOSolvers.jl & $\\dots$ \\\\\n",
       "\t3 & R2 & R2Solver & FOMOParameterSet & JSOSolvers.jl & $\\dots$ \\\\\n",
       "\t4 & TRON & TronSolver & TRONParameterSet & JSOSolvers.jl & $\\dots$ \\\\\n",
       "\t5 & TRUNK & TrunkSolver & TRUNKParameterSet & JSOSolvers.jl & $\\dots$ \\\\\n",
       "\t6 & TRON-NLS & TronSolverNLS & TRONLSParameterSet & JSOSolvers.jl & $\\dots$ \\\\\n",
       "\t7 & TRUNK-NLS & TrunkSolverNLS & TRUNKLSParameterSet & JSOSolvers.jl & $\\dots$ \\\\\n",
       "\t8 & CaNNOLeS & CaNNOLeSSolver & not\\_implemented & CaNNOLeS.jl & $\\dots$ \\\\\n",
       "\t9 & IPOPT & IpoptSolver & not\\_implemented & NLPModelsIpopt.jl & $\\dots$ \\\\\n",
       "\t10 & DCISolver & DCIWorkspace & not\\_implemented & DCISolver.jl & $\\dots$ \\\\\n",
       "\t11 & FletcherPenaltySolver & FPSSSolver & not\\_implemented & FletcherPenaltySolver.jl & $\\dots$ \\\\\n",
       "\t12 & Percival & PercivalSolver & not\\_implemented & Percival.jl & $\\dots$ \\\\\n",
       "\t13 & RipQP & RipQPSolver & not\\_implemented & RipQP.jl & $\\dots$ \\\\\n",
       "\\end{tabular}\n"
      ],
      "text/plain": [
       "\u001b[1m13×15 DataFrame\u001b[0m\n",
       "\u001b[1m Row \u001b[0m│\u001b[1m name                  \u001b[0m\u001b[1m name_solver    \u001b[0m\u001b[1m name_parameters     \u001b[0m\u001b[1m name_pkg   \u001b[0m ⋯\n",
       "     │\u001b[90m String                \u001b[0m\u001b[90m Symbol         \u001b[0m\u001b[90m Symbol              \u001b[0m\u001b[90m String     \u001b[0m ⋯\n",
       "─────┼──────────────────────────────────────────────────────────────────────────\n",
       "   1 │ KNITRO                 KnitroSolver    not_implemented      NLPModelsKn ⋯\n",
       "   2 │ LBFGS                  LBFGSSolver     LBFGSParameterSet    JSOSolvers.\n",
       "   3 │ R2                     R2Solver        FOMOParameterSet     JSOSolvers.\n",
       "   4 │ TRON                   TronSolver      TRONParameterSet     JSOSolvers.\n",
       "   5 │ TRUNK                  TrunkSolver     TRUNKParameterSet    JSOSolvers. ⋯\n",
       "   6 │ TRON-NLS               TronSolverNLS   TRONLSParameterSet   JSOSolvers.\n",
       "   7 │ TRUNK-NLS              TrunkSolverNLS  TRUNKLSParameterSet  JSOSolvers.\n",
       "   8 │ CaNNOLeS               CaNNOLeSSolver  not_implemented      CaNNOLeS.jl\n",
       "   9 │ IPOPT                  IpoptSolver     not_implemented      NLPModelsIp ⋯\n",
       "  10 │ DCISolver              DCIWorkspace    not_implemented      DCISolver.j\n",
       "  11 │ FletcherPenaltySolver  FPSSSolver      not_implemented      FletcherPen\n",
       "  12 │ Percival               PercivalSolver  not_implemented      Percival.jl\n",
       "  13 │ RipQP                  RipQPSolver     not_implemented      RipQP.jl    ⋯\n",
       "\u001b[36m                                                              12 columns omitted\u001b[0m"
      ]
     },
     "metadata": {},
     "output_type": "display_data"
    }
   ],
   "source": [
    "JSOSuite.optimizers # is a DataFrame that present the different solvers and some of their characteristics"
   ]
  },
  {
   "cell_type": "code",
   "execution_count": 16,
   "id": "c89f7513-b76c-4e07-9d21-d15bf5c3ac73",
   "metadata": {},
   "outputs": [
    {
     "data": {
      "text/html": [
       "<div><div style = \"float: left;\"><span>1×15 DataFrame</span></div><div style = \"clear: both;\"></div></div><div class = \"data-frame\" style = \"overflow-x: scroll;\"><table class = \"data-frame\" style = \"margin-bottom: 6px;\"><thead><tr class = \"header\"><th class = \"rowNumber\" style = \"font-weight: bold; text-align: right;\">Row</th><th style = \"text-align: left;\">name</th><th style = \"text-align: left;\">name_solver</th><th style = \"text-align: left;\">name_parameters</th><th style = \"text-align: left;\">name_pkg</th><th style = \"text-align: left;\">solve_function</th><th style = \"text-align: left;\">is_available</th><th style = \"text-align: left;\">bounds</th><th style = \"text-align: left;\">equalities</th><th style = \"text-align: left;\">inequalities</th><th style = \"text-align: left;\">specialized_nls</th><th style = \"text-align: left;\">can_solve_nlp</th><th style = \"text-align: left;\">nonlinear_obj</th><th style = \"text-align: left;\">nonlinear_con</th><th style = \"text-align: left;\">double_precision_only</th><th style = \"text-align: left;\">highest_derivative</th></tr><tr class = \"subheader headerLastRow\"><th class = \"rowNumber\" style = \"font-weight: bold; text-align: right;\"></th><th title = \"String\" style = \"text-align: left;\">String</th><th title = \"Symbol\" style = \"text-align: left;\">Symbol</th><th title = \"Symbol\" style = \"text-align: left;\">Symbol</th><th title = \"String\" style = \"text-align: left;\">String</th><th title = \"Symbol\" style = \"text-align: left;\">Symbol</th><th title = \"Bool\" style = \"text-align: left;\">Bool</th><th title = \"Bool\" style = \"text-align: left;\">Bool</th><th title = \"Bool\" style = \"text-align: left;\">Bool</th><th title = \"Bool\" style = \"text-align: left;\">Bool</th><th title = \"Bool\" style = \"text-align: left;\">Bool</th><th title = \"Bool\" style = \"text-align: left;\">Bool</th><th title = \"Bool\" style = \"text-align: left;\">Bool</th><th title = \"Bool\" style = \"text-align: left;\">Bool</th><th title = \"Bool\" style = \"text-align: left;\">Bool</th><th title = \"Int64\" style = \"text-align: left;\">Int64</th></tr></thead><tbody><tr><td class = \"rowNumber\" style = \"font-weight: bold; text-align: right;\">1</td><td style = \"text-align: left;\">LBFGS</td><td style = \"text-align: left;\">LBFGSSolver</td><td style = \"text-align: left;\">LBFGSParameterSet</td><td style = \"text-align: left;\">JSOSolvers.jl</td><td style = \"text-align: left;\">lbfgs</td><td style = \"text-align: right;\">true</td><td style = \"text-align: right;\">false</td><td style = \"text-align: right;\">false</td><td style = \"text-align: right;\">false</td><td style = \"text-align: right;\">false</td><td style = \"text-align: right;\">true</td><td style = \"text-align: right;\">true</td><td style = \"text-align: right;\">true</td><td style = \"text-align: right;\">false</td><td style = \"text-align: right;\">1</td></tr></tbody></table></div>"
      ],
      "text/latex": [
       "\\begin{tabular}{r|ccccccc}\n",
       "\t& name & name\\_solver & name\\_parameters & name\\_pkg & solve\\_function & is\\_available & \\\\\n",
       "\t\\hline\n",
       "\t& String & Symbol & Symbol & String & Symbol & Bool & \\\\\n",
       "\t\\hline\n",
       "\t1 & LBFGS & LBFGSSolver & LBFGSParameterSet & JSOSolvers.jl & lbfgs & 1 & $\\dots$ \\\\\n",
       "\\end{tabular}\n"
      ],
      "text/plain": [
       "\u001b[1m1×15 DataFrame\u001b[0m\n",
       "\u001b[1m Row \u001b[0m│\u001b[1m name   \u001b[0m\u001b[1m name_solver \u001b[0m\u001b[1m name_parameters   \u001b[0m\u001b[1m name_pkg      \u001b[0m\u001b[1m solve_function \u001b[0m\u001b[1m \u001b[0m ⋯\n",
       "     │\u001b[90m String \u001b[0m\u001b[90m Symbol      \u001b[0m\u001b[90m Symbol            \u001b[0m\u001b[90m String        \u001b[0m\u001b[90m Symbol         \u001b[0m\u001b[90m \u001b[0m ⋯\n",
       "─────┼──────────────────────────────────────────────────────────────────────────\n",
       "   1 │ LBFGS   LBFGSSolver  LBFGSParameterSet  JSOSolvers.jl  lbfgs            ⋯\n",
       "\u001b[36m                                                              10 columns omitted\u001b[0m"
      ]
     },
     "metadata": {},
     "output_type": "display_data"
    }
   ],
   "source": [
    "JSOSuite.optimizers[JSOSuite.optimizers.name .== \"LBFGS\", :] # In this project, we will focus on L-BFGS algorithm."
   ]
  },
  {
   "cell_type": "code",
   "execution_count": 17,
   "id": "937319d6-f2a7-43d2-8c9c-f8982ffd07a5",
   "metadata": {},
   "outputs": [],
   "source": [
    "using SolverParameters # Define the main structure to handle the algorithm's parameters\n",
    "using JSOSolvers"
   ]
  },
  {
   "cell_type": "code",
   "execution_count": 18,
   "id": "5376fa03-8166-4896-88fa-d43b006cca87",
   "metadata": {},
   "outputs": [
    {
     "data": {
      "text/plain": [
       "LBFGSParameterSet{Float64}(Parameter{Int64, IntegerRange{Int64}}(5, IntegerRange{Int64}(1, 100), \"\"), Parameter{Float64, RealInterval{Float64}}(0.9999, RealInterval{Float64}(0.0, 1.0, true, false), \"\"), Parameter{Int64, IntegerRange{Int64}}(25, IntegerRange{Int64}(1, 100), \"\"))"
      ]
     },
     "metadata": {},
     "output_type": "display_data"
    }
   ],
   "source": [
    "param_set = JSOSolvers.LBFGSParameterSet(nlp)"
   ]
  },
  {
   "cell_type": "markdown",
   "id": "794aea3c-e8b7-48f8-9094-f5440721220a",
   "metadata": {},
   "source": [
    "By checking the fields inside this structure we see that there are three parameters `mem`, `τ₁` and `bk_max`."
   ]
  },
  {
   "cell_type": "code",
   "execution_count": 19,
   "id": "1ab3afe0-32da-4e00-a8dd-67011d79d45e",
   "metadata": {},
   "outputs": [
    {
     "data": {
      "text/plain": [
       "(:mem, :τ₁, :bk_max)"
      ]
     },
     "metadata": {},
     "output_type": "display_data"
    }
   ],
   "source": [
    "fieldnames(typeof(param_set))"
   ]
  },
  {
   "cell_type": "code",
   "execution_count": 20,
   "id": "1d39e316-3c42-4419-8651-8095ce40c4b8",
   "metadata": {},
   "outputs": [
    {
     "data": {
      "text/plain": [
       "Parameter{Int64, IntegerRange{Int64}}"
      ]
     },
     "metadata": {},
     "output_type": "display_data"
    }
   ],
   "source": [
    "typeof(param_set.mem)"
   ]
  },
  {
   "cell_type": "markdown",
   "id": "5de88d94-9258-40da-a270-cb53a6cbb54e",
   "metadata": {},
   "source": [
    "By checking the domain of this parameter, we can see that it must be an integer between 5 and 20."
   ]
  },
  {
   "cell_type": "code",
   "execution_count": 57,
   "id": "b863cbf9-d3fe-4bd0-b171-54baac0de375",
   "metadata": {},
   "outputs": [
    {
     "data": {
      "text/plain": [
       "(:lower, :upper)"
      ]
     },
     "metadata": {},
     "output_type": "display_data"
    }
   ],
   "source": [
    "d = domain(param_set.mem)\n",
    "typeof(d)\n",
    "supertypes(typeof(d))\n",
    "fieldnames(typeof(d))"
   ]
  },
  {
   "cell_type": "code",
   "execution_count": 54,
   "id": "46319346",
   "metadata": {},
   "outputs": [
    {
     "data": {
      "text/html": [
       "0-element Vector{Method}"
      ],
      "text/plain": [
       "0-element Vector{Method}"
      ]
     },
     "metadata": {},
     "output_type": "display_data"
    }
   ],
   "source": [
    "methodswith(IntegerRange{Int64})"
   ]
  },
  {
   "cell_type": "code",
   "execution_count": 22,
   "id": "046d5c69-5ce1-4624-bc98-ddcde3fde8c1",
   "metadata": {},
   "outputs": [
    {
     "name": "stderr",
     "output_type": "stream",
     "text": [
      "┌ Info:   iter      f(x)      ‖∇f‖      ∇fᵀd      bk  \n",
      "└ @ JSOSolvers /Users/felixgao/.julia/packages/JSOSolvers/DChYN/src/lbfgs.jl:201\n",
      "┌ Info:      0   2.5e+02   2.0e+01         -       -\n",
      "└ @ JSOSolvers /Users/felixgao/.julia/packages/JSOSolvers/DChYN/src/lbfgs.jl:206\n",
      "┌ Info:      1   5.0e+01   7.8e-15  -4.0e+02       0\n",
      "└ @ JSOSolvers /Users/felixgao/.julia/packages/JSOSolvers/DChYN/src/lbfgs.jl:263\n",
      "┌ Info:      1   5.0e+01   7.8e-15\n",
      "└ @ JSOSolvers /Users/felixgao/.julia/packages/JSOSolvers/DChYN/src/lbfgs.jl:289\n"
     ]
    },
    {
     "data": {
      "text/plain": [
       "\"Execution stats: first-order stationary\""
      ]
     },
     "metadata": {},
     "output_type": "display_data"
    }
   ],
   "source": [
    "stats = JSOSolvers.lbfgs(nlp; verbose = 1)"
   ]
  },
  {
   "cell_type": "code",
   "execution_count": 23,
   "id": "eef20c27-92e3-470b-9e16-0e7e9a0dbb3e",
   "metadata": {},
   "outputs": [
    {
     "data": {
      "text/plain": [
       "(:status_reliable, :status, :solution_reliable, :solution, :objective_reliable, :objective, :dual_residual_reliable, :dual_feas, :primal_residual_reliable, :primal_feas, :multipliers_reliable, :multipliers, :bounds_multipliers_reliable, :multipliers_L, :multipliers_U, :iter_reliable, :iter, :time_reliable, :elapsed_time, :solver_specific_reliable, :solver_specific)"
      ]
     },
     "metadata": {},
     "output_type": "display_data"
    }
   ],
   "source": [
    "using SolverCore # Define the type GenericExecutionStats that is returned by all solvers\n",
    "fieldnames(typeof(stats))"
   ]
  },
  {
   "cell_type": "code",
   "execution_count": 24,
   "id": "b7f027a7-7a9c-4225-9535-7801d607524b",
   "metadata": {},
   "outputs": [
    {
     "data": {
      "text/latex": [
       "\\begin{verbatim}\n",
       "GenericExecutionStats(nlp; ...)\n",
       "GenericExecutionStats{T, S, V, Tsp}(;...)\n",
       "\\end{verbatim}\n",
       "A GenericExecutionStats is a struct for storing the output information of solvers. It contains the following fields:\n",
       "\n",
       "\\begin{itemize}\n",
       "\\item \\texttt{status}: Indicates the output of the solver. Use \\texttt{show\\_statuses()} for the full list;\n",
       "\n",
       "\n",
       "\\item \\texttt{solution}: The final approximation returned by the solver (default: an uninitialized vector like \\texttt{nlp.meta.x0});\n",
       "\n",
       "\n",
       "\\item \\texttt{objective}: The objective value at \\texttt{solution} (default: \\texttt{Inf});\n",
       "\n",
       "\n",
       "\\item \\texttt{dual\\_feas}: The dual feasibility norm at \\texttt{solution} (default: \\texttt{Inf});\n",
       "\n",
       "\n",
       "\\item \\texttt{primal\\_feas}: The primal feasibility norm at \\texttt{solution} (default: \\texttt{0.0} if unconstrained, \\texttt{Inf} otherwise);\n",
       "\n",
       "\n",
       "\\item \\texttt{multipliers}: The Lagrange multipliers wrt to the constraints (default: an uninitialized vector like \\texttt{nlp.meta.y0});\n",
       "\n",
       "\n",
       "\\item \\texttt{multipliers\\_L}: The Lagrange multipliers wrt to the lower bounds on the variables (default: an uninitialized vector like \\texttt{nlp.meta.x0} if there are bounds, or a zero-length vector if not);\n",
       "\n",
       "\n",
       "\\item \\texttt{multipliers\\_U}: The Lagrange multipliers wrt to the upper bounds on the variables (default: an uninitialized vector like \\texttt{nlp.meta.x0} if there are bounds, or a zero-length vector if not);\n",
       "\n",
       "\n",
       "\\item \\texttt{iter}: The number of iterations computed by the solver (default: \\texttt{-1});\n",
       "\n",
       "\n",
       "\\item \\texttt{elapsed\\_time}: The elapsed time computed by the solver (default: \\texttt{Inf});\n",
       "\n",
       "\n",
       "\\item \\texttt{solver\\_specific::Dict\\{Symbol,Any\\}}: A solver specific dictionary.\n",
       "\n",
       "\\end{itemize}\n",
       "The constructor preallocates storage for the fields above. Special storage may be used for \\texttt{multipliers\\_L} and \\texttt{multipliers\\_U} by passing them to the constructor. For instance, if a problem has few bound constraints, those multipliers could be held in sparse vectors.\n",
       "\n",
       "The following fields indicate whether the information above has been updated and is reliable:\n",
       "\n",
       "\\begin{itemize}\n",
       "\\item \\texttt{solution\\_reliable}\n",
       "\n",
       "\n",
       "\\item \\texttt{objective\\_reliable}\n",
       "\n",
       "\n",
       "\\item \\texttt{residuals\\_reliable} (for \\texttt{dual\\_feas} and \\texttt{primal\\_feas})\n",
       "\n",
       "\n",
       "\\item \\texttt{multipliers\\_reliable} (for \\texttt{multipliers})\n",
       "\n",
       "\n",
       "\\item \\texttt{bounds\\_multipliers\\_reliable} (for \\texttt{multipliers\\_L} and \\texttt{multipliers\\_U})\n",
       "\n",
       "\n",
       "\\item \\texttt{iter\\_reliable}\n",
       "\n",
       "\n",
       "\\item \\texttt{time\\_reliable}\n",
       "\n",
       "\n",
       "\\item \\texttt{solver\\_specific\\_reliable}.\n",
       "\n",
       "\\end{itemize}\n",
       "Setting fields using one of the methods \\texttt{set\\_solution!()}, \\texttt{set\\_objective!()}, etc., also marks the field value as reliable.\n",
       "\n",
       "The \\texttt{reset!()} method marks all fields as unreliable.\n",
       "\n",
       "\\texttt{nlp} is highly recommended to set default optional fields. If it is not provided, the function \\texttt{reset!(stats, nlp)} should be called before \\texttt{solve!}.\n",
       "\n",
       "All other variables can be input as keyword arguments.\n",
       "\n",
       "Notice that \\texttt{GenericExecutionStats} does not compute anything, it simply stores.\n",
       "\n"
      ],
      "text/markdown": [
       "```\n",
       "GenericExecutionStats(nlp; ...)\n",
       "GenericExecutionStats{T, S, V, Tsp}(;...)\n",
       "```\n",
       "\n",
       "A GenericExecutionStats is a struct for storing the output information of solvers. It contains the following fields:\n",
       "\n",
       "  * `status`: Indicates the output of the solver. Use `show_statuses()` for the full list;\n",
       "  * `solution`: The final approximation returned by the solver (default: an uninitialized vector like `nlp.meta.x0`);\n",
       "  * `objective`: The objective value at `solution` (default: `Inf`);\n",
       "  * `dual_feas`: The dual feasibility norm at `solution` (default: `Inf`);\n",
       "  * `primal_feas`: The primal feasibility norm at `solution` (default: `0.0` if unconstrained, `Inf` otherwise);\n",
       "  * `multipliers`: The Lagrange multipliers wrt to the constraints (default: an uninitialized vector like `nlp.meta.y0`);\n",
       "  * `multipliers_L`: The Lagrange multipliers wrt to the lower bounds on the variables (default: an uninitialized vector like `nlp.meta.x0` if there are bounds, or a zero-length vector if not);\n",
       "  * `multipliers_U`: The Lagrange multipliers wrt to the upper bounds on the variables (default: an uninitialized vector like `nlp.meta.x0` if there are bounds, or a zero-length vector if not);\n",
       "  * `iter`: The number of iterations computed by the solver (default: `-1`);\n",
       "  * `elapsed_time`: The elapsed time computed by the solver (default: `Inf`);\n",
       "  * `solver_specific::Dict{Symbol,Any}`: A solver specific dictionary.\n",
       "\n",
       "The constructor preallocates storage for the fields above. Special storage may be used for `multipliers_L` and `multipliers_U` by passing them to the constructor. For instance, if a problem has few bound constraints, those multipliers could be held in sparse vectors.\n",
       "\n",
       "The following fields indicate whether the information above has been updated and is reliable:\n",
       "\n",
       "  * `solution_reliable`\n",
       "  * `objective_reliable`\n",
       "  * `residuals_reliable` (for `dual_feas` and `primal_feas`)\n",
       "  * `multipliers_reliable` (for `multipliers`)\n",
       "  * `bounds_multipliers_reliable` (for `multipliers_L` and `multipliers_U`)\n",
       "  * `iter_reliable`\n",
       "  * `time_reliable`\n",
       "  * `solver_specific_reliable`.\n",
       "\n",
       "Setting fields using one of the methods `set_solution!()`, `set_objective!()`, etc., also marks the field value as reliable.\n",
       "\n",
       "The `reset!()` method marks all fields as unreliable.\n",
       "\n",
       "`nlp` is highly recommended to set default optional fields. If it is not provided, the function `reset!(stats, nlp)` should be called before `solve!`.\n",
       "\n",
       "All other variables can be input as keyword arguments.\n",
       "\n",
       "Notice that `GenericExecutionStats` does not compute anything, it simply stores.\n"
      ],
      "text/plain": [
       "\u001b[36m  GenericExecutionStats(nlp; ...)\u001b[39m\n",
       "\u001b[36m  GenericExecutionStats{T, S, V, Tsp}(;...)\u001b[39m\n",
       "\n",
       "  A GenericExecutionStats is a struct for storing the output information of\n",
       "  solvers. It contains the following fields:\n",
       "\n",
       "    •  \u001b[36mstatus\u001b[39m: Indicates the output of the solver. Use \u001b[36mshow_statuses()\u001b[39m\n",
       "       for the full list;\n",
       "\n",
       "    •  \u001b[36msolution\u001b[39m: The final approximation returned by the solver (default:\n",
       "       an uninitialized vector like \u001b[36mnlp.meta.x0\u001b[39m);\n",
       "\n",
       "    •  \u001b[36mobjective\u001b[39m: The objective value at \u001b[36msolution\u001b[39m (default: \u001b[36mInf\u001b[39m);\n",
       "\n",
       "    •  \u001b[36mdual_feas\u001b[39m: The dual feasibility norm at \u001b[36msolution\u001b[39m (default: \u001b[36mInf\u001b[39m);\n",
       "\n",
       "    •  \u001b[36mprimal_feas\u001b[39m: The primal feasibility norm at \u001b[36msolution\u001b[39m (default: \u001b[36m0.0\u001b[39m\n",
       "       if unconstrained, \u001b[36mInf\u001b[39m otherwise);\n",
       "\n",
       "    •  \u001b[36mmultipliers\u001b[39m: The Lagrange multipliers wrt to the constraints\n",
       "       (default: an uninitialized vector like \u001b[36mnlp.meta.y0\u001b[39m);\n",
       "\n",
       "    •  \u001b[36mmultipliers_L\u001b[39m: The Lagrange multipliers wrt to the lower bounds on\n",
       "       the variables (default: an uninitialized vector like \u001b[36mnlp.meta.x0\u001b[39m\n",
       "       if there are bounds, or a zero-length vector if not);\n",
       "\n",
       "    •  \u001b[36mmultipliers_U\u001b[39m: The Lagrange multipliers wrt to the upper bounds on\n",
       "       the variables (default: an uninitialized vector like \u001b[36mnlp.meta.x0\u001b[39m\n",
       "       if there are bounds, or a zero-length vector if not);\n",
       "\n",
       "    •  \u001b[36miter\u001b[39m: The number of iterations computed by the solver (default:\n",
       "       \u001b[36m-1\u001b[39m);\n",
       "\n",
       "    •  \u001b[36melapsed_time\u001b[39m: The elapsed time computed by the solver (default:\n",
       "       \u001b[36mInf\u001b[39m);\n",
       "\n",
       "    •  \u001b[36msolver_specific::Dict{Symbol,Any}\u001b[39m: A solver specific dictionary.\n",
       "\n",
       "  The constructor preallocates storage for the fields above. Special storage\n",
       "  may be used for \u001b[36mmultipliers_L\u001b[39m and \u001b[36mmultipliers_U\u001b[39m by passing them to the\n",
       "  constructor. For instance, if a problem has few bound constraints, those\n",
       "  multipliers could be held in sparse vectors.\n",
       "\n",
       "  The following fields indicate whether the information above has been updated\n",
       "  and is reliable:\n",
       "\n",
       "    •  \u001b[36msolution_reliable\u001b[39m\n",
       "\n",
       "    •  \u001b[36mobjective_reliable\u001b[39m\n",
       "\n",
       "    •  \u001b[36mresiduals_reliable\u001b[39m (for \u001b[36mdual_feas\u001b[39m and \u001b[36mprimal_feas\u001b[39m)\n",
       "\n",
       "    •  \u001b[36mmultipliers_reliable\u001b[39m (for \u001b[36mmultipliers\u001b[39m)\n",
       "\n",
       "    •  \u001b[36mbounds_multipliers_reliable\u001b[39m (for \u001b[36mmultipliers_L\u001b[39m and \u001b[36mmultipliers_U\u001b[39m)\n",
       "\n",
       "    •  \u001b[36miter_reliable\u001b[39m\n",
       "\n",
       "    •  \u001b[36mtime_reliable\u001b[39m\n",
       "\n",
       "    •  \u001b[36msolver_specific_reliable\u001b[39m.\n",
       "\n",
       "  Setting fields using one of the methods \u001b[36mset_solution!()\u001b[39m, \u001b[36mset_objective!()\u001b[39m,\n",
       "  etc., also marks the field value as reliable.\n",
       "\n",
       "  The \u001b[36mreset!()\u001b[39m method marks all fields as unreliable.\n",
       "\n",
       "  \u001b[36mnlp\u001b[39m is highly recommended to set default optional fields. If it is not\n",
       "  provided, the function \u001b[36mreset!(stats, nlp)\u001b[39m should be called before \u001b[36msolve!\u001b[39m.\n",
       "\n",
       "  All other variables can be input as keyword arguments.\n",
       "\n",
       "  Notice that \u001b[36mGenericExecutionStats\u001b[39m does not compute anything, it simply\n",
       "  stores."
      ]
     },
     "metadata": {},
     "output_type": "display_data"
    }
   ],
   "source": [
    "@doc GenericExecutionStats"
   ]
  },
  {
   "cell_type": "code",
   "execution_count": 25,
   "id": "8d267f52-478a-483b-a309-4d4d3df9d13b",
   "metadata": {},
   "outputs": [
    {
     "data": {
      "text/latex": [
       "\\begin{verbatim}\n",
       "lbfgs(nlp; kwargs...)\n",
       "\\end{verbatim}\n",
       "An implementation of a limited memory BFGS line-search method for unconstrained minimization.\n",
       "\n",
       "For advanced usage, first define a \\texttt{LBFGSSolver} to preallocate the memory used in the algorithm, and then call \\texttt{solve!}.\n",
       "\n",
       "\\begin{verbatim}\n",
       "solver = LBFGSSolver(nlp; mem::Int = 5)\n",
       "solve!(solver, nlp; kwargs...)\n",
       "\\end{verbatim}\n",
       "\\section{Arguments}\n",
       "\\begin{itemize}\n",
       "\\item \\texttt{nlp::AbstractNLPModel\\{T, V\\}} represents the model to solve, see \\texttt{NLPModels.jl}.\n",
       "\n",
       "\\end{itemize}\n",
       "The keyword arguments may include\n",
       "\n",
       "\\begin{itemize}\n",
       "\\item \\texttt{x::V = nlp.meta.x0}: the initial guess.\n",
       "\n",
       "\n",
       "\\item \\texttt{mem::Int = 5}: algorithm parameter, see \\href{@ref}{\\texttt{LBFGSParameterSet}}.\n",
       "\n",
       "\n",
       "\\item \\texttt{atol::T = √eps(T)}: absolute tolerance.\n",
       "\n",
       "\n",
       "\\item \\texttt{rtol::T = √eps(T)}: relative tolerance, the algorithm stops when ‖∇f(xᵏ)‖ ≤ atol + rtol * ‖∇f(x⁰)‖.\n",
       "\n",
       "\n",
       "\\item \\texttt{max\\_eval::Int = -1}: maximum number of objective function evaluations.\n",
       "\n",
       "\n",
       "\\item \\texttt{max\\_time::Float64 = 30.0}: maximum time limit in seconds.\n",
       "\n",
       "\n",
       "\\item \\texttt{max\\_iter::Int = typemax(Int)}: maximum number of iterations.\n",
       "\n",
       "\n",
       "\\item \\texttt{τ₁::T = T(0.9999)}: algorithm parameter, see \\href{@ref}{\\texttt{LBFGSParameterSet}}.\n",
       "\n",
       "\n",
       "\\item \\texttt{bk\\_max:: Int = 25}: algorithm parameter, see \\href{@ref}{\\texttt{LBFGSParameterSet}}.\n",
       "\n",
       "\n",
       "\\item \\texttt{verbose::Int = 0}: if > 0, display iteration details every \\texttt{verbose} iteration.\n",
       "\n",
       "\n",
       "\\item \\texttt{verbose\\_subsolver::Int = 0}: if > 0, display iteration information every \\texttt{verbose\\_subsolver} iteration of the subsolver.\n",
       "\n",
       "\\end{itemize}\n",
       "\\section{Output}\n",
       "The returned value is a \\texttt{GenericExecutionStats}, see \\texttt{SolverCore.jl}.\n",
       "\n",
       "\\section{Callback}\n",
       "The callback is called at each iteration. The expected signature of the callback is \\texttt{callback(nlp, solver, stats)}, and its output is ignored. Changing any of the input arguments will affect the subsequent iterations. In particular, setting \\texttt{stats.status = :user} will stop the algorithm. All relevant information should be available in \\texttt{nlp} and \\texttt{solver}. Notably, you can access, and modify, the following:\n",
       "\n",
       "\\begin{itemize}\n",
       "\\item \\texttt{solver.x}: current iterate;\n",
       "\n",
       "\n",
       "\\item \\texttt{solver.gx}: current gradient;\n",
       "\n",
       "\n",
       "\\item \\texttt{stats}: structure holding the output of the algorithm (\\texttt{GenericExecutionStats}), which contains, among other things:\n",
       "\n",
       "\\begin{itemize}\n",
       "\\item \\texttt{stats.dual\\_feas}: norm of the residual, for instance, the norm of the gradient for unconstrained problems;\n",
       "\n",
       "\n",
       "\\item \\texttt{stats.iter}: current iteration counter;\n",
       "\n",
       "\n",
       "\\item \\texttt{stats.objective}: current objective function value;\n",
       "\n",
       "\n",
       "\\item \\texttt{stats.status}: current status of the algorithm. Should be \\texttt{:unknown} unless the algorithm attained a stopping criterion. Changing this to anything will stop the algorithm, but you should use \\texttt{:user} to properly indicate the intention.\n",
       "\n",
       "\n",
       "\\item \\texttt{stats.elapsed\\_time}: elapsed time in seconds.\n",
       "\n",
       "\\end{itemize}\n",
       "\\end{itemize}\n",
       "\\section{Examples}\n",
       "\\begin{verbatim}\n",
       "using JSOSolvers, ADNLPModels\n",
       "nlp = ADNLPModel(x -> sum(x.^2), ones(3));\n",
       "stats = lbfgs(nlp)\n",
       "\n",
       "# output\n",
       "\n",
       "\"Execution stats: first-order stationary\"\n",
       "\\end{verbatim}\n",
       "\\begin{verbatim}\n",
       "using JSOSolvers, ADNLPModels\n",
       "nlp = ADNLPModel(x -> sum(x.^2), ones(3));\n",
       "solver = LBFGSSolver(nlp; mem = 5);\n",
       "stats = solve!(solver, nlp)\n",
       "\n",
       "# output\n",
       "\n",
       "\"Execution stats: first-order stationary\"\n",
       "\\end{verbatim}\n"
      ],
      "text/markdown": [
       "```\n",
       "lbfgs(nlp; kwargs...)\n",
       "```\n",
       "\n",
       "An implementation of a limited memory BFGS line-search method for unconstrained minimization.\n",
       "\n",
       "For advanced usage, first define a `LBFGSSolver` to preallocate the memory used in the algorithm, and then call `solve!`.\n",
       "\n",
       "```\n",
       "solver = LBFGSSolver(nlp; mem::Int = 5)\n",
       "solve!(solver, nlp; kwargs...)\n",
       "```\n",
       "\n",
       "# Arguments\n",
       "\n",
       "  * `nlp::AbstractNLPModel{T, V}` represents the model to solve, see `NLPModels.jl`.\n",
       "\n",
       "The keyword arguments may include\n",
       "\n",
       "  * `x::V = nlp.meta.x0`: the initial guess.\n",
       "  * `mem::Int = 5`: algorithm parameter, see [`LBFGSParameterSet`](@ref).\n",
       "  * `atol::T = √eps(T)`: absolute tolerance.\n",
       "  * `rtol::T = √eps(T)`: relative tolerance, the algorithm stops when ‖∇f(xᵏ)‖ ≤ atol + rtol * ‖∇f(x⁰)‖.\n",
       "  * `max_eval::Int = -1`: maximum number of objective function evaluations.\n",
       "  * `max_time::Float64 = 30.0`: maximum time limit in seconds.\n",
       "  * `max_iter::Int = typemax(Int)`: maximum number of iterations.\n",
       "  * `τ₁::T = T(0.9999)`: algorithm parameter, see [`LBFGSParameterSet`](@ref).\n",
       "  * `bk_max:: Int = 25`: algorithm parameter, see [`LBFGSParameterSet`](@ref).\n",
       "  * `verbose::Int = 0`: if > 0, display iteration details every `verbose` iteration.\n",
       "  * `verbose_subsolver::Int = 0`: if > 0, display iteration information every `verbose_subsolver` iteration of the subsolver.\n",
       "\n",
       "# Output\n",
       "\n",
       "The returned value is a `GenericExecutionStats`, see `SolverCore.jl`.\n",
       "\n",
       "# Callback\n",
       "\n",
       "The callback is called at each iteration. The expected signature of the callback is `callback(nlp, solver, stats)`, and its output is ignored. Changing any of the input arguments will affect the subsequent iterations. In particular, setting `stats.status = :user` will stop the algorithm. All relevant information should be available in `nlp` and `solver`. Notably, you can access, and modify, the following:\n",
       "\n",
       "  * `solver.x`: current iterate;\n",
       "  * `solver.gx`: current gradient;\n",
       "  * `stats`: structure holding the output of the algorithm (`GenericExecutionStats`), which contains, among other things:\n",
       "\n",
       "      * `stats.dual_feas`: norm of the residual, for instance, the norm of the gradient for unconstrained problems;\n",
       "      * `stats.iter`: current iteration counter;\n",
       "      * `stats.objective`: current objective function value;\n",
       "      * `stats.status`: current status of the algorithm. Should be `:unknown` unless the algorithm attained a stopping criterion. Changing this to anything will stop the algorithm, but you should use `:user` to properly indicate the intention.\n",
       "      * `stats.elapsed_time`: elapsed time in seconds.\n",
       "\n",
       "# Examples\n",
       "\n",
       "```jldoctest\n",
       "using JSOSolvers, ADNLPModels\n",
       "nlp = ADNLPModel(x -> sum(x.^2), ones(3));\n",
       "stats = lbfgs(nlp)\n",
       "\n",
       "# output\n",
       "\n",
       "\"Execution stats: first-order stationary\"\n",
       "```\n",
       "\n",
       "```jldoctest\n",
       "using JSOSolvers, ADNLPModels\n",
       "nlp = ADNLPModel(x -> sum(x.^2), ones(3));\n",
       "solver = LBFGSSolver(nlp; mem = 5);\n",
       "stats = solve!(solver, nlp)\n",
       "\n",
       "# output\n",
       "\n",
       "\"Execution stats: first-order stationary\"\n",
       "```\n"
      ],
      "text/plain": [
       "\u001b[36m  lbfgs(nlp; kwargs...)\u001b[39m\n",
       "\n",
       "  An implementation of a limited memory BFGS line-search method for\n",
       "  unconstrained minimization.\n",
       "\n",
       "  For advanced usage, first define a \u001b[36mLBFGSSolver\u001b[39m to preallocate the memory\n",
       "  used in the algorithm, and then call \u001b[36msolve!\u001b[39m.\n",
       "\n",
       "\u001b[36m  solver = LBFGSSolver(nlp; mem::Int = 5)\u001b[39m\n",
       "\u001b[36m  solve!(solver, nlp; kwargs...)\u001b[39m\n",
       "\n",
       "\u001b[1m  Arguments\u001b[22m\n",
       "\u001b[1m  ≡≡≡≡≡≡≡≡≡\u001b[22m\n",
       "\n",
       "    •  \u001b[36mnlp::AbstractNLPModel{T, V}\u001b[39m represents the model to solve, see\n",
       "       \u001b[36mNLPModels.jl\u001b[39m.\n",
       "\n",
       "  The keyword arguments may include\n",
       "\n",
       "    •  \u001b[36mx::V = nlp.meta.x0\u001b[39m: the initial guess.\n",
       "\n",
       "    •  \u001b[36mmem::Int = 5\u001b[39m: algorithm parameter, see \u001b[36mLBFGSParameterSet\u001b[39m.\n",
       "\n",
       "    •  \u001b[36matol::T = √eps(T)\u001b[39m: absolute tolerance.\n",
       "\n",
       "    •  \u001b[36mrtol::T = √eps(T)\u001b[39m: relative tolerance, the algorithm stops when\n",
       "       ‖∇f(xᵏ)‖ ≤ atol + rtol * ‖∇f(x⁰)‖.\n",
       "\n",
       "    •  \u001b[36mmax_eval::Int = -1\u001b[39m: maximum number of objective function\n",
       "       evaluations.\n",
       "\n",
       "    •  \u001b[36mmax_time::Float64 = 30.0\u001b[39m: maximum time limit in seconds.\n",
       "\n",
       "    •  \u001b[36mmax_iter::Int = typemax(Int)\u001b[39m: maximum number of iterations.\n",
       "\n",
       "    •  \u001b[36mτ₁::T = T(0.9999)\u001b[39m: algorithm parameter, see \u001b[36mLBFGSParameterSet\u001b[39m.\n",
       "\n",
       "    •  \u001b[36mbk_max:: Int = 25\u001b[39m: algorithm parameter, see \u001b[36mLBFGSParameterSet\u001b[39m.\n",
       "\n",
       "    •  \u001b[36mverbose::Int = 0\u001b[39m: if > 0, display iteration details every \u001b[36mverbose\u001b[39m\n",
       "       iteration.\n",
       "\n",
       "    •  \u001b[36mverbose_subsolver::Int = 0\u001b[39m: if > 0, display iteration information\n",
       "       every \u001b[36mverbose_subsolver\u001b[39m iteration of the subsolver.\n",
       "\n",
       "\u001b[1m  Output\u001b[22m\n",
       "\u001b[1m  ≡≡≡≡≡≡\u001b[22m\n",
       "\n",
       "  The returned value is a \u001b[36mGenericExecutionStats\u001b[39m, see \u001b[36mSolverCore.jl\u001b[39m.\n",
       "\n",
       "\u001b[1m  Callback\u001b[22m\n",
       "\u001b[1m  ≡≡≡≡≡≡≡≡\u001b[22m\n",
       "\n",
       "  The callback is called at each iteration. The expected signature of the\n",
       "  callback is \u001b[36mcallback(nlp, solver, stats)\u001b[39m, and its output is ignored.\n",
       "  Changing any of the input arguments will affect the subsequent iterations.\n",
       "  In particular, setting \u001b[36mstats.status = :user\u001b[39m will stop the algorithm. All\n",
       "  relevant information should be available in \u001b[36mnlp\u001b[39m and \u001b[36msolver\u001b[39m. Notably, you can\n",
       "  access, and modify, the following:\n",
       "\n",
       "    •  \u001b[36msolver.x\u001b[39m: current iterate;\n",
       "\n",
       "    •  \u001b[36msolver.gx\u001b[39m: current gradient;\n",
       "\n",
       "    •  \u001b[36mstats\u001b[39m: structure holding the output of the algorithm\n",
       "       (\u001b[36mGenericExecutionStats\u001b[39m), which contains, among other things:\n",
       "       • \u001b[36mstats.dual_feas\u001b[39m: norm of the residual, for instance, the\n",
       "       norm of the gradient for unconstrained problems;\n",
       "       • \u001b[36mstats.iter\u001b[39m: current iteration counter;\n",
       "       • \u001b[36mstats.objective\u001b[39m: current objective function value;\n",
       "       • \u001b[36mstats.status\u001b[39m: current status of the algorithm. Should be\n",
       "       \u001b[36m:unknown\u001b[39m unless the algorithm attained a stopping\n",
       "       criterion. Changing this to anything will stop the\n",
       "       algorithm, but you should use \u001b[36m:user\u001b[39m to properly indicate\n",
       "       the intention.\n",
       "       • \u001b[36mstats.elapsed_time\u001b[39m: elapsed time in seconds.\n",
       "\n",
       "\u001b[1m  Examples\u001b[22m\n",
       "\u001b[1m  ≡≡≡≡≡≡≡≡\u001b[22m\n",
       "\n",
       "\u001b[36m  using JSOSolvers, ADNLPModels\u001b[39m\n",
       "\u001b[36m  nlp = ADNLPModel(x -> sum(x.^2), ones(3));\u001b[39m\n",
       "\u001b[36m  stats = lbfgs(nlp)\u001b[39m\n",
       "\u001b[36m  \u001b[39m\n",
       "\u001b[36m  # output\u001b[39m\n",
       "\u001b[36m  \u001b[39m\n",
       "\u001b[36m  \"Execution stats: first-order stationary\"\u001b[39m\n",
       "\n",
       "\u001b[36m  using JSOSolvers, ADNLPModels\u001b[39m\n",
       "\u001b[36m  nlp = ADNLPModel(x -> sum(x.^2), ones(3));\u001b[39m\n",
       "\u001b[36m  solver = LBFGSSolver(nlp; mem = 5);\u001b[39m\n",
       "\u001b[36m  stats = solve!(solver, nlp)\u001b[39m\n",
       "\u001b[36m  \u001b[39m\n",
       "\u001b[36m  # output\u001b[39m\n",
       "\u001b[36m  \u001b[39m\n",
       "\u001b[36m  \"Execution stats: first-order stationary\"\u001b[39m"
      ]
     },
     "metadata": {},
     "output_type": "display_data"
    }
   ],
   "source": [
    "@doc JSOSolvers.lbfgs"
   ]
  },
  {
   "cell_type": "markdown",
   "id": "e44ed503-8c33-4426-9737-0d36db546957",
   "metadata": {},
   "source": [
    "## Loop over the problems"
   ]
  },
  {
   "cell_type": "markdown",
   "id": "be92733e-2203-41f2-a60b-cc19c17b12c8",
   "metadata": {},
   "source": [
    "First, we select a subset of the problems"
   ]
  },
  {
   "cell_type": "code",
   "execution_count": 26,
   "id": "79c99beb-061f-4308-8b40-2fdca57387a1",
   "metadata": {},
   "outputs": [
    {
     "data": {
      "text/plain": [
       "98-element Vector{String}:\n",
       " \"AMPGO02\"\n",
       " \"AMPGO03\"\n",
       " \"AMPGO04\"\n",
       " \"AMPGO05\"\n",
       " \"AMPGO06\"\n",
       " \"AMPGO07\"\n",
       " \"AMPGO08\"\n",
       " \"AMPGO09\"\n",
       " \"AMPGO10\"\n",
       " \"AMPGO11\"\n",
       " ⋮\n",
       " \"palmer7c\"\n",
       " \"palmer8c\"\n",
       " \"powellbs\"\n",
       " \"rat42\"\n",
       " \"rat43\"\n",
       " \"rosenbrock\"\n",
       " \"rozman1\"\n",
       " \"thurber\"\n",
       " \"vibrbeam\""
      ]
     },
     "metadata": {},
     "output_type": "display_data"
    }
   ],
   "source": [
    "meta = OptimizationProblems.meta\n",
    "problem_names = meta[meta.contype .== :unconstrained .&& .!meta.has_bounds .&& meta.nvar .<= 10, :name]; # LBFGS is an algorithm to solve unconstrained problems\n",
    "                                                                   # For this example, we select only problems of size up to 10."
   ]
  },
  {
   "cell_type": "code",
   "execution_count": 80,
   "id": "9e525eb6-38c6-46ab-83df-7cfeda571c70",
   "metadata": {},
   "outputs": [
    {
     "data": {
      "text/plain": [
       "(:ref, :size)"
      ]
     },
     "metadata": {},
     "output_type": "display_data"
    }
   ],
   "source": [
    "problems = [Meta.parse(\"OptimizationProblems.ADNLPProblems.eval($problem)()\") for problem ∈ problem_names]; # https://jso.dev/OptimizationProblems.jl/dev/benchmark/\n",
    "fieldnames(typeof(problems))"
   ]
  },
  {
   "cell_type": "code",
   "execution_count": 28,
   "id": "576c4b49-2915-4002-872c-b93b498b0e4d",
   "metadata": {},
   "outputs": [
    {
     "data": {
      "text/html": [
       "<div><div style = \"float: left;\"><span>0×0 DataFrame</span></div><div style = \"clear: both;\"></div></div><div class = \"data-frame\" style = \"overflow-x: scroll;\"><table class = \"data-frame\" style = \"margin-bottom: 6px;\"></table></div>"
      ],
      "text/latex": [
       "\\begin{tabular}{r|}\n",
       "\t& \\\\\n",
       "\t\\hline\n",
       "\t& \\\\\n",
       "\t\\hline\n",
       "\\end{tabular}\n"
      ],
      "text/plain": [
       "\u001b[1m0×0 DataFrame\u001b[0m"
      ]
     },
     "metadata": {},
     "output_type": "display_data"
    }
   ],
   "source": [
    "using DataFrames # we will use a DataFrame to store our results\n",
    "df = DataFrame()"
   ]
  },
  {
   "cell_type": "code",
   "execution_count": null,
   "id": "228d8e16-1db7-463e-bc79-53a40a9f4f73",
   "metadata": {},
   "outputs": [],
   "source": [
    "# i = 0\n",
    "# for pb_expr in problems\n",
    "#     nlp = eval(pb_expr)\n",
    "#     i += 1\n",
    "#     @info \"($i / $(length(problems)) Number of variables of problem $(nlp.meta.name) is $(nlp.meta.nvar)\"\n",
    "#     mem = 5\n",
    "#     try\n",
    "#     stats = JSOSolvers.lbfgs(nlp; mem = 5)\n",
    "#     push!(df, (; status = stats.status, name = nlp.meta.name, nvar = nlp.meta.nvar))\n",
    "#     catch e\n",
    "#         @info \"Solver failed on $(nlp.meta.name): $e\"\n",
    "#     end\n",
    "# end"
   ]
  },
  {
   "cell_type": "code",
   "execution_count": 70,
   "id": "bc7801df-0c43-4181-92e9-01f91f48a8ea",
   "metadata": {},
   "outputs": [],
   "source": [
    "df; # contains the result"
   ]
  },
  {
   "cell_type": "code",
   "execution_count": 71,
   "id": "241fd8ec-bc0d-424d-a4b9-59b1556e303d",
   "metadata": {},
   "outputs": [
    {
     "ename": "ArgumentError",
     "evalue": "ArgumentError: column name :status not found in the data frame",
     "output_type": "error",
     "traceback": [
      "ArgumentError: column name :status not found in the data frame\n",
      "\n",
      "Stacktrace:\n",
      " [1] lookupname\n",
      "   @ ~/.julia/packages/DataFrames/C5AEe/src/other/index.jl:431 [inlined]\n",
      " [2] getindex\n",
      "   @ ~/.julia/packages/DataFrames/C5AEe/src/other/index.jl:440 [inlined]\n",
      " [3] getindex(df::DataFrame, ::typeof(!), col_ind::Symbol)\n",
      "   @ DataFrames ~/.julia/packages/DataFrames/C5AEe/src/dataframe/dataframe.jl:557\n",
      " [4] top-level scope\n",
      "   @ ~/Desktop/Year3/STA378/OptimizationParameterTuning/Julia Notebook/C:\\Users\\tangi\\.julia\\dev\\FelixUoT/jl_notebook_cell_df34fa98e69747e1a8f8a730347b8e2f_X52sZmlsZQ==.jl:1"
     ]
    }
   ],
   "source": [
    "unique(df[!, :status]) # :first_order is a success, :unbounded too\n",
    "                       # :max_time may indicate that we should run the algorithms with `max_time` greater than default."
   ]
  },
  {
   "cell_type": "markdown",
   "id": "e24a946e",
   "metadata": {},
   "source": [
    "## Week1 "
   ]
  },
  {
   "cell_type": "markdown",
   "id": "a967adcc",
   "metadata": {},
   "source": [
    "Varying the mem parameters using the domain parameter to get the domain of the values."
   ]
  },
  {
   "cell_type": "code",
   "execution_count": 78,
   "id": "10668932",
   "metadata": {},
   "outputs": [
    {
     "data": {
      "text/plain": [
       "(:ref, :size)"
      ]
     },
     "metadata": {},
     "output_type": "display_data"
    }
   ],
   "source": [
    "methodswith(typeof(domain(param_set.mem)))\n",
    "fieldnames(typeof(problems))\n",
    "\n",
    "\n"
   ]
  },
  {
   "cell_type": "code",
   "execution_count": null,
   "id": "41b6bb79",
   "metadata": {},
   "outputs": [
    {
     "ename": "MethodError",
     "evalue": "MethodError: no method matching write(::IOStream, ::Expr)\nThis error has been manually thrown, explicitly, so the method may exist but be intentionally marked as unimplemented.\n\nClosest candidates are:\n  write(::IO, ::Any)\n   @ Base io.jl:792\n  write(::IO, ::Any, Any...)\n   @ Base io.jl:793\n  write(::IOStream, !Matched::UInt8)\n   @ Base iostream.jl:369\n  ...\n",
     "output_type": "error",
     "traceback": [
      "MethodError: no method matching write(::IOStream, ::Expr)\n",
      "This error has been manually thrown, explicitly, so the method may exist but be intentionally marked as unimplemented.\n",
      "\n",
      "Closest candidates are:\n",
      "  write(::IO, ::Any)\n",
      "   @ Base io.jl:792\n",
      "  write(::IO, ::Any, Any...)\n",
      "   @ Base io.jl:793\n",
      "  write(::IOStream, !Matched::UInt8)\n",
      "   @ Base iostream.jl:369\n",
      "  ...\n",
      "\n",
      "\n",
      "Stacktrace:\n",
      " [1] write(io::IOStream, x::Expr)\n",
      "   @ Base ./io.jl:792\n",
      " [2] (::var\"#47#48\")(f::IOStream)\n",
      "   @ Main ~/Desktop/Year3/STA378/OptimizationParameterTuning/Julia Notebook/C:\\Users\\tangi\\.julia\\dev\\FelixUoT/jl_notebook_cell_df34fa98e69747e1a8f8a730347b8e2f_X56sZmlsZQ==.jl:9\n",
      " [3] open(::var\"#47#48\", ::String, ::Vararg{String}; kwargs::@Kwargs{})\n",
      "   @ Base ./io.jl:410\n",
      " [4] open(::Function, ::String, ::String)\n",
      "   @ Base ./io.jl:407\n",
      " [5] top-level scope\n",
      "   @ ~/Desktop/Year3/STA378/OptimizationParameterTuning/Julia Notebook/C:\\Users\\tangi\\.julia\\dev\\FelixUoT/jl_notebook_cell_df34fa98e69747e1a8f8a730347b8e2f_X56sZmlsZQ==.jl:3"
     ]
    }
   ],
   "source": [
    "using CSV, DataFrames\n",
    "fname = tempname();\n",
    "df = DataFrame(Problem class = [],\n",
    "                Solver = [],\n",
    "                Runtime = [],\n",
    "                Memory used = [],\n",
    "                Number of steps to solve = [],\n",
    "                Number of vector-matrix opeartions = [])\n",
    "    i = 0\n",
    "    for pb_expr in problems\n",
    "        \n",
    "        lbfgs = eval(pb_expr)\n",
    "        i += 1\n",
    "        param_set = JSOSolvers.LBFGSParameterSet(lbfgs)\n",
    "        r = domain(param_set.mem)\n",
    "        for mem in r.lower:r.upper\n",
    "            try\n",
    "            stats = JSOSolvers.lbfgs(nlp; mem)\n",
    "            push!(df, (; status = stats.status, name = nlp.meta.name, nvar = nlp.meta.nvar))\n",
    "            catch e\n",
    "                @info \"Solver failed on $(nlp.meta.name): $e\"\n",
    "            end\n",
    "        end\n",
    "    end\n",
    "end\n",
    "end"
   ]
  }
 ],
 "metadata": {
  "kernelspec": {
   "display_name": "Julia 1.11.5",
   "language": "julia",
   "name": "julia-1.11"
  },
  "language_info": {
   "file_extension": ".jl",
   "mimetype": "application/julia",
   "name": "julia",
   "version": "1.11.5"
  }
 },
 "nbformat": 4,
 "nbformat_minor": 5
}
