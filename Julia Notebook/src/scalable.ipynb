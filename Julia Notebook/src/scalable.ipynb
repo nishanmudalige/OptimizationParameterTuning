{
 "cells": [
  {
   "cell_type": "code",
   "execution_count": 1,
   "id": "bd86a77d",
   "metadata": {},
   "outputs": [],
   "source": [
    "using OptimizationProblems"
   ]
  },
  {
   "cell_type": "code",
   "execution_count": 51,
   "id": "b118a9d2",
   "metadata": {},
   "outputs": [
    {
     "data": {
      "text/html": [
       "<div><div style = \"float: left;\"><span>79×2 DataFrame</span></div><div style = \"float: right; font-style: italic;\"><span>54 rows omitted</span></div><div style = \"clear: both;\"></div></div><div class = \"data-frame\" style = \"overflow-x: scroll;\"><table class = \"data-frame\" style = \"margin-bottom: 6px;\"><thead><tr class = \"columnLabelRow\"><th class = \"stubheadLabel\" style = \"font-weight: bold; text-align: right;\">Row</th><th style = \"text-align: left;\">nvar</th><th style = \"text-align: left;\">name</th></tr><tr class = \"columnLabelRow\"><th class = \"stubheadLabel\" style = \"font-weight: bold; text-align: right;\"></th><th title = \"Int64\" style = \"text-align: left;\">Int64</th><th title = \"String\" style = \"text-align: left;\">String</th></tr></thead><tbody><tr class = \"dataRow\"><td class = \"rowLabel\" style = \"font-weight: bold; text-align: right;\">1</td><td style = \"text-align: right;\">91</td><td style = \"text-align: left;\">NZF1</td></tr><tr class = \"dataRow\"><td class = \"rowLabel\" style = \"font-weight: bold; text-align: right;\">2</td><td style = \"text-align: right;\">100</td><td style = \"text-align: left;\">arglina</td></tr><tr class = \"dataRow\"><td class = \"rowLabel\" style = \"font-weight: bold; text-align: right;\">3</td><td style = \"text-align: right;\">100</td><td style = \"text-align: left;\">arglinb</td></tr><tr class = \"dataRow\"><td class = \"rowLabel\" style = \"font-weight: bold; text-align: right;\">4</td><td style = \"text-align: right;\">100</td><td style = \"text-align: left;\">arglinc</td></tr><tr class = \"dataRow\"><td class = \"rowLabel\" style = \"font-weight: bold; text-align: right;\">5</td><td style = \"text-align: right;\">100</td><td style = \"text-align: left;\">argtrig</td></tr><tr class = \"dataRow\"><td class = \"rowLabel\" style = \"font-weight: bold; text-align: right;\">6</td><td style = \"text-align: right;\">100</td><td style = \"text-align: left;\">arwhead</td></tr><tr class = \"dataRow\"><td class = \"rowLabel\" style = \"font-weight: bold; text-align: right;\">7</td><td style = \"text-align: right;\">100</td><td style = \"text-align: left;\">bdqrtic</td></tr><tr class = \"dataRow\"><td class = \"rowLabel\" style = \"font-weight: bold; text-align: right;\">8</td><td style = \"text-align: right;\">100</td><td style = \"text-align: left;\">brownal</td></tr><tr class = \"dataRow\"><td class = \"rowLabel\" style = \"font-weight: bold; text-align: right;\">9</td><td style = \"text-align: right;\">100</td><td style = \"text-align: left;\">broyden3d</td></tr><tr class = \"dataRow\"><td class = \"rowLabel\" style = \"font-weight: bold; text-align: right;\">10</td><td style = \"text-align: right;\">100</td><td style = \"text-align: left;\">broydn7d</td></tr><tr class = \"dataRow\"><td class = \"rowLabel\" style = \"font-weight: bold; text-align: right;\">11</td><td style = \"text-align: right;\">100</td><td style = \"text-align: left;\">brybnd</td></tr><tr class = \"dataRow\"><td class = \"rowLabel\" style = \"font-weight: bold; text-align: right;\">12</td><td style = \"text-align: right;\">100</td><td style = \"text-align: left;\">chainwoo</td></tr><tr class = \"dataRow\"><td class = \"rowLabel\" style = \"font-weight: bold; text-align: right;\">13</td><td style = \"text-align: right;\">100</td><td style = \"text-align: left;\">chnrosnb_mod</td></tr><tr><td style = \"text-align: right;\">&vellip;</td><td style = \"text-align: right;\">&vellip;</td><td style = \"text-align: left;\">&vellip;</td></tr><tr class = \"dataRow\"><td class = \"rowLabel\" style = \"font-weight: bold; text-align: right;\">68</td><td style = \"text-align: right;\">100</td><td style = \"text-align: left;\">schmvett</td></tr><tr class = \"dataRow\"><td class = \"rowLabel\" style = \"font-weight: bold; text-align: right;\">69</td><td style = \"text-align: right;\">100</td><td style = \"text-align: left;\">scosine</td></tr><tr class = \"dataRow\"><td class = \"rowLabel\" style = \"font-weight: bold; text-align: right;\">70</td><td style = \"text-align: right;\">100</td><td style = \"text-align: left;\">sinquad</td></tr><tr class = \"dataRow\"><td class = \"rowLabel\" style = \"font-weight: bold; text-align: right;\">71</td><td style = \"text-align: right;\">100</td><td style = \"text-align: left;\">sparsine</td></tr><tr class = \"dataRow\"><td class = \"rowLabel\" style = \"font-weight: bold; text-align: right;\">72</td><td style = \"text-align: right;\">100</td><td style = \"text-align: left;\">sparsqur</td></tr><tr class = \"dataRow\"><td class = \"rowLabel\" style = \"font-weight: bold; text-align: right;\">73</td><td style = \"text-align: right;\">100</td><td style = \"text-align: left;\">spmsrtls</td></tr><tr class = \"dataRow\"><td class = \"rowLabel\" style = \"font-weight: bold; text-align: right;\">74</td><td style = \"text-align: right;\">100</td><td style = \"text-align: left;\">srosenbr</td></tr><tr class = \"dataRow\"><td class = \"rowLabel\" style = \"font-weight: bold; text-align: right;\">75</td><td style = \"text-align: right;\">100</td><td style = \"text-align: left;\">tointgss</td></tr><tr class = \"dataRow\"><td class = \"rowLabel\" style = \"font-weight: bold; text-align: right;\">76</td><td style = \"text-align: right;\">100</td><td style = \"text-align: left;\">tquartic</td></tr><tr class = \"dataRow\"><td class = \"rowLabel\" style = \"font-weight: bold; text-align: right;\">77</td><td style = \"text-align: right;\">100</td><td style = \"text-align: left;\">tridia</td></tr><tr class = \"dataRow\"><td class = \"rowLabel\" style = \"font-weight: bold; text-align: right;\">78</td><td style = \"text-align: right;\">100</td><td style = \"text-align: left;\">vardim</td></tr><tr class = \"dataRow\"><td class = \"rowLabel\" style = \"font-weight: bold; text-align: right;\">79</td><td style = \"text-align: right;\">100</td><td style = \"text-align: left;\">woods</td></tr></tbody></table></div>"
      ],
      "text/latex": [
       "\\begin{tabular}{r|cc}\n",
       "\t& nvar & name\\\\\n",
       "\t\\hline\n",
       "\t& Int64 & String\\\\\n",
       "\t\\hline\n",
       "\t1 & 91 & NZF1 \\\\\n",
       "\t2 & 100 & arglina \\\\\n",
       "\t3 & 100 & arglinb \\\\\n",
       "\t4 & 100 & arglinc \\\\\n",
       "\t5 & 100 & argtrig \\\\\n",
       "\t6 & 100 & arwhead \\\\\n",
       "\t7 & 100 & bdqrtic \\\\\n",
       "\t8 & 100 & brownal \\\\\n",
       "\t9 & 100 & broyden3d \\\\\n",
       "\t10 & 100 & broydn7d \\\\\n",
       "\t11 & 100 & brybnd \\\\\n",
       "\t12 & 100 & chainwoo \\\\\n",
       "\t13 & 100 & chnrosnb\\_mod \\\\\n",
       "\t14 & 100 & clplatea \\\\\n",
       "\t15 & 100 & clplateb \\\\\n",
       "\t16 & 100 & clplatec \\\\\n",
       "\t17 & 100 & cosine \\\\\n",
       "\t18 & 100 & cragglvy \\\\\n",
       "\t19 & 100 & cragglvy2 \\\\\n",
       "\t20 & 100 & curly \\\\\n",
       "\t21 & 100 & curly10 \\\\\n",
       "\t22 & 100 & curly20 \\\\\n",
       "\t23 & 100 & curly30 \\\\\n",
       "\t24 & 99 & dixmaane \\\\\n",
       "\t$\\dots$ & $\\dots$ & $\\dots$ \\\\\n",
       "\\end{tabular}\n"
      ],
      "text/plain": [
       "\u001b[1m79×2 DataFrame\u001b[0m\n",
       "\u001b[1m Row \u001b[0m│\u001b[1m nvar  \u001b[0m\u001b[1m name     \u001b[0m\n",
       "\u001b[1m     \u001b[0m│\u001b[90m Int64 \u001b[0m\u001b[90m String   \u001b[0m\n",
       "─────┼─────────────────\n",
       "   1 │    91  NZF1\n",
       "   2 │   100  arglina\n",
       "   3 │   100  arglinb\n",
       "   4 │   100  arglinc\n",
       "   5 │   100  argtrig\n",
       "   6 │   100  arwhead\n",
       "   7 │   100  bdqrtic\n",
       "   8 │   100  brownal\n",
       "  ⋮  │   ⋮       ⋮\n",
       "  73 │   100  spmsrtls\n",
       "  74 │   100  srosenbr\n",
       "  75 │   100  tointgss\n",
       "  76 │   100  tquartic\n",
       "  77 │   100  tridia\n",
       "  78 │   100  vardim\n",
       "  79 │   100  woods\n",
       "\u001b[36m        64 rows omitted\u001b[0m"
      ]
     },
     "metadata": {},
     "output_type": "display_data"
    }
   ],
   "source": [
    "    meta = OptimizationProblems.meta\n",
    "\n",
    "    # Dataframe contains all the scalable problems\n",
    "    scalable_problem_names = meta[meta.contype .== :unconstrained .&& .!meta.has_bounds .&& (meta.variable_nvar .== true) .&& (meta.ncon .== 0), [:nvar, :name]]"
   ]
  },
  {
   "cell_type": "code",
   "execution_count": 52,
   "id": "25377e8a",
   "metadata": {},
   "outputs": [
    {
     "data": {
      "text/plain": [
       "1-element Vector{String}:\n",
       " \"penalty3\""
      ]
     },
     "metadata": {},
     "output_type": "display_data"
    }
   ],
   "source": [
    "scalable_problem_names = scalable_problem_names.name[63:63]"
   ]
  },
  {
   "cell_type": "code",
   "execution_count": 39,
   "id": "c265c447",
   "metadata": {},
   "outputs": [
    {
     "data": {
      "text/plain": [
       "Base.Generator{RowSlices{Matrix{String}, Tuple{Base.OneTo{Int64}}, SubArray{String, 1, Matrix{String}, Tuple{Int64, Base.Slice{Base.OneTo{Int64}}}, true}}, var\"#15#16\"}(var\"#15#16\"(), SubArray{String, 1, Matrix{String}, Tuple{Int64, Base.Slice{Base.OneTo{Int64}}}, true}[[\"penalty3\"], [\"powellsg\"], [\"power\"], [\"quartc\"], [\"sbrybnd\"], [\"schmvett\"], [\"scosine\"], [\"sinquad\"], [\"sparsine\"], [\"sparsqur\"], [\"spmsrtls\"], [\"srosenbr\"], [\"tointgss\"], [\"tquartic\"], [\"tridia\"], [\"vardim\"], [\"woods\"]])"
      ]
     },
     "metadata": {},
     "output_type": "display_data"
    }
   ],
   "source": [
    "scalable_problems = (eval(Meta.parse(\"OptimizationProblems.ADNLPProblems.$(row.name)\")) for row in eachrow(scalable_problem_names))"
   ]
  },
  {
   "cell_type": "code",
   "execution_count": 60,
   "id": "79fdc3f7",
   "metadata": {},
   "outputs": [
    {
     "ename": "LoadError",
     "evalue": "LoadError: MethodError: no method matching var\"@timed\"(::LineNumberNode, ::Module)\nThe function `@timed` exists, but no method is defined for this combination of argument types.\n\nClosest candidates are:\n  var\"@timed\"(::LineNumberNode, ::Module, !Matched::Any)\n   @ Base timing.jl:572\n\nin expression starting at /home/gaoyuc10/OptimizationParameterTuning/Julia Notebook/src/jl_notebook_cell_df34fa98e69747e1a8f8a730347b8e2f_X12sdnNjb2RlLXJlbW90ZQ==.jl:1",
     "output_type": "error",
     "traceback": [
      "LoadError: MethodError: no method matching var\"@timed\"(::LineNumberNode, ::Module)\n",
      "The function `@timed` exists, but no method is defined for this combination of argument types.\n",
      "\n",
      "Closest candidates are:\n",
      "  var\"@timed\"(::LineNumberNode, ::Module, !Matched::Any)\n",
      "   @ Base timing.jl:572\n",
      "\n",
      "in expression starting at /home/gaoyuc10/OptimizationParameterTuning/Julia Notebook/src/jl_notebook_cell_df34fa98e69747e1a8f8a730347b8e2f_X12sdnNjb2RlLXJlbW90ZQ==.jl:1\n",
      "\n",
      "Stacktrace:\n",
      "  [1] eval\n",
      "    @ ./boot.jl:430 [inlined]\n",
      "  [2] include_string(mapexpr::typeof(REPL.softscope), mod::Module, code::String, filename::String)\n",
      "    @ Base ./loading.jl:2734\n",
      "  [3] #invokelatest#2\n",
      "    @ ./essentials.jl:1055 [inlined]\n",
      "  [4] invokelatest\n",
      "    @ ./essentials.jl:1052 [inlined]\n",
      "  [5] (::VSCodeServer.var\"#217#218\"{VSCodeServer.NotebookRunCellArguments, String})()\n",
      "    @ VSCodeServer ~/.vscode-server/extensions/julialang.language-julia-1.149.2/scripts/packages/VSCodeServer/src/serve_notebook.jl:24\n",
      "  [6] withpath(f::VSCodeServer.var\"#217#218\"{VSCodeServer.NotebookRunCellArguments, String}, path::String)\n",
      "    @ VSCodeServer ~/.vscode-server/extensions/julialang.language-julia-1.149.2/scripts/packages/VSCodeServer/src/repl.jl:276\n",
      "  [7] notebook_runcell_request(conn::VSCodeServer.JSONRPC.JSONRPCEndpoint{Base.PipeEndpoint, Base.PipeEndpoint, VSCodeServer.JSON.Serializations.StandardSerialization}, params::VSCodeServer.NotebookRunCellArguments, token::VSCodeServer.CancellationTokens.CancellationToken)\n",
      "    @ VSCodeServer ~/.vscode-server/extensions/julialang.language-julia-1.149.2/scripts/packages/VSCodeServer/src/serve_notebook.jl:13\n",
      "  [8] dispatch_msg(x::VSCodeServer.JSONRPC.JSONRPCEndpoint{Base.PipeEndpoint, Base.PipeEndpoint, VSCodeServer.JSON.Serializations.StandardSerialization}, dispatcher::VSCodeServer.JSONRPC.MsgDispatcher, msg::VSCodeServer.JSONRPC.Request)\n",
      "    @ VSCodeServer.JSONRPC ~/.vscode-server/extensions/julialang.language-julia-1.149.2/scripts/packages/JSONRPC/src/typed.jl:68\n",
      "  [9] serve_notebook(pipename::String, debugger_pipename::String, outputchannel_logger::Base.CoreLogging.SimpleLogger; error_handler::var\"#5#10\"{String})\n",
      "    @ VSCodeServer ~/.vscode-server/extensions/julialang.language-julia-1.149.2/scripts/packages/VSCodeServer/src/serve_notebook.jl:147\n",
      " [10] top-level scope\n",
      "    @ ~/.vscode-server/extensions/julialang.language-julia-1.149.2/scripts/notebook/notebook.jl:35"
     ]
    }
   ],
   "source": [
    "fieldname(typeof(@timed))"
   ]
  },
  {
   "cell_type": "code",
   "execution_count": null,
   "id": "f540d7dc",
   "metadata": {},
   "outputs": [],
   "source": []
  }
 ],
 "metadata": {
  "kernelspec": {
   "display_name": "Julia 1.11.7",
   "language": "julia",
   "name": "julia-1.11"
  },
  "language_info": {
   "file_extension": ".jl",
   "mimetype": "application/julia",
   "name": "julia",
   "version": "1.11.7"
  }
 },
 "nbformat": 4,
 "nbformat_minor": 5
}
